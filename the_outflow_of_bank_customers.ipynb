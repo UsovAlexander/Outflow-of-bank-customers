{
 "cells": [
  {
   "cell_type": "markdown",
   "metadata": {
    "id": "e2GmzP2O0elM"
   },
   "source": [
    "# The outflow bank customers"
   ]
  },
  {
   "cell_type": "markdown",
   "metadata": {
    "id": "UZi4hsLdiiov"
   },
   "source": [
    "## Introduction"
   ]
  },
  {
   "cell_type": "markdown",
   "metadata": {
    "id": "5YBlL0IR0elN"
   },
   "source": [
    "Customers began to leave the bank every month. Bank marketers have calculated that it is cheaper to retain current customers than to attract new ones.\n",
    "\n",
    "It is necessary to predict whether the client will leave the bank in the near future or not. We have historical data on the behavior of customers and the termination of contracts with the bank. \n",
    "\n",
    "We need to build a model with an extremely large value of *F1*-measures. \n",
    "\n",
    "Additionally measure *AUC-ROC*, compare its value with *F1*-measure.\n",
    "\n",
    "Data source: [https://www.kaggle.com/barelydedicated/bank-customer-churn-modeling](https://www.kaggle.com/barelydedicated/bank-customer-churn-modeling)\n"
   ]
  },
  {
   "cell_type": "markdown",
   "metadata": {
    "id": "QuYO4m8I0elN"
   },
   "source": [
    "## Preprocessing data"
   ]
  },
  {
   "cell_type": "code",
   "execution_count": 1,
   "metadata": {
    "colab": {
     "base_uri": "https://localhost:8080/"
    },
    "id": "F1gjfO_JE-yY",
    "outputId": "ac8dc2a5-a83c-4868-cb6c-f62f075962ed"
   },
   "outputs": [
    {
     "name": "stdout",
     "output_type": "stream",
     "text": [
      "Looking in indexes: https://pypi.org/simple, https://us-python.pkg.dev/colab-wheels/public/simple/\n",
      "Requirement already satisfied: lightgbm in /usr/local/lib/python3.10/dist-packages (3.3.5)\n",
      "Requirement already satisfied: wheel in /usr/local/lib/python3.10/dist-packages (from lightgbm) (0.40.0)\n",
      "Requirement already satisfied: numpy in /usr/local/lib/python3.10/dist-packages (from lightgbm) (1.22.4)\n",
      "Requirement already satisfied: scipy in /usr/local/lib/python3.10/dist-packages (from lightgbm) (1.10.1)\n",
      "Requirement already satisfied: scikit-learn!=0.22.0 in /usr/local/lib/python3.10/dist-packages (from lightgbm) (1.2.2)\n",
      "Requirement already satisfied: joblib>=1.1.1 in /usr/local/lib/python3.10/dist-packages (from scikit-learn!=0.22.0->lightgbm) (1.2.0)\n",
      "Requirement already satisfied: threadpoolctl>=2.0.0 in /usr/local/lib/python3.10/dist-packages (from scikit-learn!=0.22.0->lightgbm) (3.1.0)\n"
     ]
    }
   ],
   "source": [
    "!pip install -U lightgbm"
   ]
  },
  {
   "cell_type": "code",
   "execution_count": 2,
   "metadata": {
    "colab": {
     "base_uri": "https://localhost:8080/"
    },
    "id": "iQnmOm5ZArJD",
    "outputId": "27a6b645-cb11-412e-b595-ea29a76e0fcb"
   },
   "outputs": [
    {
     "name": "stdout",
     "output_type": "stream",
     "text": [
      "Looking in indexes: https://pypi.org/simple, https://us-python.pkg.dev/colab-wheels/public/simple/\n",
      "Requirement already satisfied: catboost in /usr/local/lib/python3.10/dist-packages (1.2)\n",
      "Requirement already satisfied: graphviz in /usr/local/lib/python3.10/dist-packages (from catboost) (0.20.1)\n",
      "Requirement already satisfied: matplotlib in /usr/local/lib/python3.10/dist-packages (from catboost) (3.7.1)\n",
      "Requirement already satisfied: numpy>=1.16.0 in /usr/local/lib/python3.10/dist-packages (from catboost) (1.22.4)\n",
      "Requirement already satisfied: pandas>=0.24 in /usr/local/lib/python3.10/dist-packages (from catboost) (1.5.3)\n",
      "Requirement already satisfied: scipy in /usr/local/lib/python3.10/dist-packages (from catboost) (1.10.1)\n",
      "Requirement already satisfied: plotly in /usr/local/lib/python3.10/dist-packages (from catboost) (5.13.1)\n",
      "Requirement already satisfied: six in /usr/local/lib/python3.10/dist-packages (from catboost) (1.16.0)\n",
      "Requirement already satisfied: python-dateutil>=2.8.1 in /usr/local/lib/python3.10/dist-packages (from pandas>=0.24->catboost) (2.8.2)\n",
      "Requirement already satisfied: pytz>=2020.1 in /usr/local/lib/python3.10/dist-packages (from pandas>=0.24->catboost) (2022.7.1)\n",
      "Requirement already satisfied: contourpy>=1.0.1 in /usr/local/lib/python3.10/dist-packages (from matplotlib->catboost) (1.0.7)\n",
      "Requirement already satisfied: cycler>=0.10 in /usr/local/lib/python3.10/dist-packages (from matplotlib->catboost) (0.11.0)\n",
      "Requirement already satisfied: fonttools>=4.22.0 in /usr/local/lib/python3.10/dist-packages (from matplotlib->catboost) (4.39.3)\n",
      "Requirement already satisfied: kiwisolver>=1.0.1 in /usr/local/lib/python3.10/dist-packages (from matplotlib->catboost) (1.4.4)\n",
      "Requirement already satisfied: packaging>=20.0 in /usr/local/lib/python3.10/dist-packages (from matplotlib->catboost) (23.1)\n",
      "Requirement already satisfied: pillow>=6.2.0 in /usr/local/lib/python3.10/dist-packages (from matplotlib->catboost) (8.4.0)\n",
      "Requirement already satisfied: pyparsing>=2.3.1 in /usr/local/lib/python3.10/dist-packages (from matplotlib->catboost) (3.0.9)\n",
      "Requirement already satisfied: tenacity>=6.2.0 in /usr/local/lib/python3.10/dist-packages (from plotly->catboost) (8.2.2)\n"
     ]
    }
   ],
   "source": [
    "!pip install -U catboost"
   ]
  },
  {
   "cell_type": "code",
   "execution_count": 3,
   "metadata": {
    "colab": {
     "base_uri": "https://localhost:8080/"
    },
    "id": "iRmDgX8rFauB",
    "outputId": "4d83f150-ce52-4a48-f8b7-d9c11b155992"
   },
   "outputs": [
    {
     "name": "stdout",
     "output_type": "stream",
     "text": [
      "Looking in indexes: https://pypi.org/simple, https://us-python.pkg.dev/colab-wheels/public/simple/\n",
      "Requirement already satisfied: phik in /usr/local/lib/python3.10/dist-packages (0.12.3)\n",
      "Requirement already satisfied: numpy>=1.18.0 in /usr/local/lib/python3.10/dist-packages (from phik) (1.22.4)\n",
      "Requirement already satisfied: scipy>=1.5.2 in /usr/local/lib/python3.10/dist-packages (from phik) (1.10.1)\n",
      "Requirement already satisfied: pandas>=0.25.1 in /usr/local/lib/python3.10/dist-packages (from phik) (1.5.3)\n",
      "Requirement already satisfied: matplotlib>=2.2.3 in /usr/local/lib/python3.10/dist-packages (from phik) (3.7.1)\n",
      "Requirement already satisfied: joblib>=0.14.1 in /usr/local/lib/python3.10/dist-packages (from phik) (1.2.0)\n",
      "Requirement already satisfied: contourpy>=1.0.1 in /usr/local/lib/python3.10/dist-packages (from matplotlib>=2.2.3->phik) (1.0.7)\n",
      "Requirement already satisfied: cycler>=0.10 in /usr/local/lib/python3.10/dist-packages (from matplotlib>=2.2.3->phik) (0.11.0)\n",
      "Requirement already satisfied: fonttools>=4.22.0 in /usr/local/lib/python3.10/dist-packages (from matplotlib>=2.2.3->phik) (4.39.3)\n",
      "Requirement already satisfied: kiwisolver>=1.0.1 in /usr/local/lib/python3.10/dist-packages (from matplotlib>=2.2.3->phik) (1.4.4)\n",
      "Requirement already satisfied: packaging>=20.0 in /usr/local/lib/python3.10/dist-packages (from matplotlib>=2.2.3->phik) (23.1)\n",
      "Requirement already satisfied: pillow>=6.2.0 in /usr/local/lib/python3.10/dist-packages (from matplotlib>=2.2.3->phik) (8.4.0)\n",
      "Requirement already satisfied: pyparsing>=2.3.1 in /usr/local/lib/python3.10/dist-packages (from matplotlib>=2.2.3->phik) (3.0.9)\n",
      "Requirement already satisfied: python-dateutil>=2.7 in /usr/local/lib/python3.10/dist-packages (from matplotlib>=2.2.3->phik) (2.8.2)\n",
      "Requirement already satisfied: pytz>=2020.1 in /usr/local/lib/python3.10/dist-packages (from pandas>=0.25.1->phik) (2022.7.1)\n",
      "Requirement already satisfied: six>=1.5 in /usr/local/lib/python3.10/dist-packages (from python-dateutil>=2.7->matplotlib>=2.2.3->phik) (1.16.0)\n"
     ]
    }
   ],
   "source": [
    "!pip install phik"
   ]
  },
  {
   "cell_type": "code",
   "execution_count": 4,
   "metadata": {
    "id": "mU-8yv180elO"
   },
   "outputs": [],
   "source": [
    "import warnings\n",
    "\n",
    "import pandas as pd\n",
    "import numpy as np\n",
    "import matplotlib.pyplot as plt\n",
    "import seaborn as sns\n",
    "import phik\n",
    "\n",
    "from sklearn.preprocessing import StandardScaler, OneHotEncoder\n",
    "from sklearn.impute import SimpleImputer\n",
    "from sklearn.model_selection import train_test_split, GridSearchCV\n",
    "from sklearn.metrics import ConfusionMatrixDisplay, f1_score, roc_curve, roc_auc_score\n",
    "from sklearn.utils import shuffle\n",
    "from sklearn.compose import ColumnTransformer\n",
    "from imblearn.pipeline import Pipeline\n",
    "from imblearn.over_sampling import RandomOverSampler, SMOTE\n",
    "from imblearn.under_sampling import RandomUnderSampler\n",
    "\n",
    "from sklearn.linear_model import LogisticRegression\n",
    "from lightgbm import LGBMClassifier\n",
    "from catboost import CatBoostClassifier\n",
    "\n",
    "RANDOM_STATE = 42\n",
    "warnings.filterwarnings(\"ignore\")\n",
    "plt.style.use('dark_background')"
   ]
  },
  {
   "cell_type": "code",
   "execution_count": 5,
   "metadata": {
    "id": "hM5GpFuF0elQ"
   },
   "outputs": [],
   "source": [
    "df = pd.read_csv('https://code.s3.yandex.net/datasets/Churn.csv')"
   ]
  },
  {
   "cell_type": "code",
   "execution_count": 6,
   "metadata": {
    "colab": {
     "base_uri": "https://localhost:8080/",
     "height": 206
    },
    "id": "guxlHSFXCzJ2",
    "outputId": "ba7198e3-f6f0-4fa0-9f61-7573d53ea103"
   },
   "outputs": [
    {
     "data": {
      "text/html": [
       "\n",
       "  <div id=\"df-3e75d6e3-b1bf-4b2f-b4ff-3d796587ce6f\">\n",
       "    <div class=\"colab-df-container\">\n",
       "      <div>\n",
       "<style scoped>\n",
       "    .dataframe tbody tr th:only-of-type {\n",
       "        vertical-align: middle;\n",
       "    }\n",
       "\n",
       "    .dataframe tbody tr th {\n",
       "        vertical-align: top;\n",
       "    }\n",
       "\n",
       "    .dataframe thead th {\n",
       "        text-align: right;\n",
       "    }\n",
       "</style>\n",
       "<table border=\"1\" class=\"dataframe\">\n",
       "  <thead>\n",
       "    <tr style=\"text-align: right;\">\n",
       "      <th></th>\n",
       "      <th>RowNumber</th>\n",
       "      <th>CustomerId</th>\n",
       "      <th>Surname</th>\n",
       "      <th>CreditScore</th>\n",
       "      <th>Geography</th>\n",
       "      <th>Gender</th>\n",
       "      <th>Age</th>\n",
       "      <th>Tenure</th>\n",
       "      <th>Balance</th>\n",
       "      <th>NumOfProducts</th>\n",
       "      <th>HasCrCard</th>\n",
       "      <th>IsActiveMember</th>\n",
       "      <th>EstimatedSalary</th>\n",
       "      <th>Exited</th>\n",
       "    </tr>\n",
       "  </thead>\n",
       "  <tbody>\n",
       "    <tr>\n",
       "      <th>0</th>\n",
       "      <td>1</td>\n",
       "      <td>15634602</td>\n",
       "      <td>Hargrave</td>\n",
       "      <td>619</td>\n",
       "      <td>France</td>\n",
       "      <td>Female</td>\n",
       "      <td>42</td>\n",
       "      <td>2.0</td>\n",
       "      <td>0.00</td>\n",
       "      <td>1</td>\n",
       "      <td>1</td>\n",
       "      <td>1</td>\n",
       "      <td>101348.88</td>\n",
       "      <td>1</td>\n",
       "    </tr>\n",
       "    <tr>\n",
       "      <th>1</th>\n",
       "      <td>2</td>\n",
       "      <td>15647311</td>\n",
       "      <td>Hill</td>\n",
       "      <td>608</td>\n",
       "      <td>Spain</td>\n",
       "      <td>Female</td>\n",
       "      <td>41</td>\n",
       "      <td>1.0</td>\n",
       "      <td>83807.86</td>\n",
       "      <td>1</td>\n",
       "      <td>0</td>\n",
       "      <td>1</td>\n",
       "      <td>112542.58</td>\n",
       "      <td>0</td>\n",
       "    </tr>\n",
       "    <tr>\n",
       "      <th>2</th>\n",
       "      <td>3</td>\n",
       "      <td>15619304</td>\n",
       "      <td>Onio</td>\n",
       "      <td>502</td>\n",
       "      <td>France</td>\n",
       "      <td>Female</td>\n",
       "      <td>42</td>\n",
       "      <td>8.0</td>\n",
       "      <td>159660.80</td>\n",
       "      <td>3</td>\n",
       "      <td>1</td>\n",
       "      <td>0</td>\n",
       "      <td>113931.57</td>\n",
       "      <td>1</td>\n",
       "    </tr>\n",
       "    <tr>\n",
       "      <th>3</th>\n",
       "      <td>4</td>\n",
       "      <td>15701354</td>\n",
       "      <td>Boni</td>\n",
       "      <td>699</td>\n",
       "      <td>France</td>\n",
       "      <td>Female</td>\n",
       "      <td>39</td>\n",
       "      <td>1.0</td>\n",
       "      <td>0.00</td>\n",
       "      <td>2</td>\n",
       "      <td>0</td>\n",
       "      <td>0</td>\n",
       "      <td>93826.63</td>\n",
       "      <td>0</td>\n",
       "    </tr>\n",
       "    <tr>\n",
       "      <th>4</th>\n",
       "      <td>5</td>\n",
       "      <td>15737888</td>\n",
       "      <td>Mitchell</td>\n",
       "      <td>850</td>\n",
       "      <td>Spain</td>\n",
       "      <td>Female</td>\n",
       "      <td>43</td>\n",
       "      <td>2.0</td>\n",
       "      <td>125510.82</td>\n",
       "      <td>1</td>\n",
       "      <td>1</td>\n",
       "      <td>1</td>\n",
       "      <td>79084.10</td>\n",
       "      <td>0</td>\n",
       "    </tr>\n",
       "  </tbody>\n",
       "</table>\n",
       "</div>\n",
       "      <button class=\"colab-df-convert\" onclick=\"convertToInteractive('df-3e75d6e3-b1bf-4b2f-b4ff-3d796587ce6f')\"\n",
       "              title=\"Convert this dataframe to an interactive table.\"\n",
       "              style=\"display:none;\">\n",
       "        \n",
       "  <svg xmlns=\"http://www.w3.org/2000/svg\" height=\"24px\"viewBox=\"0 0 24 24\"\n",
       "       width=\"24px\">\n",
       "    <path d=\"M0 0h24v24H0V0z\" fill=\"none\"/>\n",
       "    <path d=\"M18.56 5.44l.94 2.06.94-2.06 2.06-.94-2.06-.94-.94-2.06-.94 2.06-2.06.94zm-11 1L8.5 8.5l.94-2.06 2.06-.94-2.06-.94L8.5 2.5l-.94 2.06-2.06.94zm10 10l.94 2.06.94-2.06 2.06-.94-2.06-.94-.94-2.06-.94 2.06-2.06.94z\"/><path d=\"M17.41 7.96l-1.37-1.37c-.4-.4-.92-.59-1.43-.59-.52 0-1.04.2-1.43.59L10.3 9.45l-7.72 7.72c-.78.78-.78 2.05 0 2.83L4 21.41c.39.39.9.59 1.41.59.51 0 1.02-.2 1.41-.59l7.78-7.78 2.81-2.81c.8-.78.8-2.07 0-2.86zM5.41 20L4 18.59l7.72-7.72 1.47 1.35L5.41 20z\"/>\n",
       "  </svg>\n",
       "      </button>\n",
       "      \n",
       "  <style>\n",
       "    .colab-df-container {\n",
       "      display:flex;\n",
       "      flex-wrap:wrap;\n",
       "      gap: 12px;\n",
       "    }\n",
       "\n",
       "    .colab-df-convert {\n",
       "      background-color: #E8F0FE;\n",
       "      border: none;\n",
       "      border-radius: 50%;\n",
       "      cursor: pointer;\n",
       "      display: none;\n",
       "      fill: #1967D2;\n",
       "      height: 32px;\n",
       "      padding: 0 0 0 0;\n",
       "      width: 32px;\n",
       "    }\n",
       "\n",
       "    .colab-df-convert:hover {\n",
       "      background-color: #E2EBFA;\n",
       "      box-shadow: 0px 1px 2px rgba(60, 64, 67, 0.3), 0px 1px 3px 1px rgba(60, 64, 67, 0.15);\n",
       "      fill: #174EA6;\n",
       "    }\n",
       "\n",
       "    [theme=dark] .colab-df-convert {\n",
       "      background-color: #3B4455;\n",
       "      fill: #D2E3FC;\n",
       "    }\n",
       "\n",
       "    [theme=dark] .colab-df-convert:hover {\n",
       "      background-color: #434B5C;\n",
       "      box-shadow: 0px 1px 3px 1px rgba(0, 0, 0, 0.15);\n",
       "      filter: drop-shadow(0px 1px 2px rgba(0, 0, 0, 0.3));\n",
       "      fill: #FFFFFF;\n",
       "    }\n",
       "  </style>\n",
       "\n",
       "      <script>\n",
       "        const buttonEl =\n",
       "          document.querySelector('#df-3e75d6e3-b1bf-4b2f-b4ff-3d796587ce6f button.colab-df-convert');\n",
       "        buttonEl.style.display =\n",
       "          google.colab.kernel.accessAllowed ? 'block' : 'none';\n",
       "\n",
       "        async function convertToInteractive(key) {\n",
       "          const element = document.querySelector('#df-3e75d6e3-b1bf-4b2f-b4ff-3d796587ce6f');\n",
       "          const dataTable =\n",
       "            await google.colab.kernel.invokeFunction('convertToInteractive',\n",
       "                                                     [key], {});\n",
       "          if (!dataTable) return;\n",
       "\n",
       "          const docLinkHtml = 'Like what you see? Visit the ' +\n",
       "            '<a target=\"_blank\" href=https://colab.research.google.com/notebooks/data_table.ipynb>data table notebook</a>'\n",
       "            + ' to learn more about interactive tables.';\n",
       "          element.innerHTML = '';\n",
       "          dataTable['output_type'] = 'display_data';\n",
       "          await google.colab.output.renderOutput(dataTable, element);\n",
       "          const docLink = document.createElement('div');\n",
       "          docLink.innerHTML = docLinkHtml;\n",
       "          element.appendChild(docLink);\n",
       "        }\n",
       "      </script>\n",
       "    </div>\n",
       "  </div>\n",
       "  "
      ],
      "text/plain": [
       "   RowNumber  CustomerId   Surname  CreditScore Geography  Gender  Age  \\\n",
       "0          1    15634602  Hargrave          619    France  Female   42   \n",
       "1          2    15647311      Hill          608     Spain  Female   41   \n",
       "2          3    15619304      Onio          502    France  Female   42   \n",
       "3          4    15701354      Boni          699    France  Female   39   \n",
       "4          5    15737888  Mitchell          850     Spain  Female   43   \n",
       "\n",
       "   Tenure    Balance  NumOfProducts  HasCrCard  IsActiveMember  \\\n",
       "0     2.0       0.00              1          1               1   \n",
       "1     1.0   83807.86              1          0               1   \n",
       "2     8.0  159660.80              3          1               0   \n",
       "3     1.0       0.00              2          0               0   \n",
       "4     2.0  125510.82              1          1               1   \n",
       "\n",
       "   EstimatedSalary  Exited  \n",
       "0        101348.88       1  \n",
       "1        112542.58       0  \n",
       "2        113931.57       1  \n",
       "3         93826.63       0  \n",
       "4         79084.10       0  "
      ]
     },
     "execution_count": 6,
     "metadata": {},
     "output_type": "execute_result"
    }
   ],
   "source": [
    "df.head()"
   ]
  },
  {
   "cell_type": "markdown",
   "metadata": {
    "id": "VDGd2u5lIGNT"
   },
   "source": [
    "Get rid of useless features"
   ]
  },
  {
   "cell_type": "code",
   "execution_count": 7,
   "metadata": {
    "id": "jBUBnLR-0elQ"
   },
   "outputs": [],
   "source": [
    "df = df.drop(['Surname', 'RowNumber', 'CustomerId'], axis=1)"
   ]
  },
  {
   "cell_type": "markdown",
   "metadata": {
    "id": "sLUlV5CG0elR"
   },
   "source": [
    "### Check duplicates and missing value"
   ]
  },
  {
   "cell_type": "code",
   "execution_count": 8,
   "metadata": {
    "colab": {
     "base_uri": "https://localhost:8080/"
    },
    "id": "IRndRJ3M0elR",
    "outputId": "08477634-0936-4ecf-dd51-8ff9b341be1f"
   },
   "outputs": [
    {
     "name": "stdout",
     "output_type": "stream",
     "text": [
      "<class 'pandas.core.frame.DataFrame'>\n",
      "RangeIndex: 10000 entries, 0 to 9999\n",
      "Data columns (total 11 columns):\n",
      " #   Column           Non-Null Count  Dtype  \n",
      "---  ------           --------------  -----  \n",
      " 0   CreditScore      10000 non-null  int64  \n",
      " 1   Geography        10000 non-null  object \n",
      " 2   Gender           10000 non-null  object \n",
      " 3   Age              10000 non-null  int64  \n",
      " 4   Tenure           9091 non-null   float64\n",
      " 5   Balance          10000 non-null  float64\n",
      " 6   NumOfProducts    10000 non-null  int64  \n",
      " 7   HasCrCard        10000 non-null  int64  \n",
      " 8   IsActiveMember   10000 non-null  int64  \n",
      " 9   EstimatedSalary  10000 non-null  float64\n",
      " 10  Exited           10000 non-null  int64  \n",
      "dtypes: float64(3), int64(6), object(2)\n",
      "memory usage: 859.5+ KB\n"
     ]
    },
    {
     "data": {
      "text/plain": [
       "(0, None)"
      ]
     },
     "execution_count": 8,
     "metadata": {},
     "output_type": "execute_result"
    }
   ],
   "source": [
    "df.duplicated().sum(), df.info()"
   ]
  },
  {
   "cell_type": "code",
   "execution_count": 9,
   "metadata": {
    "colab": {
     "base_uri": "https://localhost:8080/"
    },
    "id": "91CjA-ug0elT",
    "outputId": "06a0fdad-a1de-4663-ba32-1d98ba33508b"
   },
   "outputs": [
    {
     "data": {
      "text/plain": [
       "CreditScore          0\n",
       "Geography            0\n",
       "Gender               0\n",
       "Age                  0\n",
       "Tenure             909\n",
       "Balance              0\n",
       "NumOfProducts        0\n",
       "HasCrCard            0\n",
       "IsActiveMember       0\n",
       "EstimatedSalary      0\n",
       "Exited               0\n",
       "dtype: int64"
      ]
     },
     "execution_count": 9,
     "metadata": {},
     "output_type": "execute_result"
    }
   ],
   "source": [
    "df.isna().sum()"
   ]
  },
  {
   "cell_type": "code",
   "execution_count": 10,
   "metadata": {
    "colab": {
     "base_uri": "https://localhost:8080/",
     "height": 300
    },
    "id": "5s8d9bW20elT",
    "outputId": "9e3797d4-13f6-474a-a91d-b6d9faec0dff"
   },
   "outputs": [
    {
     "data": {
      "text/html": [
       "\n",
       "  <div id=\"df-d6905b9f-38fa-46ae-9a8b-2b06196b1a80\">\n",
       "    <div class=\"colab-df-container\">\n",
       "      <div>\n",
       "<style scoped>\n",
       "    .dataframe tbody tr th:only-of-type {\n",
       "        vertical-align: middle;\n",
       "    }\n",
       "\n",
       "    .dataframe tbody tr th {\n",
       "        vertical-align: top;\n",
       "    }\n",
       "\n",
       "    .dataframe thead th {\n",
       "        text-align: right;\n",
       "    }\n",
       "</style>\n",
       "<table border=\"1\" class=\"dataframe\">\n",
       "  <thead>\n",
       "    <tr style=\"text-align: right;\">\n",
       "      <th></th>\n",
       "      <th>CreditScore</th>\n",
       "      <th>Age</th>\n",
       "      <th>Tenure</th>\n",
       "      <th>Balance</th>\n",
       "      <th>NumOfProducts</th>\n",
       "      <th>HasCrCard</th>\n",
       "      <th>IsActiveMember</th>\n",
       "      <th>EstimatedSalary</th>\n",
       "      <th>Exited</th>\n",
       "    </tr>\n",
       "  </thead>\n",
       "  <tbody>\n",
       "    <tr>\n",
       "      <th>count</th>\n",
       "      <td>10000.000000</td>\n",
       "      <td>10000.000000</td>\n",
       "      <td>9091.000000</td>\n",
       "      <td>10000.000000</td>\n",
       "      <td>10000.000000</td>\n",
       "      <td>10000.00000</td>\n",
       "      <td>10000.000000</td>\n",
       "      <td>10000.000000</td>\n",
       "      <td>10000.000000</td>\n",
       "    </tr>\n",
       "    <tr>\n",
       "      <th>mean</th>\n",
       "      <td>650.528800</td>\n",
       "      <td>38.921800</td>\n",
       "      <td>4.997690</td>\n",
       "      <td>76485.889288</td>\n",
       "      <td>1.530200</td>\n",
       "      <td>0.70550</td>\n",
       "      <td>0.515100</td>\n",
       "      <td>100090.239881</td>\n",
       "      <td>0.203700</td>\n",
       "    </tr>\n",
       "    <tr>\n",
       "      <th>std</th>\n",
       "      <td>96.653299</td>\n",
       "      <td>10.487806</td>\n",
       "      <td>2.894723</td>\n",
       "      <td>62397.405202</td>\n",
       "      <td>0.581654</td>\n",
       "      <td>0.45584</td>\n",
       "      <td>0.499797</td>\n",
       "      <td>57510.492818</td>\n",
       "      <td>0.402769</td>\n",
       "    </tr>\n",
       "    <tr>\n",
       "      <th>min</th>\n",
       "      <td>350.000000</td>\n",
       "      <td>18.000000</td>\n",
       "      <td>0.000000</td>\n",
       "      <td>0.000000</td>\n",
       "      <td>1.000000</td>\n",
       "      <td>0.00000</td>\n",
       "      <td>0.000000</td>\n",
       "      <td>11.580000</td>\n",
       "      <td>0.000000</td>\n",
       "    </tr>\n",
       "    <tr>\n",
       "      <th>25%</th>\n",
       "      <td>584.000000</td>\n",
       "      <td>32.000000</td>\n",
       "      <td>2.000000</td>\n",
       "      <td>0.000000</td>\n",
       "      <td>1.000000</td>\n",
       "      <td>0.00000</td>\n",
       "      <td>0.000000</td>\n",
       "      <td>51002.110000</td>\n",
       "      <td>0.000000</td>\n",
       "    </tr>\n",
       "    <tr>\n",
       "      <th>50%</th>\n",
       "      <td>652.000000</td>\n",
       "      <td>37.000000</td>\n",
       "      <td>5.000000</td>\n",
       "      <td>97198.540000</td>\n",
       "      <td>1.000000</td>\n",
       "      <td>1.00000</td>\n",
       "      <td>1.000000</td>\n",
       "      <td>100193.915000</td>\n",
       "      <td>0.000000</td>\n",
       "    </tr>\n",
       "    <tr>\n",
       "      <th>75%</th>\n",
       "      <td>718.000000</td>\n",
       "      <td>44.000000</td>\n",
       "      <td>7.000000</td>\n",
       "      <td>127644.240000</td>\n",
       "      <td>2.000000</td>\n",
       "      <td>1.00000</td>\n",
       "      <td>1.000000</td>\n",
       "      <td>149388.247500</td>\n",
       "      <td>0.000000</td>\n",
       "    </tr>\n",
       "    <tr>\n",
       "      <th>max</th>\n",
       "      <td>850.000000</td>\n",
       "      <td>92.000000</td>\n",
       "      <td>10.000000</td>\n",
       "      <td>250898.090000</td>\n",
       "      <td>4.000000</td>\n",
       "      <td>1.00000</td>\n",
       "      <td>1.000000</td>\n",
       "      <td>199992.480000</td>\n",
       "      <td>1.000000</td>\n",
       "    </tr>\n",
       "  </tbody>\n",
       "</table>\n",
       "</div>\n",
       "      <button class=\"colab-df-convert\" onclick=\"convertToInteractive('df-d6905b9f-38fa-46ae-9a8b-2b06196b1a80')\"\n",
       "              title=\"Convert this dataframe to an interactive table.\"\n",
       "              style=\"display:none;\">\n",
       "        \n",
       "  <svg xmlns=\"http://www.w3.org/2000/svg\" height=\"24px\"viewBox=\"0 0 24 24\"\n",
       "       width=\"24px\">\n",
       "    <path d=\"M0 0h24v24H0V0z\" fill=\"none\"/>\n",
       "    <path d=\"M18.56 5.44l.94 2.06.94-2.06 2.06-.94-2.06-.94-.94-2.06-.94 2.06-2.06.94zm-11 1L8.5 8.5l.94-2.06 2.06-.94-2.06-.94L8.5 2.5l-.94 2.06-2.06.94zm10 10l.94 2.06.94-2.06 2.06-.94-2.06-.94-.94-2.06-.94 2.06-2.06.94z\"/><path d=\"M17.41 7.96l-1.37-1.37c-.4-.4-.92-.59-1.43-.59-.52 0-1.04.2-1.43.59L10.3 9.45l-7.72 7.72c-.78.78-.78 2.05 0 2.83L4 21.41c.39.39.9.59 1.41.59.51 0 1.02-.2 1.41-.59l7.78-7.78 2.81-2.81c.8-.78.8-2.07 0-2.86zM5.41 20L4 18.59l7.72-7.72 1.47 1.35L5.41 20z\"/>\n",
       "  </svg>\n",
       "      </button>\n",
       "      \n",
       "  <style>\n",
       "    .colab-df-container {\n",
       "      display:flex;\n",
       "      flex-wrap:wrap;\n",
       "      gap: 12px;\n",
       "    }\n",
       "\n",
       "    .colab-df-convert {\n",
       "      background-color: #E8F0FE;\n",
       "      border: none;\n",
       "      border-radius: 50%;\n",
       "      cursor: pointer;\n",
       "      display: none;\n",
       "      fill: #1967D2;\n",
       "      height: 32px;\n",
       "      padding: 0 0 0 0;\n",
       "      width: 32px;\n",
       "    }\n",
       "\n",
       "    .colab-df-convert:hover {\n",
       "      background-color: #E2EBFA;\n",
       "      box-shadow: 0px 1px 2px rgba(60, 64, 67, 0.3), 0px 1px 3px 1px rgba(60, 64, 67, 0.15);\n",
       "      fill: #174EA6;\n",
       "    }\n",
       "\n",
       "    [theme=dark] .colab-df-convert {\n",
       "      background-color: #3B4455;\n",
       "      fill: #D2E3FC;\n",
       "    }\n",
       "\n",
       "    [theme=dark] .colab-df-convert:hover {\n",
       "      background-color: #434B5C;\n",
       "      box-shadow: 0px 1px 3px 1px rgba(0, 0, 0, 0.15);\n",
       "      filter: drop-shadow(0px 1px 2px rgba(0, 0, 0, 0.3));\n",
       "      fill: #FFFFFF;\n",
       "    }\n",
       "  </style>\n",
       "\n",
       "      <script>\n",
       "        const buttonEl =\n",
       "          document.querySelector('#df-d6905b9f-38fa-46ae-9a8b-2b06196b1a80 button.colab-df-convert');\n",
       "        buttonEl.style.display =\n",
       "          google.colab.kernel.accessAllowed ? 'block' : 'none';\n",
       "\n",
       "        async function convertToInteractive(key) {\n",
       "          const element = document.querySelector('#df-d6905b9f-38fa-46ae-9a8b-2b06196b1a80');\n",
       "          const dataTable =\n",
       "            await google.colab.kernel.invokeFunction('convertToInteractive',\n",
       "                                                     [key], {});\n",
       "          if (!dataTable) return;\n",
       "\n",
       "          const docLinkHtml = 'Like what you see? Visit the ' +\n",
       "            '<a target=\"_blank\" href=https://colab.research.google.com/notebooks/data_table.ipynb>data table notebook</a>'\n",
       "            + ' to learn more about interactive tables.';\n",
       "          element.innerHTML = '';\n",
       "          dataTable['output_type'] = 'display_data';\n",
       "          await google.colab.output.renderOutput(dataTable, element);\n",
       "          const docLink = document.createElement('div');\n",
       "          docLink.innerHTML = docLinkHtml;\n",
       "          element.appendChild(docLink);\n",
       "        }\n",
       "      </script>\n",
       "    </div>\n",
       "  </div>\n",
       "  "
      ],
      "text/plain": [
       "        CreditScore           Age       Tenure        Balance  NumOfProducts  \\\n",
       "count  10000.000000  10000.000000  9091.000000   10000.000000   10000.000000   \n",
       "mean     650.528800     38.921800     4.997690   76485.889288       1.530200   \n",
       "std       96.653299     10.487806     2.894723   62397.405202       0.581654   \n",
       "min      350.000000     18.000000     0.000000       0.000000       1.000000   \n",
       "25%      584.000000     32.000000     2.000000       0.000000       1.000000   \n",
       "50%      652.000000     37.000000     5.000000   97198.540000       1.000000   \n",
       "75%      718.000000     44.000000     7.000000  127644.240000       2.000000   \n",
       "max      850.000000     92.000000    10.000000  250898.090000       4.000000   \n",
       "\n",
       "         HasCrCard  IsActiveMember  EstimatedSalary        Exited  \n",
       "count  10000.00000    10000.000000     10000.000000  10000.000000  \n",
       "mean       0.70550        0.515100    100090.239881      0.203700  \n",
       "std        0.45584        0.499797     57510.492818      0.402769  \n",
       "min        0.00000        0.000000        11.580000      0.000000  \n",
       "25%        0.00000        0.000000     51002.110000      0.000000  \n",
       "50%        1.00000        1.000000    100193.915000      0.000000  \n",
       "75%        1.00000        1.000000    149388.247500      0.000000  \n",
       "max        1.00000        1.000000    199992.480000      1.000000  "
      ]
     },
     "execution_count": 10,
     "metadata": {},
     "output_type": "execute_result"
    }
   ],
   "source": [
    "df.describe()"
   ]
  },
  {
   "cell_type": "code",
   "execution_count": 11,
   "metadata": {
    "colab": {
     "base_uri": "https://localhost:8080/",
     "height": 449
    },
    "id": "ndU5G_S7ISjW",
    "outputId": "f36c3f5a-5081-4652-fe65-a3ee14058711"
   },
   "outputs": [
    {
     "data": {
      "image/png": "[encoded data removed]",
      "text/plain": [
       "<Figure size 640x480 with 1 Axes>"
      ]
     },
     "metadata": {},
     "output_type": "display_data"
    }
   ],
   "source": [
    "sns.histplot(df['Tenure']);"
   ]
  },
  {
   "cell_type": "markdown",
   "metadata": {
    "id": "bZr7jQW20elU"
   },
   "source": [
    "We have missing values in column \"Tenure\", change them median with the help of SimpleImputer in Pipeline"
   ]
  },
  {
   "cell_type": "code",
   "execution_count": 12,
   "metadata": {
    "colab": {
     "base_uri": "https://localhost:8080/",
     "height": 954
    },
    "id": "a_6JTc65eMc3",
    "outputId": "20977f50-a0fb-4f64-ad72-78908a01f722"
   },
   "outputs": [
    {
     "name": "stdout",
     "output_type": "stream",
     "text": [
      "interval columns not set, guessing: ['CreditScore', 'Age', 'Tenure', 'Balance', 'NumOfProducts', 'HasCrCard', 'IsActiveMember', 'EstimatedSalary', 'Exited']\n"
     ]
    },
    {
     "data": {
      "image/png": "[encoded data removed]",
      "text/plain": [
       "<Figure size 1000x1000 with 2 Axes>"
      ]
     },
     "metadata": {},
     "output_type": "display_data"
    }
   ],
   "source": [
    "plt.figure(figsize=(10, 10))\n",
    "sns.heatmap(df.phik_matrix(), cmap='Blues', annot=True);"
   ]
  },
  {
   "cell_type": "markdown",
   "metadata": {
    "id": "m4naBrAJ1yct"
   },
   "source": [
    "Multicollinearity was not detected. We also see that functions such as \"HasCrCard\" and \"EstimatedSalary\" have no correlation with the target function. Delete them."
   ]
  },
  {
   "cell_type": "markdown",
   "metadata": {
    "id": "m0t-cpnQ0elV"
   },
   "source": [
    "### Preparing features"
   ]
  },
  {
   "cell_type": "markdown",
   "metadata": {
    "id": "SxEfx47D0elV"
   },
   "source": [
    "Split dataframe into two sample"
   ]
  },
  {
   "cell_type": "code",
   "execution_count": 13,
   "metadata": {
    "id": "Tq88qBcB0elV",
    "scrolled": true
   },
   "outputs": [],
   "source": [
    "X = df.drop(['Exited', 'HasCrCard', 'EstimatedSalary'], axis=1)\n",
    "y = df['Exited']\n",
    "\n",
    "X_train, X_test, y_train, y_test = train_test_split(\n",
    "    X, y, test_size=0.2, shuffle=True, stratify=y, random_state=RANDOM_STATE)"
   ]
  },
  {
   "cell_type": "code",
   "execution_count": 14,
   "metadata": {
    "colab": {
     "base_uri": "https://localhost:8080/"
    },
    "id": "lBXc7_dGJ2tU",
    "outputId": "8e2a0d84-ba8b-4ace-d659-7e7b49fd46d3"
   },
   "outputs": [
    {
     "data": {
      "text/plain": [
       "((8000, 8), (2000, 8), (8000,), (2000,))"
      ]
     },
     "execution_count": 14,
     "metadata": {},
     "output_type": "execute_result"
    }
   ],
   "source": [
    "X_train.shape, X_test.shape, y_train.shape, y_test.shape"
   ]
  },
  {
   "cell_type": "markdown",
   "metadata": {
    "id": "053GGJecRAcd"
   },
   "source": [
    "Some features such as \"HasCrCard\" and \"IsActiveMember\" are categorical binary features, so we don't need encode them."
   ]
  },
  {
   "cell_type": "code",
   "execution_count": 15,
   "metadata": {
    "id": "AQmGCaBaMsAn"
   },
   "outputs": [],
   "source": [
    "cat_features = X.select_dtypes(include='object').columns.to_list()\n",
    "num_features = X.select_dtypes(exclude='object').columns.to_list()\n",
    "num_features.remove('IsActiveMember')"
   ]
  },
  {
   "cell_type": "code",
   "execution_count": 16,
   "metadata": {
    "colab": {
     "base_uri": "https://localhost:8080/"
    },
    "id": "3-OB1fhdPgSx",
    "outputId": "2096054b-e864-471f-95b5-0f60b0085bf2"
   },
   "outputs": [
    {
     "data": {
      "text/plain": [
       "(      CreditScore  Age  Tenure    Balance  NumOfProducts\n",
       " 0             619   42     2.0       0.00              1\n",
       " 1             608   41     1.0   83807.86              1\n",
       " 2             502   42     8.0  159660.80              3\n",
       " 3             699   39     1.0       0.00              2\n",
       " 4             850   43     2.0  125510.82              1\n",
       " ...           ...  ...     ...        ...            ...\n",
       " 9995          771   39     5.0       0.00              2\n",
       " 9996          516   35    10.0   57369.61              1\n",
       " 9997          709   36     7.0       0.00              1\n",
       " 9998          772   42     3.0   75075.31              2\n",
       " 9999          792   28     NaN  130142.79              1\n",
       " \n",
       " [10000 rows x 5 columns],\n",
       "      Geography  Gender\n",
       " 0       France  Female\n",
       " 1        Spain  Female\n",
       " 2       France  Female\n",
       " 3       France  Female\n",
       " 4        Spain  Female\n",
       " ...        ...     ...\n",
       " 9995    France    Male\n",
       " 9996    France    Male\n",
       " 9997    France  Female\n",
       " 9998   Germany    Male\n",
       " 9999    France  Female\n",
       " \n",
       " [10000 rows x 2 columns])"
      ]
     },
     "execution_count": 16,
     "metadata": {},
     "output_type": "execute_result"
    }
   ],
   "source": [
    "X[num_features], X[cat_features]"
   ]
  },
  {
   "cell_type": "code",
   "execution_count": 17,
   "metadata": {
    "colab": {
     "base_uri": "https://localhost:8080/"
    },
    "id": "ErTtrrj10elX",
    "outputId": "b9497699-d2b7-4560-d81b-054fc0194265",
    "scrolled": true
   },
   "outputs": [
    {
     "data": {
      "text/plain": [
       "0    0.79625\n",
       "1    0.20375\n",
       "Name: Exited, dtype: float64"
      ]
     },
     "execution_count": 17,
     "metadata": {},
     "output_type": "execute_result"
    }
   ],
   "source": [
    "y_train.value_counts(normalize=True)"
   ]
  },
  {
   "cell_type": "code",
   "execution_count": 18,
   "metadata": {
    "colab": {
     "base_uri": "https://localhost:8080/",
     "height": 333
    },
    "id": "lM0KCZP_VRm2",
    "outputId": "37b3b4cd-92e4-43e6-ce94-3042c46b3a69"
   },
   "outputs": [
    {
     "data": {
      "image/png": "[encoded data removed]",
      "text/plain": [
       "<Figure size 1000x300 with 2 Axes>"
      ]
     },
     "metadata": {},
     "output_type": "display_data"
    }
   ],
   "source": [
    "fig, (ax1, ax2) = plt.subplots(1, 2, figsize=(10, 3))\n",
    "\n",
    "ax1.scatter(X_train['CreditScore'], X_train['Age'], c=y_train, edgecolors='b')\n",
    "ax1.set_xlabel('CreditScore')\n",
    "ax1.set_ylabel('Age')\n",
    "ax1.set_title('Exited')\n",
    "plt.grid()\n",
    "\n",
    "sns.histplot(y, ax=ax2)\n",
    "ax2.set_title('Exited');"
   ]
  },
  {
   "cell_type": "markdown",
   "metadata": {
    "id": "HxOT0BDs0elX"
   },
   "source": [
    "There is an imbalance of classes in the training sample. We will investigate several models and check the effect of the imbalance on the quality of prediction."
   ]
  },
  {
   "cell_type": "markdown",
   "metadata": {
    "id": "hmx6U8em28dw"
   },
   "source": [
    "## Models Building"
   ]
  },
  {
   "cell_type": "markdown",
   "metadata": {
    "id": "tYvZ2w2u0elX"
   },
   "source": [
    "**Create function for searching the best model**"
   ]
  },
  {
   "cell_type": "code",
   "execution_count": 19,
   "metadata": {
    "id": "Kfl8ztNLIxvy"
   },
   "outputs": [],
   "source": [
    "# pipline for transforming columns\n",
    "numeric_transformer = Pipeline(\n",
    "    steps=[(\"imputer\", SimpleImputer(strategy=\"median\")),\n",
    "           (\"scaler\", StandardScaler())]\n",
    ")\n",
    "\n",
    "categorical_transformer = Pipeline(\n",
    "    steps=[(\"encoder\", OneHotEncoder(handle_unknown=\"ignore\"))]\n",
    ")\n",
    "preprocessor = ColumnTransformer(\n",
    "    transformers=[\n",
    "        (\"num\", numeric_transformer, num_features),\n",
    "        (\"cat\", categorical_transformer, cat_features)\n",
    "    ],\n",
    "    verbose_feature_names_out=False,\n",
    "    remainder='passthrough'\n",
    ")"
   ]
  },
  {
   "cell_type": "code",
   "execution_count": 20,
   "metadata": {
    "id": "rsYQwmAB0elY"
   },
   "outputs": [],
   "source": [
    "def clf_models(X_train, y_train, resampling=None, class_weight: str = None, class_weight_catboost: str = None):\n",
    "    models = []\n",
    "\n",
    "    # LogisticRegression\n",
    "    X_train_lr = X_train.copy()\n",
    "    y_train_lr = y_train.copy()\n",
    "\n",
    "    pipline_lr = Pipeline(\n",
    "        [(\"resamling\", resampling),\n",
    "         (\"preprocessor\", preprocessor),\n",
    "         (\"lr\", LogisticRegression(class_weight=class_weight, random_state=RANDOM_STATE))])\n",
    "\n",
    "    param_lr = {\"lr__C\": np.logspace(-5, 5, 11), }\n",
    "    grid_lr = GridSearchCV(pipline_lr, param_grid=param_lr,\n",
    "                           scoring='f1', cv=5, n_jobs=-1)\n",
    "    grid_lr.fit(X_train_lr, y_train_lr)\n",
    "    best_result_lr = pd.DataFrame(\n",
    "        grid_lr.cv_results_).sort_values('rank_test_score').head(1)\n",
    "    best_result_lr = best_result_lr[[\n",
    "        'mean_fit_time', 'params', 'mean_test_score']]\n",
    "    models.append(grid_lr.best_estimator_)\n",
    "\n",
    "    # LGBMClassifier\n",
    "    X_train_lgbm = X_train.copy()\n",
    "    y_train_lgbm = y_train.copy()\n",
    "\n",
    "    pipline_lgbm = Pipeline(\n",
    "        [(\"resamling\", resampling),\n",
    "         (\"preprocessor\", preprocessor),\n",
    "         (\"lgbm\", LGBMClassifier(class_weight=class_weight, random_state=RANDOM_STATE))])\n",
    "\n",
    "    param_lgbm = {'lgbm__max_depth': [3, 5, 7],\n",
    "                  'lgbm__n_estimators': [1000, 2000, 3000]}\n",
    "    grid_lgbm = GridSearchCV(\n",
    "        pipline_lgbm, param_grid=param_lgbm, scoring='f1', cv=5, n_jobs=-1)\n",
    "    grid_lgbm.fit(X_train_lgbm, y_train_lgbm)\n",
    "    best_result_lgbm = pd.DataFrame(\n",
    "        grid_lgbm.cv_results_).sort_values('rank_test_score').head(1)\n",
    "    best_result_lgbm = best_result_lgbm[[\n",
    "        'mean_fit_time', 'params', 'mean_test_score']]\n",
    "    models.append(grid_lgbm.best_estimator_)\n",
    "\n",
    "    # CatBoostClassifier\n",
    "    X_train_cb = X_train.copy()\n",
    "    y_train_cb = y_train.copy()\n",
    "\n",
    "    pipline_cb = Pipeline(\n",
    "        [(\"resamling\", resampling),\n",
    "         (\"preprocessor\", preprocessor),\n",
    "         (\"cb\", CatBoostClassifier(auto_class_weights=class_weight_catboost, random_state=RANDOM_STATE, verbose=False))])\n",
    "\n",
    "    param_cb = {'cb__max_depth': [3, 5, 7],\n",
    "                'cb__n_estimators': [1000, 2000, 3000]}\n",
    "    grid_cb = GridSearchCV(pipline_cb, param_grid=param_cb,\n",
    "                           scoring='f1', cv=5, n_jobs=-1)\n",
    "    grid_cb.fit(X_train_cb, y_train_cb)\n",
    "    best_result_cb = pd.DataFrame(\n",
    "        grid_cb.cv_results_).sort_values('rank_test_score').head(1)\n",
    "    best_result_cb = best_result_cb[[\n",
    "        'mean_fit_time', 'params', 'mean_test_score']]\n",
    "    models.append(grid_cb.best_estimator_)\n",
    "\n",
    "    # result\n",
    "    result = pd.concat([best_result_lr, best_result_lgbm, best_result_cb])\n",
    "    result.index = ['LogisticRegression',\n",
    "                    'LGBMClassifier', 'CatBoostClassifier']\n",
    "    display(result)\n",
    "    return models"
   ]
  },
  {
   "cell_type": "markdown",
   "metadata": {
    "id": "0jfx4VquiH9Q"
   },
   "source": [
    "### Default sample"
   ]
  },
  {
   "cell_type": "markdown",
   "metadata": {
    "id": "ZJhxZmofG8Vg"
   },
   "source": [
    "Training the model on the data without changes"
   ]
  },
  {
   "cell_type": "code",
   "execution_count": 21,
   "metadata": {
    "colab": {
     "base_uri": "https://localhost:8080/",
     "height": 143
    },
    "id": "7SGs5s8ajSlv",
    "outputId": "37b2d65d-e3e2-4527-91bf-b44ce8c1bac7"
   },
   "outputs": [
    {
     "data": {
      "text/html": [
       "\n",
       "  <div id=\"df-cf230fcf-1e6c-4fbc-9dd3-70bdcc3807ed\">\n",
       "    <div class=\"colab-df-container\">\n",
       "      <div>\n",
       "<style scoped>\n",
       "    .dataframe tbody tr th:only-of-type {\n",
       "        vertical-align: middle;\n",
       "    }\n",
       "\n",
       "    .dataframe tbody tr th {\n",
       "        vertical-align: top;\n",
       "    }\n",
       "\n",
       "    .dataframe thead th {\n",
       "        text-align: right;\n",
       "    }\n",
       "</style>\n",
       "<table border=\"1\" class=\"dataframe\">\n",
       "  <thead>\n",
       "    <tr style=\"text-align: right;\">\n",
       "      <th></th>\n",
       "      <th>mean_fit_time</th>\n",
       "      <th>params</th>\n",
       "      <th>mean_test_score</th>\n",
       "    </tr>\n",
       "  </thead>\n",
       "  <tbody>\n",
       "    <tr>\n",
       "      <th>LogisticRegression</th>\n",
       "      <td>0.111775</td>\n",
       "      <td>{'lr__C': 1.0}</td>\n",
       "      <td>0.317076</td>\n",
       "    </tr>\n",
       "    <tr>\n",
       "      <th>LGBMClassifier</th>\n",
       "      <td>1.091980</td>\n",
       "      <td>{'lgbm__max_depth': 3, 'lgbm__n_estimators': 1...</td>\n",
       "      <td>0.588499</td>\n",
       "    </tr>\n",
       "    <tr>\n",
       "      <th>CatBoostClassifier</th>\n",
       "      <td>8.868701</td>\n",
       "      <td>{'cb__max_depth': 5, 'cb__n_estimators': 2000}</td>\n",
       "      <td>0.593013</td>\n",
       "    </tr>\n",
       "  </tbody>\n",
       "</table>\n",
       "</div>\n",
       "      <button class=\"colab-df-convert\" onclick=\"convertToInteractive('df-cf230fcf-1e6c-4fbc-9dd3-70bdcc3807ed')\"\n",
       "              title=\"Convert this dataframe to an interactive table.\"\n",
       "              style=\"display:none;\">\n",
       "        \n",
       "  <svg xmlns=\"http://www.w3.org/2000/svg\" height=\"24px\"viewBox=\"0 0 24 24\"\n",
       "       width=\"24px\">\n",
       "    <path d=\"M0 0h24v24H0V0z\" fill=\"none\"/>\n",
       "    <path d=\"M18.56 5.44l.94 2.06.94-2.06 2.06-.94-2.06-.94-.94-2.06-.94 2.06-2.06.94zm-11 1L8.5 8.5l.94-2.06 2.06-.94-2.06-.94L8.5 2.5l-.94 2.06-2.06.94zm10 10l.94 2.06.94-2.06 2.06-.94-2.06-.94-.94-2.06-.94 2.06-2.06.94z\"/><path d=\"M17.41 7.96l-1.37-1.37c-.4-.4-.92-.59-1.43-.59-.52 0-1.04.2-1.43.59L10.3 9.45l-7.72 7.72c-.78.78-.78 2.05 0 2.83L4 21.41c.39.39.9.59 1.41.59.51 0 1.02-.2 1.41-.59l7.78-7.78 2.81-2.81c.8-.78.8-2.07 0-2.86zM5.41 20L4 18.59l7.72-7.72 1.47 1.35L5.41 20z\"/>\n",
       "  </svg>\n",
       "      </button>\n",
       "      \n",
       "  <style>\n",
       "    .colab-df-container {\n",
       "      display:flex;\n",
       "      flex-wrap:wrap;\n",
       "      gap: 12px;\n",
       "    }\n",
       "\n",
       "    .colab-df-convert {\n",
       "      background-color: #E8F0FE;\n",
       "      border: none;\n",
       "      border-radius: 50%;\n",
       "      cursor: pointer;\n",
       "      display: none;\n",
       "      fill: #1967D2;\n",
       "      height: 32px;\n",
       "      padding: 0 0 0 0;\n",
       "      width: 32px;\n",
       "    }\n",
       "\n",
       "    .colab-df-convert:hover {\n",
       "      background-color: #E2EBFA;\n",
       "      box-shadow: 0px 1px 2px rgba(60, 64, 67, 0.3), 0px 1px 3px 1px rgba(60, 64, 67, 0.15);\n",
       "      fill: #174EA6;\n",
       "    }\n",
       "\n",
       "    [theme=dark] .colab-df-convert {\n",
       "      background-color: #3B4455;\n",
       "      fill: #D2E3FC;\n",
       "    }\n",
       "\n",
       "    [theme=dark] .colab-df-convert:hover {\n",
       "      background-color: #434B5C;\n",
       "      box-shadow: 0px 1px 3px 1px rgba(0, 0, 0, 0.15);\n",
       "      filter: drop-shadow(0px 1px 2px rgba(0, 0, 0, 0.3));\n",
       "      fill: #FFFFFF;\n",
       "    }\n",
       "  </style>\n",
       "\n",
       "      <script>\n",
       "        const buttonEl =\n",
       "          document.querySelector('#df-cf230fcf-1e6c-4fbc-9dd3-70bdcc3807ed button.colab-df-convert');\n",
       "        buttonEl.style.display =\n",
       "          google.colab.kernel.accessAllowed ? 'block' : 'none';\n",
       "\n",
       "        async function convertToInteractive(key) {\n",
       "          const element = document.querySelector('#df-cf230fcf-1e6c-4fbc-9dd3-70bdcc3807ed');\n",
       "          const dataTable =\n",
       "            await google.colab.kernel.invokeFunction('convertToInteractive',\n",
       "                                                     [key], {});\n",
       "          if (!dataTable) return;\n",
       "\n",
       "          const docLinkHtml = 'Like what you see? Visit the ' +\n",
       "            '<a target=\"_blank\" href=https://colab.research.google.com/notebooks/data_table.ipynb>data table notebook</a>'\n",
       "            + ' to learn more about interactive tables.';\n",
       "          element.innerHTML = '';\n",
       "          dataTable['output_type'] = 'display_data';\n",
       "          await google.colab.output.renderOutput(dataTable, element);\n",
       "          const docLink = document.createElement('div');\n",
       "          docLink.innerHTML = docLinkHtml;\n",
       "          element.appendChild(docLink);\n",
       "        }\n",
       "      </script>\n",
       "    </div>\n",
       "  </div>\n",
       "  "
      ],
      "text/plain": [
       "                    mean_fit_time  \\\n",
       "LogisticRegression       0.111775   \n",
       "LGBMClassifier           1.091980   \n",
       "CatBoostClassifier       8.868701   \n",
       "\n",
       "                                                               params  \\\n",
       "LogisticRegression                                     {'lr__C': 1.0}   \n",
       "LGBMClassifier      {'lgbm__max_depth': 3, 'lgbm__n_estimators': 1...   \n",
       "CatBoostClassifier     {'cb__max_depth': 5, 'cb__n_estimators': 2000}   \n",
       "\n",
       "                    mean_test_score  \n",
       "LogisticRegression         0.317076  \n",
       "LGBMClassifier             0.588499  \n",
       "CatBoostClassifier         0.593013  "
      ]
     },
     "metadata": {},
     "output_type": "display_data"
    }
   ],
   "source": [
    "general_models = clf_models(X_train, y_train)"
   ]
  },
  {
   "cell_type": "markdown",
   "metadata": {
    "id": "V7kM4xIp0elX"
   },
   "source": [
    "According training results we can see that the best result of metric f1 isn't higher then 0.57. Let's try conducting work with imbalance."
   ]
  },
  {
   "cell_type": "markdown",
   "metadata": {
    "id": "Jk-b8pgP0elX"
   },
   "source": [
    "## Solving imbalanced classes"
   ]
  },
  {
   "cell_type": "markdown",
   "metadata": {
    "id": "t2p_Ecxh0elX"
   },
   "source": [
    "### Oversampling"
   ]
  },
  {
   "cell_type": "code",
   "execution_count": 22,
   "metadata": {
    "id": "0_gpSXAn0elX"
   },
   "outputs": [],
   "source": [
    "ros = RandomOverSampler(random_state=RANDOM_STATE)"
   ]
  },
  {
   "cell_type": "code",
   "execution_count": 23,
   "metadata": {
    "colab": {
     "base_uri": "https://localhost:8080/",
     "height": 143
    },
    "id": "WIHpxSYD0elX",
    "outputId": "aef9e896-63ae-4fe6-e1a6-4629751935a2"
   },
   "outputs": [
    {
     "data": {
      "text/html": [
       "\n",
       "  <div id=\"df-2b1207fc-3ee6-4855-9dd8-9bf0a8cb43af\">\n",
       "    <div class=\"colab-df-container\">\n",
       "      <div>\n",
       "<style scoped>\n",
       "    .dataframe tbody tr th:only-of-type {\n",
       "        vertical-align: middle;\n",
       "    }\n",
       "\n",
       "    .dataframe tbody tr th {\n",
       "        vertical-align: top;\n",
       "    }\n",
       "\n",
       "    .dataframe thead th {\n",
       "        text-align: right;\n",
       "    }\n",
       "</style>\n",
       "<table border=\"1\" class=\"dataframe\">\n",
       "  <thead>\n",
       "    <tr style=\"text-align: right;\">\n",
       "      <th></th>\n",
       "      <th>mean_fit_time</th>\n",
       "      <th>params</th>\n",
       "      <th>mean_test_score</th>\n",
       "    </tr>\n",
       "  </thead>\n",
       "  <tbody>\n",
       "    <tr>\n",
       "      <th>LogisticRegression</th>\n",
       "      <td>0.066001</td>\n",
       "      <td>{'lr__C': 0.001}</td>\n",
       "      <td>0.501713</td>\n",
       "    </tr>\n",
       "    <tr>\n",
       "      <th>LGBMClassifier</th>\n",
       "      <td>0.902785</td>\n",
       "      <td>{'lgbm__max_depth': 3, 'lgbm__n_estimators': 1...</td>\n",
       "      <td>0.594261</td>\n",
       "    </tr>\n",
       "    <tr>\n",
       "      <th>CatBoostClassifier</th>\n",
       "      <td>25.571475</td>\n",
       "      <td>{'cb__max_depth': 5, 'cb__n_estimators': 3000}</td>\n",
       "      <td>0.609340</td>\n",
       "    </tr>\n",
       "  </tbody>\n",
       "</table>\n",
       "</div>\n",
       "      <button class=\"colab-df-convert\" onclick=\"convertToInteractive('df-2b1207fc-3ee6-4855-9dd8-9bf0a8cb43af')\"\n",
       "              title=\"Convert this dataframe to an interactive table.\"\n",
       "              style=\"display:none;\">\n",
       "        \n",
       "  <svg xmlns=\"http://www.w3.org/2000/svg\" height=\"24px\"viewBox=\"0 0 24 24\"\n",
       "       width=\"24px\">\n",
       "    <path d=\"M0 0h24v24H0V0z\" fill=\"none\"/>\n",
       "    <path d=\"M18.56 5.44l.94 2.06.94-2.06 2.06-.94-2.06-.94-.94-2.06-.94 2.06-2.06.94zm-11 1L8.5 8.5l.94-2.06 2.06-.94-2.06-.94L8.5 2.5l-.94 2.06-2.06.94zm10 10l.94 2.06.94-2.06 2.06-.94-2.06-.94-.94-2.06-.94 2.06-2.06.94z\"/><path d=\"M17.41 7.96l-1.37-1.37c-.4-.4-.92-.59-1.43-.59-.52 0-1.04.2-1.43.59L10.3 9.45l-7.72 7.72c-.78.78-.78 2.05 0 2.83L4 21.41c.39.39.9.59 1.41.59.51 0 1.02-.2 1.41-.59l7.78-7.78 2.81-2.81c.8-.78.8-2.07 0-2.86zM5.41 20L4 18.59l7.72-7.72 1.47 1.35L5.41 20z\"/>\n",
       "  </svg>\n",
       "      </button>\n",
       "      \n",
       "  <style>\n",
       "    .colab-df-container {\n",
       "      display:flex;\n",
       "      flex-wrap:wrap;\n",
       "      gap: 12px;\n",
       "    }\n",
       "\n",
       "    .colab-df-convert {\n",
       "      background-color: #E8F0FE;\n",
       "      border: none;\n",
       "      border-radius: 50%;\n",
       "      cursor: pointer;\n",
       "      display: none;\n",
       "      fill: #1967D2;\n",
       "      height: 32px;\n",
       "      padding: 0 0 0 0;\n",
       "      width: 32px;\n",
       "    }\n",
       "\n",
       "    .colab-df-convert:hover {\n",
       "      background-color: #E2EBFA;\n",
       "      box-shadow: 0px 1px 2px rgba(60, 64, 67, 0.3), 0px 1px 3px 1px rgba(60, 64, 67, 0.15);\n",
       "      fill: #174EA6;\n",
       "    }\n",
       "\n",
       "    [theme=dark] .colab-df-convert {\n",
       "      background-color: #3B4455;\n",
       "      fill: #D2E3FC;\n",
       "    }\n",
       "\n",
       "    [theme=dark] .colab-df-convert:hover {\n",
       "      background-color: #434B5C;\n",
       "      box-shadow: 0px 1px 3px 1px rgba(0, 0, 0, 0.15);\n",
       "      filter: drop-shadow(0px 1px 2px rgba(0, 0, 0, 0.3));\n",
       "      fill: #FFFFFF;\n",
       "    }\n",
       "  </style>\n",
       "\n",
       "      <script>\n",
       "        const buttonEl =\n",
       "          document.querySelector('#df-2b1207fc-3ee6-4855-9dd8-9bf0a8cb43af button.colab-df-convert');\n",
       "        buttonEl.style.display =\n",
       "          google.colab.kernel.accessAllowed ? 'block' : 'none';\n",
       "\n",
       "        async function convertToInteractive(key) {\n",
       "          const element = document.querySelector('#df-2b1207fc-3ee6-4855-9dd8-9bf0a8cb43af');\n",
       "          const dataTable =\n",
       "            await google.colab.kernel.invokeFunction('convertToInteractive',\n",
       "                                                     [key], {});\n",
       "          if (!dataTable) return;\n",
       "\n",
       "          const docLinkHtml = 'Like what you see? Visit the ' +\n",
       "            '<a target=\"_blank\" href=https://colab.research.google.com/notebooks/data_table.ipynb>data table notebook</a>'\n",
       "            + ' to learn more about interactive tables.';\n",
       "          element.innerHTML = '';\n",
       "          dataTable['output_type'] = 'display_data';\n",
       "          await google.colab.output.renderOutput(dataTable, element);\n",
       "          const docLink = document.createElement('div');\n",
       "          docLink.innerHTML = docLinkHtml;\n",
       "          element.appendChild(docLink);\n",
       "        }\n",
       "      </script>\n",
       "    </div>\n",
       "  </div>\n",
       "  "
      ],
      "text/plain": [
       "                    mean_fit_time  \\\n",
       "LogisticRegression       0.066001   \n",
       "LGBMClassifier           0.902785   \n",
       "CatBoostClassifier      25.571475   \n",
       "\n",
       "                                                               params  \\\n",
       "LogisticRegression                                   {'lr__C': 0.001}   \n",
       "LGBMClassifier      {'lgbm__max_depth': 3, 'lgbm__n_estimators': 1...   \n",
       "CatBoostClassifier     {'cb__max_depth': 5, 'cb__n_estimators': 3000}   \n",
       "\n",
       "                    mean_test_score  \n",
       "LogisticRegression         0.501713  \n",
       "LGBMClassifier             0.594261  \n",
       "CatBoostClassifier         0.609340  "
      ]
     },
     "metadata": {},
     "output_type": "display_data"
    }
   ],
   "source": [
    "models_ros = clf_models(X_train, y_train, ros)"
   ]
  },
  {
   "cell_type": "markdown",
   "metadata": {
    "id": "PGPo0WaQ0elY"
   },
   "source": [
    "We got better results. Let's go on"
   ]
  },
  {
   "cell_type": "markdown",
   "metadata": {
    "id": "033-nTS60elY"
   },
   "source": [
    "### Undersampling"
   ]
  },
  {
   "cell_type": "code",
   "execution_count": 24,
   "metadata": {
    "id": "TjWlTKoj0elY"
   },
   "outputs": [],
   "source": [
    "rus = RandomUnderSampler(random_state=RANDOM_STATE)"
   ]
  },
  {
   "cell_type": "code",
   "execution_count": 25,
   "metadata": {
    "colab": {
     "base_uri": "https://localhost:8080/",
     "height": 143
    },
    "id": "_InyhnFN0elY",
    "outputId": "e1e2ed1c-bbb0-4ad6-c595-8f69d5a73c0e"
   },
   "outputs": [
    {
     "data": {
      "text/html": [
       "\n",
       "  <div id=\"df-9942bb13-643b-4029-a466-641c9ea957e4\">\n",
       "    <div class=\"colab-df-container\">\n",
       "      <div>\n",
       "<style scoped>\n",
       "    .dataframe tbody tr th:only-of-type {\n",
       "        vertical-align: middle;\n",
       "    }\n",
       "\n",
       "    .dataframe tbody tr th {\n",
       "        vertical-align: top;\n",
       "    }\n",
       "\n",
       "    .dataframe thead th {\n",
       "        text-align: right;\n",
       "    }\n",
       "</style>\n",
       "<table border=\"1\" class=\"dataframe\">\n",
       "  <thead>\n",
       "    <tr style=\"text-align: right;\">\n",
       "      <th></th>\n",
       "      <th>mean_fit_time</th>\n",
       "      <th>params</th>\n",
       "      <th>mean_test_score</th>\n",
       "    </tr>\n",
       "  </thead>\n",
       "  <tbody>\n",
       "    <tr>\n",
       "      <th>LogisticRegression</th>\n",
       "      <td>0.036524</td>\n",
       "      <td>{'lr__C': 0.01}</td>\n",
       "      <td>0.499254</td>\n",
       "    </tr>\n",
       "    <tr>\n",
       "      <th>LGBMClassifier</th>\n",
       "      <td>0.411590</td>\n",
       "      <td>{'lgbm__max_depth': 3, 'lgbm__n_estimators': 1...</td>\n",
       "      <td>0.568215</td>\n",
       "    </tr>\n",
       "    <tr>\n",
       "      <th>CatBoostClassifier</th>\n",
       "      <td>1.861103</td>\n",
       "      <td>{'cb__max_depth': 3, 'cb__n_estimators': 1000}</td>\n",
       "      <td>0.604386</td>\n",
       "    </tr>\n",
       "  </tbody>\n",
       "</table>\n",
       "</div>\n",
       "      <button class=\"colab-df-convert\" onclick=\"convertToInteractive('df-9942bb13-643b-4029-a466-641c9ea957e4')\"\n",
       "              title=\"Convert this dataframe to an interactive table.\"\n",
       "              style=\"display:none;\">\n",
       "        \n",
       "  <svg xmlns=\"http://www.w3.org/2000/svg\" height=\"24px\"viewBox=\"0 0 24 24\"\n",
       "       width=\"24px\">\n",
       "    <path d=\"M0 0h24v24H0V0z\" fill=\"none\"/>\n",
       "    <path d=\"M18.56 5.44l.94 2.06.94-2.06 2.06-.94-2.06-.94-.94-2.06-.94 2.06-2.06.94zm-11 1L8.5 8.5l.94-2.06 2.06-.94-2.06-.94L8.5 2.5l-.94 2.06-2.06.94zm10 10l.94 2.06.94-2.06 2.06-.94-2.06-.94-.94-2.06-.94 2.06-2.06.94z\"/><path d=\"M17.41 7.96l-1.37-1.37c-.4-.4-.92-.59-1.43-.59-.52 0-1.04.2-1.43.59L10.3 9.45l-7.72 7.72c-.78.78-.78 2.05 0 2.83L4 21.41c.39.39.9.59 1.41.59.51 0 1.02-.2 1.41-.59l7.78-7.78 2.81-2.81c.8-.78.8-2.07 0-2.86zM5.41 20L4 18.59l7.72-7.72 1.47 1.35L5.41 20z\"/>\n",
       "  </svg>\n",
       "      </button>\n",
       "      \n",
       "  <style>\n",
       "    .colab-df-container {\n",
       "      display:flex;\n",
       "      flex-wrap:wrap;\n",
       "      gap: 12px;\n",
       "    }\n",
       "\n",
       "    .colab-df-convert {\n",
       "      background-color: #E8F0FE;\n",
       "      border: none;\n",
       "      border-radius: 50%;\n",
       "      cursor: pointer;\n",
       "      display: none;\n",
       "      fill: #1967D2;\n",
       "      height: 32px;\n",
       "      padding: 0 0 0 0;\n",
       "      width: 32px;\n",
       "    }\n",
       "\n",
       "    .colab-df-convert:hover {\n",
       "      background-color: #E2EBFA;\n",
       "      box-shadow: 0px 1px 2px rgba(60, 64, 67, 0.3), 0px 1px 3px 1px rgba(60, 64, 67, 0.15);\n",
       "      fill: #174EA6;\n",
       "    }\n",
       "\n",
       "    [theme=dark] .colab-df-convert {\n",
       "      background-color: #3B4455;\n",
       "      fill: #D2E3FC;\n",
       "    }\n",
       "\n",
       "    [theme=dark] .colab-df-convert:hover {\n",
       "      background-color: #434B5C;\n",
       "      box-shadow: 0px 1px 3px 1px rgba(0, 0, 0, 0.15);\n",
       "      filter: drop-shadow(0px 1px 2px rgba(0, 0, 0, 0.3));\n",
       "      fill: #FFFFFF;\n",
       "    }\n",
       "  </style>\n",
       "\n",
       "      <script>\n",
       "        const buttonEl =\n",
       "          document.querySelector('#df-9942bb13-643b-4029-a466-641c9ea957e4 button.colab-df-convert');\n",
       "        buttonEl.style.display =\n",
       "          google.colab.kernel.accessAllowed ? 'block' : 'none';\n",
       "\n",
       "        async function convertToInteractive(key) {\n",
       "          const element = document.querySelector('#df-9942bb13-643b-4029-a466-641c9ea957e4');\n",
       "          const dataTable =\n",
       "            await google.colab.kernel.invokeFunction('convertToInteractive',\n",
       "                                                     [key], {});\n",
       "          if (!dataTable) return;\n",
       "\n",
       "          const docLinkHtml = 'Like what you see? Visit the ' +\n",
       "            '<a target=\"_blank\" href=https://colab.research.google.com/notebooks/data_table.ipynb>data table notebook</a>'\n",
       "            + ' to learn more about interactive tables.';\n",
       "          element.innerHTML = '';\n",
       "          dataTable['output_type'] = 'display_data';\n",
       "          await google.colab.output.renderOutput(dataTable, element);\n",
       "          const docLink = document.createElement('div');\n",
       "          docLink.innerHTML = docLinkHtml;\n",
       "          element.appendChild(docLink);\n",
       "        }\n",
       "      </script>\n",
       "    </div>\n",
       "  </div>\n",
       "  "
      ],
      "text/plain": [
       "                    mean_fit_time  \\\n",
       "LogisticRegression       0.036524   \n",
       "LGBMClassifier           0.411590   \n",
       "CatBoostClassifier       1.861103   \n",
       "\n",
       "                                                               params  \\\n",
       "LogisticRegression                                    {'lr__C': 0.01}   \n",
       "LGBMClassifier      {'lgbm__max_depth': 3, 'lgbm__n_estimators': 1...   \n",
       "CatBoostClassifier     {'cb__max_depth': 3, 'cb__n_estimators': 1000}   \n",
       "\n",
       "                    mean_test_score  \n",
       "LogisticRegression         0.499254  \n",
       "LGBMClassifier             0.568215  \n",
       "CatBoostClassifier         0.604386  "
      ]
     },
     "metadata": {},
     "output_type": "display_data"
    }
   ],
   "source": [
    "models_rus = clf_models(X_train, y_train, rus)"
   ]
  },
  {
   "cell_type": "markdown",
   "metadata": {
    "id": "8Qkt-wzU0elY"
   },
   "source": [
    "Undersampling method looks worse, perhaps we lack volume of data."
   ]
  },
  {
   "cell_type": "markdown",
   "metadata": {
    "id": "gMCzSceF0elY"
   },
   "source": [
    "### Weighting the classes"
   ]
  },
  {
   "cell_type": "code",
   "execution_count": 26,
   "metadata": {
    "colab": {
     "base_uri": "https://localhost:8080/",
     "height": 143
    },
    "id": "XA89aR8O0elY",
    "outputId": "81bdbabc-12f1-4be6-fad6-1e35ac78321c"
   },
   "outputs": [
    {
     "data": {
      "text/html": [
       "\n",
       "  <div id=\"df-6ebd7dd2-5986-496b-8ede-2322053640f5\">\n",
       "    <div class=\"colab-df-container\">\n",
       "      <div>\n",
       "<style scoped>\n",
       "    .dataframe tbody tr th:only-of-type {\n",
       "        vertical-align: middle;\n",
       "    }\n",
       "\n",
       "    .dataframe tbody tr th {\n",
       "        vertical-align: top;\n",
       "    }\n",
       "\n",
       "    .dataframe thead th {\n",
       "        text-align: right;\n",
       "    }\n",
       "</style>\n",
       "<table border=\"1\" class=\"dataframe\">\n",
       "  <thead>\n",
       "    <tr style=\"text-align: right;\">\n",
       "      <th></th>\n",
       "      <th>mean_fit_time</th>\n",
       "      <th>params</th>\n",
       "      <th>mean_test_score</th>\n",
       "    </tr>\n",
       "  </thead>\n",
       "  <tbody>\n",
       "    <tr>\n",
       "      <th>LogisticRegression</th>\n",
       "      <td>0.040164</td>\n",
       "      <td>{'lr__C': 0.01}</td>\n",
       "      <td>0.499568</td>\n",
       "    </tr>\n",
       "    <tr>\n",
       "      <th>LGBMClassifier</th>\n",
       "      <td>0.642695</td>\n",
       "      <td>{'lgbm__max_depth': 3, 'lgbm__n_estimators': 1...</td>\n",
       "      <td>0.601042</td>\n",
       "    </tr>\n",
       "    <tr>\n",
       "      <th>CatBoostClassifier</th>\n",
       "      <td>3.760881</td>\n",
       "      <td>{'cb__max_depth': 3, 'cb__n_estimators': 1000}</td>\n",
       "      <td>0.614085</td>\n",
       "    </tr>\n",
       "  </tbody>\n",
       "</table>\n",
       "</div>\n",
       "      <button class=\"colab-df-convert\" onclick=\"convertToInteractive('df-6ebd7dd2-5986-496b-8ede-2322053640f5')\"\n",
       "              title=\"Convert this dataframe to an interactive table.\"\n",
       "              style=\"display:none;\">\n",
       "        \n",
       "  <svg xmlns=\"http://www.w3.org/2000/svg\" height=\"24px\"viewBox=\"0 0 24 24\"\n",
       "       width=\"24px\">\n",
       "    <path d=\"M0 0h24v24H0V0z\" fill=\"none\"/>\n",
       "    <path d=\"M18.56 5.44l.94 2.06.94-2.06 2.06-.94-2.06-.94-.94-2.06-.94 2.06-2.06.94zm-11 1L8.5 8.5l.94-2.06 2.06-.94-2.06-.94L8.5 2.5l-.94 2.06-2.06.94zm10 10l.94 2.06.94-2.06 2.06-.94-2.06-.94-.94-2.06-.94 2.06-2.06.94z\"/><path d=\"M17.41 7.96l-1.37-1.37c-.4-.4-.92-.59-1.43-.59-.52 0-1.04.2-1.43.59L10.3 9.45l-7.72 7.72c-.78.78-.78 2.05 0 2.83L4 21.41c.39.39.9.59 1.41.59.51 0 1.02-.2 1.41-.59l7.78-7.78 2.81-2.81c.8-.78.8-2.07 0-2.86zM5.41 20L4 18.59l7.72-7.72 1.47 1.35L5.41 20z\"/>\n",
       "  </svg>\n",
       "      </button>\n",
       "      \n",
       "  <style>\n",
       "    .colab-df-container {\n",
       "      display:flex;\n",
       "      flex-wrap:wrap;\n",
       "      gap: 12px;\n",
       "    }\n",
       "\n",
       "    .colab-df-convert {\n",
       "      background-color: #E8F0FE;\n",
       "      border: none;\n",
       "      border-radius: 50%;\n",
       "      cursor: pointer;\n",
       "      display: none;\n",
       "      fill: #1967D2;\n",
       "      height: 32px;\n",
       "      padding: 0 0 0 0;\n",
       "      width: 32px;\n",
       "    }\n",
       "\n",
       "    .colab-df-convert:hover {\n",
       "      background-color: #E2EBFA;\n",
       "      box-shadow: 0px 1px 2px rgba(60, 64, 67, 0.3), 0px 1px 3px 1px rgba(60, 64, 67, 0.15);\n",
       "      fill: #174EA6;\n",
       "    }\n",
       "\n",
       "    [theme=dark] .colab-df-convert {\n",
       "      background-color: #3B4455;\n",
       "      fill: #D2E3FC;\n",
       "    }\n",
       "\n",
       "    [theme=dark] .colab-df-convert:hover {\n",
       "      background-color: #434B5C;\n",
       "      box-shadow: 0px 1px 3px 1px rgba(0, 0, 0, 0.15);\n",
       "      filter: drop-shadow(0px 1px 2px rgba(0, 0, 0, 0.3));\n",
       "      fill: #FFFFFF;\n",
       "    }\n",
       "  </style>\n",
       "\n",
       "      <script>\n",
       "        const buttonEl =\n",
       "          document.querySelector('#df-6ebd7dd2-5986-496b-8ede-2322053640f5 button.colab-df-convert');\n",
       "        buttonEl.style.display =\n",
       "          google.colab.kernel.accessAllowed ? 'block' : 'none';\n",
       "\n",
       "        async function convertToInteractive(key) {\n",
       "          const element = document.querySelector('#df-6ebd7dd2-5986-496b-8ede-2322053640f5');\n",
       "          const dataTable =\n",
       "            await google.colab.kernel.invokeFunction('convertToInteractive',\n",
       "                                                     [key], {});\n",
       "          if (!dataTable) return;\n",
       "\n",
       "          const docLinkHtml = 'Like what you see? Visit the ' +\n",
       "            '<a target=\"_blank\" href=https://colab.research.google.com/notebooks/data_table.ipynb>data table notebook</a>'\n",
       "            + ' to learn more about interactive tables.';\n",
       "          element.innerHTML = '';\n",
       "          dataTable['output_type'] = 'display_data';\n",
       "          await google.colab.output.renderOutput(dataTable, element);\n",
       "          const docLink = document.createElement('div');\n",
       "          docLink.innerHTML = docLinkHtml;\n",
       "          element.appendChild(docLink);\n",
       "        }\n",
       "      </script>\n",
       "    </div>\n",
       "  </div>\n",
       "  "
      ],
      "text/plain": [
       "                    mean_fit_time  \\\n",
       "LogisticRegression       0.040164   \n",
       "LGBMClassifier           0.642695   \n",
       "CatBoostClassifier       3.760881   \n",
       "\n",
       "                                                               params  \\\n",
       "LogisticRegression                                    {'lr__C': 0.01}   \n",
       "LGBMClassifier      {'lgbm__max_depth': 3, 'lgbm__n_estimators': 1...   \n",
       "CatBoostClassifier     {'cb__max_depth': 3, 'cb__n_estimators': 1000}   \n",
       "\n",
       "                    mean_test_score  \n",
       "LogisticRegression         0.499568  \n",
       "LGBMClassifier             0.601042  \n",
       "CatBoostClassifier         0.614085  "
      ]
     },
     "metadata": {},
     "output_type": "display_data"
    }
   ],
   "source": [
    "models_class_weight = clf_models(X_train, y_train, class_weight='balanced', class_weight_catboost='Balanced')"
   ]
  },
  {
   "cell_type": "markdown",
   "metadata": {
    "id": "oiT_Hube0elY"
   },
   "source": [
    "Weighting classes method didn't show us outstanding results. Let's look on test results"
   ]
  },
  {
   "cell_type": "markdown",
   "metadata": {
    "id": "B-aKiBcz0elY"
   },
   "source": [
    "## Test models"
   ]
  },
  {
   "cell_type": "code",
   "execution_count": 27,
   "metadata": {
    "colab": {
     "base_uri": "https://localhost:8080/",
     "height": 143
    },
    "id": "eKKcMM6lTLae",
    "outputId": "06718472-3534-42a6-d49f-95d25fbb099c"
   },
   "outputs": [
    {
     "data": {
      "text/html": [
       "\n",
       "  <div id=\"df-38d22dc6-710f-4eae-8ddf-3ea37dc63500\">\n",
       "    <div class=\"colab-df-container\">\n",
       "      <div>\n",
       "<style scoped>\n",
       "    .dataframe tbody tr th:only-of-type {\n",
       "        vertical-align: middle;\n",
       "    }\n",
       "\n",
       "    .dataframe tbody tr th {\n",
       "        vertical-align: top;\n",
       "    }\n",
       "\n",
       "    .dataframe thead th {\n",
       "        text-align: right;\n",
       "    }\n",
       "</style>\n",
       "<table border=\"1\" class=\"dataframe\">\n",
       "  <thead>\n",
       "    <tr style=\"text-align: right;\">\n",
       "      <th></th>\n",
       "      <th>Models</th>\n",
       "      <th>Default</th>\n",
       "      <th>Oversampling</th>\n",
       "      <th>Undersampling</th>\n",
       "      <th>class_weight</th>\n",
       "    </tr>\n",
       "  </thead>\n",
       "  <tbody>\n",
       "    <tr>\n",
       "      <th>0</th>\n",
       "      <td>LogisticRegression</td>\n",
       "      <td>0.287313</td>\n",
       "      <td>0.509769</td>\n",
       "      <td>0.500870</td>\n",
       "      <td>0.511013</td>\n",
       "    </tr>\n",
       "    <tr>\n",
       "      <th>1</th>\n",
       "      <td>LGBMClassifier</td>\n",
       "      <td>0.594828</td>\n",
       "      <td>0.608225</td>\n",
       "      <td>0.576177</td>\n",
       "      <td>0.610879</td>\n",
       "    </tr>\n",
       "    <tr>\n",
       "      <th>2</th>\n",
       "      <td>CatBoostClassifier</td>\n",
       "      <td>0.597243</td>\n",
       "      <td>0.627119</td>\n",
       "      <td>0.614653</td>\n",
       "      <td>0.615385</td>\n",
       "    </tr>\n",
       "  </tbody>\n",
       "</table>\n",
       "</div>\n",
       "      <button class=\"colab-df-convert\" onclick=\"convertToInteractive('df-38d22dc6-710f-4eae-8ddf-3ea37dc63500')\"\n",
       "              title=\"Convert this dataframe to an interactive table.\"\n",
       "              style=\"display:none;\">\n",
       "        \n",
       "  <svg xmlns=\"http://www.w3.org/2000/svg\" height=\"24px\"viewBox=\"0 0 24 24\"\n",
       "       width=\"24px\">\n",
       "    <path d=\"M0 0h24v24H0V0z\" fill=\"none\"/>\n",
       "    <path d=\"M18.56 5.44l.94 2.06.94-2.06 2.06-.94-2.06-.94-.94-2.06-.94 2.06-2.06.94zm-11 1L8.5 8.5l.94-2.06 2.06-.94-2.06-.94L8.5 2.5l-.94 2.06-2.06.94zm10 10l.94 2.06.94-2.06 2.06-.94-2.06-.94-.94-2.06-.94 2.06-2.06.94z\"/><path d=\"M17.41 7.96l-1.37-1.37c-.4-.4-.92-.59-1.43-.59-.52 0-1.04.2-1.43.59L10.3 9.45l-7.72 7.72c-.78.78-.78 2.05 0 2.83L4 21.41c.39.39.9.59 1.41.59.51 0 1.02-.2 1.41-.59l7.78-7.78 2.81-2.81c.8-.78.8-2.07 0-2.86zM5.41 20L4 18.59l7.72-7.72 1.47 1.35L5.41 20z\"/>\n",
       "  </svg>\n",
       "      </button>\n",
       "      \n",
       "  <style>\n",
       "    .colab-df-container {\n",
       "      display:flex;\n",
       "      flex-wrap:wrap;\n",
       "      gap: 12px;\n",
       "    }\n",
       "\n",
       "    .colab-df-convert {\n",
       "      background-color: #E8F0FE;\n",
       "      border: none;\n",
       "      border-radius: 50%;\n",
       "      cursor: pointer;\n",
       "      display: none;\n",
       "      fill: #1967D2;\n",
       "      height: 32px;\n",
       "      padding: 0 0 0 0;\n",
       "      width: 32px;\n",
       "    }\n",
       "\n",
       "    .colab-df-convert:hover {\n",
       "      background-color: #E2EBFA;\n",
       "      box-shadow: 0px 1px 2px rgba(60, 64, 67, 0.3), 0px 1px 3px 1px rgba(60, 64, 67, 0.15);\n",
       "      fill: #174EA6;\n",
       "    }\n",
       "\n",
       "    [theme=dark] .colab-df-convert {\n",
       "      background-color: #3B4455;\n",
       "      fill: #D2E3FC;\n",
       "    }\n",
       "\n",
       "    [theme=dark] .colab-df-convert:hover {\n",
       "      background-color: #434B5C;\n",
       "      box-shadow: 0px 1px 3px 1px rgba(0, 0, 0, 0.15);\n",
       "      filter: drop-shadow(0px 1px 2px rgba(0, 0, 0, 0.3));\n",
       "      fill: #FFFFFF;\n",
       "    }\n",
       "  </style>\n",
       "\n",
       "      <script>\n",
       "        const buttonEl =\n",
       "          document.querySelector('#df-38d22dc6-710f-4eae-8ddf-3ea37dc63500 button.colab-df-convert');\n",
       "        buttonEl.style.display =\n",
       "          google.colab.kernel.accessAllowed ? 'block' : 'none';\n",
       "\n",
       "        async function convertToInteractive(key) {\n",
       "          const element = document.querySelector('#df-38d22dc6-710f-4eae-8ddf-3ea37dc63500');\n",
       "          const dataTable =\n",
       "            await google.colab.kernel.invokeFunction('convertToInteractive',\n",
       "                                                     [key], {});\n",
       "          if (!dataTable) return;\n",
       "\n",
       "          const docLinkHtml = 'Like what you see? Visit the ' +\n",
       "            '<a target=\"_blank\" href=https://colab.research.google.com/notebooks/data_table.ipynb>data table notebook</a>'\n",
       "            + ' to learn more about interactive tables.';\n",
       "          element.innerHTML = '';\n",
       "          dataTable['output_type'] = 'display_data';\n",
       "          await google.colab.output.renderOutput(dataTable, element);\n",
       "          const docLink = document.createElement('div');\n",
       "          docLink.innerHTML = docLinkHtml;\n",
       "          element.appendChild(docLink);\n",
       "        }\n",
       "      </script>\n",
       "    </div>\n",
       "  </div>\n",
       "  "
      ],
      "text/plain": [
       "               Models   Default  Oversampling  Undersampling  class_weight\n",
       "0  LogisticRegression  0.287313      0.509769       0.500870      0.511013\n",
       "1      LGBMClassifier  0.594828      0.608225       0.576177      0.610879\n",
       "2  CatBoostClassifier  0.597243      0.627119       0.614653      0.615385"
      ]
     },
     "execution_count": 27,
     "metadata": {},
     "output_type": "execute_result"
    }
   ],
   "source": [
    "default = []\n",
    "oversampling = []\n",
    "undersampling = []\n",
    "class_weight = []\n",
    "\n",
    "# Fuction for getting test results\n",
    "\n",
    "\n",
    "def test_result(models, result_list):\n",
    "    for model in models:\n",
    "        result_list.append(f1_score(y_test, model.predict(X_test)))\n",
    "    return result_list\n",
    "\n",
    "\n",
    "default = test_result(general_models, default)\n",
    "oversampling = test_result(models_ros, oversampling)\n",
    "undersampling = test_result(models_rus, undersampling)\n",
    "class_weight = test_result(models_class_weight, class_weight)\n",
    "\n",
    "test_result_df = pd.DataFrame({'Models': [type(i[2]).__name__ for i in general_models],\n",
    "                               'Default': default,\n",
    "                               'Oversampling': oversampling,\n",
    "                               'Undersampling': undersampling,\n",
    "                               'class_weight': class_weight})\n",
    "test_result_df"
   ]
  },
  {
   "cell_type": "markdown",
   "metadata": {
    "id": "NXJnsAv6YSs9"
   },
   "source": [
    "Let's see which features most influenced the training of the model."
   ]
  },
  {
   "cell_type": "code",
   "execution_count": 28,
   "metadata": {
    "colab": {
     "base_uri": "https://localhost:8080/",
     "height": 394
    },
    "id": "ZtPZ-urHIeS3",
    "outputId": "fcdffaef-43fd-4d7c-d8e4-fa3c10c073f6"
   },
   "outputs": [
    {
     "data": {
      "text/html": [
       "\n",
       "  <div id=\"df-35668aed-03d8-4adb-b7dd-02b6b6716e13\">\n",
       "    <div class=\"colab-df-container\">\n",
       "      <div>\n",
       "<style scoped>\n",
       "    .dataframe tbody tr th:only-of-type {\n",
       "        vertical-align: middle;\n",
       "    }\n",
       "\n",
       "    .dataframe tbody tr th {\n",
       "        vertical-align: top;\n",
       "    }\n",
       "\n",
       "    .dataframe thead th {\n",
       "        text-align: right;\n",
       "    }\n",
       "</style>\n",
       "<table border=\"1\" class=\"dataframe\">\n",
       "  <thead>\n",
       "    <tr style=\"text-align: right;\">\n",
       "      <th></th>\n",
       "      <th>Features</th>\n",
       "      <th>Importance</th>\n",
       "    </tr>\n",
       "  </thead>\n",
       "  <tbody>\n",
       "    <tr>\n",
       "      <th>4</th>\n",
       "      <td>NumOfProducts</td>\n",
       "      <td>36.358430</td>\n",
       "    </tr>\n",
       "    <tr>\n",
       "      <th>1</th>\n",
       "      <td>Age</td>\n",
       "      <td>26.503259</td>\n",
       "    </tr>\n",
       "    <tr>\n",
       "      <th>3</th>\n",
       "      <td>Balance</td>\n",
       "      <td>11.403282</td>\n",
       "    </tr>\n",
       "    <tr>\n",
       "      <th>10</th>\n",
       "      <td>IsActiveMember</td>\n",
       "      <td>7.958974</td>\n",
       "    </tr>\n",
       "    <tr>\n",
       "      <th>6</th>\n",
       "      <td>Geography_Germany</td>\n",
       "      <td>6.814760</td>\n",
       "    </tr>\n",
       "    <tr>\n",
       "      <th>0</th>\n",
       "      <td>CreditScore</td>\n",
       "      <td>6.432451</td>\n",
       "    </tr>\n",
       "    <tr>\n",
       "      <th>2</th>\n",
       "      <td>Tenure</td>\n",
       "      <td>1.672665</td>\n",
       "    </tr>\n",
       "    <tr>\n",
       "      <th>8</th>\n",
       "      <td>Gender_Female</td>\n",
       "      <td>1.086197</td>\n",
       "    </tr>\n",
       "    <tr>\n",
       "      <th>9</th>\n",
       "      <td>Gender_Male</td>\n",
       "      <td>0.962850</td>\n",
       "    </tr>\n",
       "    <tr>\n",
       "      <th>7</th>\n",
       "      <td>Geography_Spain</td>\n",
       "      <td>0.434443</td>\n",
       "    </tr>\n",
       "    <tr>\n",
       "      <th>5</th>\n",
       "      <td>Geography_France</td>\n",
       "      <td>0.372687</td>\n",
       "    </tr>\n",
       "  </tbody>\n",
       "</table>\n",
       "</div>\n",
       "      <button class=\"colab-df-convert\" onclick=\"convertToInteractive('df-35668aed-03d8-4adb-b7dd-02b6b6716e13')\"\n",
       "              title=\"Convert this dataframe to an interactive table.\"\n",
       "              style=\"display:none;\">\n",
       "        \n",
       "  <svg xmlns=\"http://www.w3.org/2000/svg\" height=\"24px\"viewBox=\"0 0 24 24\"\n",
       "       width=\"24px\">\n",
       "    <path d=\"M0 0h24v24H0V0z\" fill=\"none\"/>\n",
       "    <path d=\"M18.56 5.44l.94 2.06.94-2.06 2.06-.94-2.06-.94-.94-2.06-.94 2.06-2.06.94zm-11 1L8.5 8.5l.94-2.06 2.06-.94-2.06-.94L8.5 2.5l-.94 2.06-2.06.94zm10 10l.94 2.06.94-2.06 2.06-.94-2.06-.94-.94-2.06-.94 2.06-2.06.94z\"/><path d=\"M17.41 7.96l-1.37-1.37c-.4-.4-.92-.59-1.43-.59-.52 0-1.04.2-1.43.59L10.3 9.45l-7.72 7.72c-.78.78-.78 2.05 0 2.83L4 21.41c.39.39.9.59 1.41.59.51 0 1.02-.2 1.41-.59l7.78-7.78 2.81-2.81c.8-.78.8-2.07 0-2.86zM5.41 20L4 18.59l7.72-7.72 1.47 1.35L5.41 20z\"/>\n",
       "  </svg>\n",
       "      </button>\n",
       "      \n",
       "  <style>\n",
       "    .colab-df-container {\n",
       "      display:flex;\n",
       "      flex-wrap:wrap;\n",
       "      gap: 12px;\n",
       "    }\n",
       "\n",
       "    .colab-df-convert {\n",
       "      background-color: #E8F0FE;\n",
       "      border: none;\n",
       "      border-radius: 50%;\n",
       "      cursor: pointer;\n",
       "      display: none;\n",
       "      fill: #1967D2;\n",
       "      height: 32px;\n",
       "      padding: 0 0 0 0;\n",
       "      width: 32px;\n",
       "    }\n",
       "\n",
       "    .colab-df-convert:hover {\n",
       "      background-color: #E2EBFA;\n",
       "      box-shadow: 0px 1px 2px rgba(60, 64, 67, 0.3), 0px 1px 3px 1px rgba(60, 64, 67, 0.15);\n",
       "      fill: #174EA6;\n",
       "    }\n",
       "\n",
       "    [theme=dark] .colab-df-convert {\n",
       "      background-color: #3B4455;\n",
       "      fill: #D2E3FC;\n",
       "    }\n",
       "\n",
       "    [theme=dark] .colab-df-convert:hover {\n",
       "      background-color: #434B5C;\n",
       "      box-shadow: 0px 1px 3px 1px rgba(0, 0, 0, 0.15);\n",
       "      filter: drop-shadow(0px 1px 2px rgba(0, 0, 0, 0.3));\n",
       "      fill: #FFFFFF;\n",
       "    }\n",
       "  </style>\n",
       "\n",
       "      <script>\n",
       "        const buttonEl =\n",
       "          document.querySelector('#df-35668aed-03d8-4adb-b7dd-02b6b6716e13 button.colab-df-convert');\n",
       "        buttonEl.style.display =\n",
       "          google.colab.kernel.accessAllowed ? 'block' : 'none';\n",
       "\n",
       "        async function convertToInteractive(key) {\n",
       "          const element = document.querySelector('#df-35668aed-03d8-4adb-b7dd-02b6b6716e13');\n",
       "          const dataTable =\n",
       "            await google.colab.kernel.invokeFunction('convertToInteractive',\n",
       "                                                     [key], {});\n",
       "          if (!dataTable) return;\n",
       "\n",
       "          const docLinkHtml = 'Like what you see? Visit the ' +\n",
       "            '<a target=\"_blank\" href=https://colab.research.google.com/notebooks/data_table.ipynb>data table notebook</a>'\n",
       "            + ' to learn more about interactive tables.';\n",
       "          element.innerHTML = '';\n",
       "          dataTable['output_type'] = 'display_data';\n",
       "          await google.colab.output.renderOutput(dataTable, element);\n",
       "          const docLink = document.createElement('div');\n",
       "          docLink.innerHTML = docLinkHtml;\n",
       "          element.appendChild(docLink);\n",
       "        }\n",
       "      </script>\n",
       "    </div>\n",
       "  </div>\n",
       "  "
      ],
      "text/plain": [
       "             Features  Importance\n",
       "4       NumOfProducts   36.358430\n",
       "1                 Age   26.503259\n",
       "3             Balance   11.403282\n",
       "10     IsActiveMember    7.958974\n",
       "6   Geography_Germany    6.814760\n",
       "0         CreditScore    6.432451\n",
       "2              Tenure    1.672665\n",
       "8       Gender_Female    1.086197\n",
       "9         Gender_Male    0.962850\n",
       "7     Geography_Spain    0.434443\n",
       "5    Geography_France    0.372687"
      ]
     },
     "execution_count": 28,
     "metadata": {},
     "output_type": "execute_result"
    }
   ],
   "source": [
    "preprocessor.fit(X_train)\n",
    "feature_importance = pd.DataFrame({'Features': preprocessor.get_feature_names_out(),\n",
    "                                   'Importance': models_class_weight[2][2].feature_importances_}).sort_values('Importance', ascending=False)\n",
    "feature_importance"
   ]
  },
  {
   "cell_type": "markdown",
   "metadata": {
    "id": "BvXrYaua0elZ"
   },
   "source": [
    "We can see that oversampling and undersampling gave us better scores then while training, this indicates that the models is underfitted. So, the best result was got with the help CatBoostClassifier with auto_class_weight method."
   ]
  },
  {
   "cell_type": "code",
   "execution_count": 29,
   "metadata": {
    "colab": {
     "base_uri": "https://localhost:8080/",
     "height": 449
    },
    "id": "-64fKMg3erug",
    "outputId": "48878585-3cc2-46ab-dc28-008a312fcfe7"
   },
   "outputs": [
    {
     "data": {
      "image/png": "[encoded data removed]",
      "text/plain": [
       "<Figure size 640x480 with 2 Axes>"
      ]
     },
     "metadata": {},
     "output_type": "display_data"
    }
   ],
   "source": [
    "ConfusionMatrixDisplay.from_estimator(\n",
    "    models_class_weight[2], X_test, y_test, normalize='true', colorbar=True, cmap='Blues');"
   ]
  },
  {
   "cell_type": "markdown",
   "metadata": {
    "id": "4Dw7_rgBkreq"
   },
   "source": [
    "With the help of the confusion matrix we see that only 77% of client, who left, was detected correctly.  Check it with AUC-ROC."
   ]
  },
  {
   "cell_type": "markdown",
   "metadata": {
    "id": "mmdFMkLb0elZ"
   },
   "source": [
    "### AUC-ROC of the best model"
   ]
  },
  {
   "cell_type": "code",
   "execution_count": 30,
   "metadata": {
    "colab": {
     "base_uri": "https://localhost:8080/",
     "height": 472
    },
    "id": "imzfQ9oQ0elZ",
    "outputId": "8d492828-9f8c-4f2b-9fe7-6d08460b2be5",
    "scrolled": true
   },
   "outputs": [
    {
     "data": {
      "image/png": "[encoded data removed]",
      "text/plain": [
       "<Figure size 640x480 with 1 Axes>"
      ]
     },
     "metadata": {},
     "output_type": "display_data"
    }
   ],
   "source": [
    "probabilities_test = models_class_weight[2].predict_proba(X_test)\n",
    "probabilities_one_test = probabilities_test[:, 1]\n",
    "\n",
    "fpr, tpr, thresholds = roc_curve(y_test, probabilities_one_test)\n",
    "\n",
    "plt.figure()\n",
    "\n",
    "plt.plot(fpr, tpr)\n",
    "\n",
    "plt.plot([0, 1], [0, 1], linestyle='--')\n",
    "\n",
    "plt.xlim([0, 1])\n",
    "plt.ylim([0, 1])\n",
    "\n",
    "plt.xlabel(\"False Positive Rate\")\n",
    "plt.ylabel(\"True Positive Rate\")\n",
    "plt.grid()\n",
    "plt.title(\"ROC-AUC\")\n",
    "\n",
    "plt.show()"
   ]
  },
  {
   "cell_type": "code",
   "execution_count": 31,
   "metadata": {
    "colab": {
     "base_uri": "https://localhost:8080/"
    },
    "id": "Pd2TPk4u0ela",
    "outputId": "2ef9bf7f-d638-4f48-be95-ba094a1b8a00",
    "scrolled": true
   },
   "outputs": [
    {
     "data": {
      "text/plain": [
       "0.8748640782539088"
      ]
     },
     "execution_count": 31,
     "metadata": {},
     "output_type": "execute_result"
    }
   ],
   "source": [
    "roc_auc_score(y_test, probabilities_one_test)"
   ]
  },
  {
   "cell_type": "markdown",
   "metadata": {
    "id": "Yzy54mGk0ela"
   },
   "source": [
    "Let's find the difference between TPR and FPR at different thresholds."
   ]
  },
  {
   "cell_type": "code",
   "execution_count": 32,
   "metadata": {
    "colab": {
     "base_uri": "https://localhost:8080/",
     "height": 206
    },
    "id": "5rHAmATo0ela",
    "outputId": "dd96b24c-9250-4796-b9e8-5399ce022613"
   },
   "outputs": [
    {
     "data": {
      "text/html": [
       "\n",
       "  <div id=\"df-584640ce-2d6e-4688-8615-5add76b2849e\">\n",
       "    <div class=\"colab-df-container\">\n",
       "      <div>\n",
       "<style scoped>\n",
       "    .dataframe tbody tr th:only-of-type {\n",
       "        vertical-align: middle;\n",
       "    }\n",
       "\n",
       "    .dataframe tbody tr th {\n",
       "        vertical-align: top;\n",
       "    }\n",
       "\n",
       "    .dataframe thead th {\n",
       "        text-align: right;\n",
       "    }\n",
       "</style>\n",
       "<table border=\"1\" class=\"dataframe\">\n",
       "  <thead>\n",
       "    <tr style=\"text-align: right;\">\n",
       "      <th></th>\n",
       "      <th>fpr</th>\n",
       "      <th>tpr</th>\n",
       "      <th>thresholds</th>\n",
       "      <th>tpr - fpr</th>\n",
       "    </tr>\n",
       "  </thead>\n",
       "  <tbody>\n",
       "    <tr>\n",
       "      <th>194</th>\n",
       "      <td>0.148148</td>\n",
       "      <td>0.742015</td>\n",
       "      <td>0.542335</td>\n",
       "      <td>0.593867</td>\n",
       "    </tr>\n",
       "    <tr>\n",
       "      <th>196</th>\n",
       "      <td>0.153798</td>\n",
       "      <td>0.746929</td>\n",
       "      <td>0.531776</td>\n",
       "      <td>0.593131</td>\n",
       "    </tr>\n",
       "    <tr>\n",
       "      <th>192</th>\n",
       "      <td>0.147520</td>\n",
       "      <td>0.739558</td>\n",
       "      <td>0.542707</td>\n",
       "      <td>0.592037</td>\n",
       "    </tr>\n",
       "    <tr>\n",
       "      <th>193</th>\n",
       "      <td>0.148148</td>\n",
       "      <td>0.739558</td>\n",
       "      <td>0.542645</td>\n",
       "      <td>0.591410</td>\n",
       "    </tr>\n",
       "    <tr>\n",
       "      <th>198</th>\n",
       "      <td>0.158820</td>\n",
       "      <td>0.749386</td>\n",
       "      <td>0.528737</td>\n",
       "      <td>0.590566</td>\n",
       "    </tr>\n",
       "  </tbody>\n",
       "</table>\n",
       "</div>\n",
       "      <button class=\"colab-df-convert\" onclick=\"convertToInteractive('df-584640ce-2d6e-4688-8615-5add76b2849e')\"\n",
       "              title=\"Convert this dataframe to an interactive table.\"\n",
       "              style=\"display:none;\">\n",
       "        \n",
       "  <svg xmlns=\"http://www.w3.org/2000/svg\" height=\"24px\"viewBox=\"0 0 24 24\"\n",
       "       width=\"24px\">\n",
       "    <path d=\"M0 0h24v24H0V0z\" fill=\"none\"/>\n",
       "    <path d=\"M18.56 5.44l.94 2.06.94-2.06 2.06-.94-2.06-.94-.94-2.06-.94 2.06-2.06.94zm-11 1L8.5 8.5l.94-2.06 2.06-.94-2.06-.94L8.5 2.5l-.94 2.06-2.06.94zm10 10l.94 2.06.94-2.06 2.06-.94-2.06-.94-.94-2.06-.94 2.06-2.06.94z\"/><path d=\"M17.41 7.96l-1.37-1.37c-.4-.4-.92-.59-1.43-.59-.52 0-1.04.2-1.43.59L10.3 9.45l-7.72 7.72c-.78.78-.78 2.05 0 2.83L4 21.41c.39.39.9.59 1.41.59.51 0 1.02-.2 1.41-.59l7.78-7.78 2.81-2.81c.8-.78.8-2.07 0-2.86zM5.41 20L4 18.59l7.72-7.72 1.47 1.35L5.41 20z\"/>\n",
       "  </svg>\n",
       "      </button>\n",
       "      \n",
       "  <style>\n",
       "    .colab-df-container {\n",
       "      display:flex;\n",
       "      flex-wrap:wrap;\n",
       "      gap: 12px;\n",
       "    }\n",
       "\n",
       "    .colab-df-convert {\n",
       "      background-color: #E8F0FE;\n",
       "      border: none;\n",
       "      border-radius: 50%;\n",
       "      cursor: pointer;\n",
       "      display: none;\n",
       "      fill: #1967D2;\n",
       "      height: 32px;\n",
       "      padding: 0 0 0 0;\n",
       "      width: 32px;\n",
       "    }\n",
       "\n",
       "    .colab-df-convert:hover {\n",
       "      background-color: #E2EBFA;\n",
       "      box-shadow: 0px 1px 2px rgba(60, 64, 67, 0.3), 0px 1px 3px 1px rgba(60, 64, 67, 0.15);\n",
       "      fill: #174EA6;\n",
       "    }\n",
       "\n",
       "    [theme=dark] .colab-df-convert {\n",
       "      background-color: #3B4455;\n",
       "      fill: #D2E3FC;\n",
       "    }\n",
       "\n",
       "    [theme=dark] .colab-df-convert:hover {\n",
       "      background-color: #434B5C;\n",
       "      box-shadow: 0px 1px 3px 1px rgba(0, 0, 0, 0.15);\n",
       "      filter: drop-shadow(0px 1px 2px rgba(0, 0, 0, 0.3));\n",
       "      fill: #FFFFFF;\n",
       "    }\n",
       "  </style>\n",
       "\n",
       "      <script>\n",
       "        const buttonEl =\n",
       "          document.querySelector('#df-584640ce-2d6e-4688-8615-5add76b2849e button.colab-df-convert');\n",
       "        buttonEl.style.display =\n",
       "          google.colab.kernel.accessAllowed ? 'block' : 'none';\n",
       "\n",
       "        async function convertToInteractive(key) {\n",
       "          const element = document.querySelector('#df-584640ce-2d6e-4688-8615-5add76b2849e');\n",
       "          const dataTable =\n",
       "            await google.colab.kernel.invokeFunction('convertToInteractive',\n",
       "                                                     [key], {});\n",
       "          if (!dataTable) return;\n",
       "\n",
       "          const docLinkHtml = 'Like what you see? Visit the ' +\n",
       "            '<a target=\"_blank\" href=https://colab.research.google.com/notebooks/data_table.ipynb>data table notebook</a>'\n",
       "            + ' to learn more about interactive tables.';\n",
       "          element.innerHTML = '';\n",
       "          dataTable['output_type'] = 'display_data';\n",
       "          await google.colab.output.renderOutput(dataTable, element);\n",
       "          const docLink = document.createElement('div');\n",
       "          docLink.innerHTML = docLinkHtml;\n",
       "          element.appendChild(docLink);\n",
       "        }\n",
       "      </script>\n",
       "    </div>\n",
       "  </div>\n",
       "  "
      ],
      "text/plain": [
       "          fpr       tpr  thresholds  tpr - fpr\n",
       "194  0.148148  0.742015    0.542335   0.593867\n",
       "196  0.153798  0.746929    0.531776   0.593131\n",
       "192  0.147520  0.739558    0.542707   0.592037\n",
       "193  0.148148  0.739558    0.542645   0.591410\n",
       "198  0.158820  0.749386    0.528737   0.590566"
      ]
     },
     "execution_count": 32,
     "metadata": {},
     "output_type": "execute_result"
    }
   ],
   "source": [
    "df_roc = pd.DataFrame({'fpr': fpr, 'tpr': tpr, 'thresholds': thresholds})\n",
    "df_roc['tpr - fpr'] = df_roc['tpr'] - df_roc['fpr']\n",
    "df_roc.sort_values('tpr - fpr', ascending=False).head()"
   ]
  },
  {
   "cell_type": "markdown",
   "metadata": {
    "id": "cvp36Iow0elb"
   },
   "source": [
    "Depending on the weight of income (TPR) from customer retention and the weight of costs (TPR) in case of erroneous triggering, it is possible to determine the optimal threshold at which the profit will be maximum. We can suppose that there are weight of income and weight of costs equal in our case. So the optimal threshold will be:"
   ]
  },
  {
   "cell_type": "code",
   "execution_count": 33,
   "metadata": {
    "colab": {
     "base_uri": "https://localhost:8080/"
    },
    "id": "Ub9xesAj0elb",
    "outputId": "17b1c49a-f96f-441e-f154-beb8ffef76a0"
   },
   "outputs": [
    {
     "data": {
      "text/plain": [
       "0.5423351841358969"
      ]
     },
     "execution_count": 33,
     "metadata": {},
     "output_type": "execute_result"
    }
   ],
   "source": [
    "optimal_threshold = df_roc.sort_values(\n",
    "    'tpr - fpr', ascending=False)['thresholds'].head(1).values[0]\n",
    "optimal_threshold"
   ]
  },
  {
   "cell_type": "code",
   "execution_count": 34,
   "metadata": {
    "colab": {
     "base_uri": "https://localhost:8080/",
     "height": 449
    },
    "id": "W3Ntfsgqifnn",
    "outputId": "112f5f68-10c6-4a33-81e4-8c19e2a5e72b",
    "scrolled": true
   },
   "outputs": [
    {
     "data": {
      "image/png": "[encoded data removed]",
      "text/plain": [
       "<Figure size 640x480 with 2 Axes>"
      ]
     },
     "metadata": {},
     "output_type": "display_data"
    }
   ],
   "source": [
    "ConfusionMatrixDisplay.from_predictions(\n",
    "    y_test, probabilities_one_test >= optimal_threshold, normalize='true', colorbar=True, cmap='Blues');"
   ]
  },
  {
   "cell_type": "markdown",
   "metadata": {
    "id": "o-_Inc840elb"
   },
   "source": [
    "## Conclusion"
   ]
  },
  {
   "cell_type": "markdown",
   "metadata": {
    "id": "FqI-JQeX0elb"
   },
   "source": [
    "1.We trained three models (Logistic Regression, LGBMClassifier, Cat Boost Classifier) on the initial sample and balanced them. Balancing was carried out in three different ways: class weighting, oversampling, and understated sampling.\n",
    "\n",
    "2.Using oversampling and understated sampling, we obtained retrained models, since the test score is much lower than the training score, while the method of weighing classes helped us to get the highest score and the smallest error. According to the confusion matrix, we can correctly identify 77% of outgoing customers and consider 19% of our customers who did not want to leave to be wrong.\n",
    "\n",
    "3.Depending on the needs of the business, we can change the weights in the error matrix. Having constructed the roc-auc, we see that the optimal threshold at which the difference between TPR and FPR is maximum is 0.54 if the weights of the income from the client and the cost of retaining the client are the same."
   ]
  },
  {
   "cell_type": "code",
   "execution_count": 34,
   "metadata": {
    "id": "vk-EqwG-ia-4"
   },
   "outputs": [],
   "source": []
  }
 ],
 "metadata": {
  "ExecuteTimeLog": [
   {
    "duration": 380,
    "start_time": "2022-12-29T16:55:10.462Z"
   },
   {
    "duration": 87,
    "start_time": "2022-12-29T16:55:37.282Z"
   },
   {
    "duration": 26,
    "start_time": "2022-12-29T16:55:43.185Z"
   },
   {
    "duration": 192,
    "start_time": "2022-12-29T16:58:20.641Z"
   },
   {
    "duration": 25,
    "start_time": "2022-12-29T16:58:24.540Z"
   },
   {
    "duration": 36,
    "start_time": "2022-12-29T16:58:49.699Z"
   },
   {
    "duration": 19,
    "start_time": "2022-12-29T16:58:51.738Z"
   },
   {
    "duration": 951,
    "start_time": "2022-12-29T17:00:19.100Z"
   },
   {
    "duration": 736,
    "start_time": "2022-12-29T17:34:41.590Z"
   },
   {
    "duration": 185,
    "start_time": "2022-12-29T17:34:56.364Z"
   },
   {
    "duration": 25,
    "start_time": "2022-12-29T17:35:03.687Z"
   },
   {
    "duration": 5,
    "start_time": "2022-12-29T17:35:28.791Z"
   },
   {
    "duration": 23,
    "start_time": "2022-12-29T17:35:49.573Z"
   },
   {
    "duration": 5,
    "start_time": "2022-12-29T17:36:09.359Z"
   },
   {
    "duration": 22,
    "start_time": "2022-12-29T17:36:19.872Z"
   },
   {
    "duration": 34,
    "start_time": "2022-12-29T17:38:10.410Z"
   },
   {
    "duration": 20,
    "start_time": "2022-12-29T17:38:21.748Z"
   },
   {
    "duration": 4,
    "start_time": "2022-12-29T17:57:42.723Z"
   },
   {
    "duration": 18,
    "start_time": "2022-12-29T17:57:45.877Z"
   },
   {
    "duration": 11,
    "start_time": "2022-12-29T17:57:54.758Z"
   },
   {
    "duration": 18,
    "start_time": "2022-12-29T17:57:59.666Z"
   },
   {
    "duration": 7,
    "start_time": "2022-12-29T17:59:00.328Z"
   },
   {
    "duration": 6,
    "start_time": "2022-12-29T17:59:09.526Z"
   },
   {
    "duration": 5,
    "start_time": "2022-12-29T17:59:27.197Z"
   },
   {
    "duration": 7,
    "start_time": "2022-12-29T17:59:32.658Z"
   },
   {
    "duration": 10,
    "start_time": "2022-12-29T18:03:44.181Z"
   },
   {
    "duration": 8,
    "start_time": "2022-12-29T18:03:52.971Z"
   },
   {
    "duration": 14,
    "start_time": "2022-12-29T18:04:01.698Z"
   },
   {
    "duration": 48,
    "start_time": "2022-12-29T18:07:19.313Z"
   },
   {
    "duration": 35,
    "start_time": "2022-12-29T18:07:25.729Z"
   },
   {
    "duration": 4,
    "start_time": "2022-12-29T18:07:26.830Z"
   },
   {
    "duration": 12,
    "start_time": "2022-12-29T18:07:28.572Z"
   },
   {
    "duration": 737,
    "start_time": "2022-12-29T18:10:04.750Z"
   },
   {
    "duration": 719,
    "start_time": "2022-12-29T18:10:26.246Z"
   },
   {
    "duration": 8,
    "start_time": "2022-12-29T18:10:39.146Z"
   },
   {
    "duration": 7,
    "start_time": "2022-12-29T18:11:11.667Z"
   },
   {
    "duration": 4,
    "start_time": "2022-12-29T18:11:58.408Z"
   },
   {
    "duration": 3,
    "start_time": "2022-12-29T18:12:15.095Z"
   },
   {
    "duration": 2,
    "start_time": "2022-12-29T18:12:20.969Z"
   },
   {
    "duration": 5,
    "start_time": "2022-12-29T18:12:24.043Z"
   },
   {
    "duration": 476,
    "start_time": "2022-12-29T18:12:39.256Z"
   },
   {
    "duration": 210,
    "start_time": "2022-12-29T18:13:16.829Z"
   },
   {
    "duration": 6,
    "start_time": "2022-12-29T18:20:37.506Z"
   },
   {
    "duration": 6,
    "start_time": "2022-12-29T18:20:51.423Z"
   },
   {
    "duration": 5,
    "start_time": "2022-12-29T18:27:57.971Z"
   },
   {
    "duration": 10,
    "start_time": "2022-12-29T18:28:05.264Z"
   },
   {
    "duration": 681,
    "start_time": "2022-12-29T18:28:17.753Z"
   },
   {
    "duration": 9,
    "start_time": "2022-12-29T18:28:29.932Z"
   },
   {
    "duration": 9,
    "start_time": "2022-12-29T18:28:40.781Z"
   },
   {
    "duration": 8,
    "start_time": "2022-12-29T18:39:15.773Z"
   },
   {
    "duration": 7,
    "start_time": "2022-12-29T18:39:28.676Z"
   },
   {
    "duration": 5,
    "start_time": "2022-12-29T18:40:35.870Z"
   },
   {
    "duration": 7,
    "start_time": "2022-12-29T18:40:45.534Z"
   },
   {
    "duration": 36,
    "start_time": "2022-12-29T18:43:08.834Z"
   },
   {
    "duration": 36,
    "start_time": "2022-12-29T18:43:52.658Z"
   },
   {
    "duration": 109,
    "start_time": "2022-12-29T19:02:29.567Z"
   },
   {
    "duration": 18,
    "start_time": "2022-12-29T19:09:27.095Z"
   },
   {
    "duration": 36,
    "start_time": "2022-12-29T19:09:29.766Z"
   },
   {
    "duration": 5,
    "start_time": "2022-12-29T19:09:30.458Z"
   },
   {
    "duration": 9,
    "start_time": "2022-12-29T19:09:47.858Z"
   },
   {
    "duration": 31,
    "start_time": "2022-12-29T19:10:27.695Z"
   },
   {
    "duration": 31,
    "start_time": "2022-12-29T19:10:29.826Z"
   },
   {
    "duration": 37,
    "start_time": "2022-12-29T19:10:44.947Z"
   },
   {
    "duration": 10,
    "start_time": "2022-12-29T19:17:08.141Z"
   },
   {
    "duration": 24,
    "start_time": "2022-12-29T19:17:13.490Z"
   },
   {
    "duration": 7,
    "start_time": "2022-12-29T19:17:40.977Z"
   },
   {
    "duration": 17,
    "start_time": "2022-12-29T19:17:42.205Z"
   },
   {
    "duration": 3,
    "start_time": "2022-12-29T19:19:17.817Z"
   },
   {
    "duration": 37,
    "start_time": "2022-12-29T19:19:17.822Z"
   },
   {
    "duration": 4,
    "start_time": "2022-12-29T19:19:17.861Z"
   },
   {
    "duration": 18,
    "start_time": "2022-12-29T19:19:17.867Z"
   },
   {
    "duration": 6,
    "start_time": "2022-12-29T19:19:17.888Z"
   },
   {
    "duration": 36,
    "start_time": "2022-12-29T19:19:17.896Z"
   },
   {
    "duration": 31,
    "start_time": "2022-12-29T19:19:17.934Z"
   },
   {
    "duration": 7,
    "start_time": "2022-12-29T19:19:17.967Z"
   },
   {
    "duration": 18,
    "start_time": "2022-12-29T19:19:24.238Z"
   },
   {
    "duration": 10,
    "start_time": "2022-12-29T19:19:49.724Z"
   },
   {
    "duration": 16,
    "start_time": "2022-12-29T19:19:51.943Z"
   },
   {
    "duration": 10,
    "start_time": "2022-12-29T19:26:59.605Z"
   },
   {
    "duration": 10,
    "start_time": "2022-12-29T19:27:54.807Z"
   },
   {
    "duration": 5,
    "start_time": "2022-12-29T19:28:02.908Z"
   },
   {
    "duration": 3,
    "start_time": "2022-12-29T19:43:21.483Z"
   },
   {
    "duration": 40,
    "start_time": "2022-12-29T19:43:21.488Z"
   },
   {
    "duration": 4,
    "start_time": "2022-12-29T19:43:21.529Z"
   },
   {
    "duration": 16,
    "start_time": "2022-12-29T19:43:21.534Z"
   },
   {
    "duration": 7,
    "start_time": "2022-12-29T19:43:21.552Z"
   },
   {
    "duration": 33,
    "start_time": "2022-12-29T19:43:21.561Z"
   },
   {
    "duration": 32,
    "start_time": "2022-12-29T19:43:21.630Z"
   },
   {
    "duration": 6,
    "start_time": "2022-12-29T19:43:21.664Z"
   },
   {
    "duration": 12,
    "start_time": "2022-12-29T19:43:21.672Z"
   },
   {
    "duration": 21,
    "start_time": "2022-12-29T19:43:21.685Z"
   },
   {
    "duration": 18,
    "start_time": "2022-12-29T19:43:21.708Z"
   },
   {
    "duration": 18,
    "start_time": "2022-12-29T19:43:28.179Z"
   },
   {
    "duration": 5,
    "start_time": "2022-12-29T19:44:37.914Z"
   },
   {
    "duration": 10,
    "start_time": "2022-12-29T19:47:15.402Z"
   },
   {
    "duration": 3,
    "start_time": "2022-12-29T19:47:47.035Z"
   },
   {
    "duration": 2729,
    "start_time": "2022-12-29T19:50:45.830Z"
   },
   {
    "duration": 19,
    "start_time": "2022-12-29T19:51:01.905Z"
   },
   {
    "duration": 11,
    "start_time": "2022-12-29T19:51:19.640Z"
   },
   {
    "duration": 5,
    "start_time": "2022-12-29T19:51:27.433Z"
   },
   {
    "duration": 6,
    "start_time": "2022-12-29T19:54:44.719Z"
   },
   {
    "duration": 27,
    "start_time": "2023-01-02T21:10:22.885Z"
   },
   {
    "duration": 1036,
    "start_time": "2023-01-02T21:10:53.057Z"
   },
   {
    "duration": 38,
    "start_time": "2023-01-02T21:10:54.095Z"
   },
   {
    "duration": 5,
    "start_time": "2023-01-02T21:10:54.135Z"
   },
   {
    "duration": 20,
    "start_time": "2023-01-02T21:10:54.142Z"
   },
   {
    "duration": 8,
    "start_time": "2023-01-02T21:10:54.163Z"
   },
   {
    "duration": 46,
    "start_time": "2023-01-02T21:10:54.172Z"
   },
   {
    "duration": 31,
    "start_time": "2023-01-02T21:10:54.220Z"
   },
   {
    "duration": 7,
    "start_time": "2023-01-02T21:10:54.253Z"
   },
   {
    "duration": 13,
    "start_time": "2023-01-02T21:10:54.261Z"
   },
   {
    "duration": 24,
    "start_time": "2023-01-02T21:10:54.277Z"
   },
   {
    "duration": 26,
    "start_time": "2023-01-02T21:10:54.302Z"
   },
   {
    "duration": 16,
    "start_time": "2023-01-02T21:10:54.330Z"
   },
   {
    "duration": 2175,
    "start_time": "2023-01-02T21:10:54.348Z"
   },
   {
    "duration": 6,
    "start_time": "2023-01-02T21:10:56.525Z"
   },
   {
    "duration": 131,
    "start_time": "2023-01-02T21:10:56.532Z"
   },
   {
    "duration": 18,
    "start_time": "2023-01-02T21:11:28.243Z"
   },
   {
    "duration": 1947,
    "start_time": "2023-01-02T21:12:05.937Z"
   },
   {
    "duration": 7,
    "start_time": "2023-01-02T21:12:10.771Z"
   },
   {
    "duration": 16,
    "start_time": "2023-01-02T21:12:15.557Z"
   },
   {
    "duration": 144,
    "start_time": "2023-01-02T21:12:24.153Z"
   },
   {
    "duration": 146,
    "start_time": "2023-01-02T21:15:56.494Z"
   },
   {
    "duration": 17085,
    "start_time": "2023-01-02T21:17:29.500Z"
   },
   {
    "duration": 15,
    "start_time": "2023-01-02T21:19:37.329Z"
   },
   {
    "duration": 4,
    "start_time": "2023-01-02T21:20:16.929Z"
   },
   {
    "duration": 305,
    "start_time": "2023-01-02T21:20:22.203Z"
   },
   {
    "duration": 159,
    "start_time": "2023-01-02T21:21:01.482Z"
   },
   {
    "duration": 204,
    "start_time": "2023-01-02T21:21:44.726Z"
   },
   {
    "duration": 613,
    "start_time": "2023-01-02T21:38:24.450Z"
   },
   {
    "duration": 283,
    "start_time": "2023-01-02T21:39:47.101Z"
   },
   {
    "duration": 328,
    "start_time": "2023-01-02T21:40:26.972Z"
   },
   {
    "duration": 17370,
    "start_time": "2023-01-02T21:41:07.142Z"
   },
   {
    "duration": 17218,
    "start_time": "2023-01-02T21:41:40.863Z"
   },
   {
    "duration": 5,
    "start_time": "2023-01-02T21:53:15.303Z"
   },
   {
    "duration": 20,
    "start_time": "2023-01-02T21:55:22.868Z"
   },
   {
    "duration": 4,
    "start_time": "2023-01-02T21:55:54.941Z"
   },
   {
    "duration": 19,
    "start_time": "2023-01-02T21:56:00.831Z"
   },
   {
    "duration": 6,
    "start_time": "2023-01-02T21:56:22.030Z"
   },
   {
    "duration": 18,
    "start_time": "2023-01-02T21:56:22.705Z"
   },
   {
    "duration": 807,
    "start_time": "2023-01-02T21:56:57.521Z"
   },
   {
    "duration": 384,
    "start_time": "2023-01-02T21:58:06.913Z"
   },
   {
    "duration": 17182,
    "start_time": "2023-01-02T22:00:40.155Z"
   },
   {
    "duration": 94,
    "start_time": "2023-01-02T22:17:16.618Z"
   },
   {
    "duration": 4,
    "start_time": "2023-01-02T22:17:39.883Z"
   },
   {
    "duration": 46,
    "start_time": "2023-01-02T22:17:39.889Z"
   },
   {
    "duration": 5,
    "start_time": "2023-01-02T22:17:39.937Z"
   },
   {
    "duration": 13,
    "start_time": "2023-01-02T22:17:39.944Z"
   },
   {
    "duration": 7,
    "start_time": "2023-01-02T22:17:39.959Z"
   },
   {
    "duration": 34,
    "start_time": "2023-01-02T22:17:39.968Z"
   },
   {
    "duration": 36,
    "start_time": "2023-01-02T22:17:40.004Z"
   },
   {
    "duration": 7,
    "start_time": "2023-01-02T22:17:40.042Z"
   },
   {
    "duration": 13,
    "start_time": "2023-01-02T22:17:40.051Z"
   },
   {
    "duration": 33,
    "start_time": "2023-01-02T22:17:40.065Z"
   },
   {
    "duration": 16,
    "start_time": "2023-01-02T22:17:40.099Z"
   },
   {
    "duration": 17,
    "start_time": "2023-01-02T22:17:40.117Z"
   },
   {
    "duration": 1829,
    "start_time": "2023-01-02T22:17:40.135Z"
   },
   {
    "duration": 6,
    "start_time": "2023-01-02T22:17:41.967Z"
   },
   {
    "duration": 29,
    "start_time": "2023-01-02T22:17:41.975Z"
   },
   {
    "duration": 53,
    "start_time": "2023-01-02T22:18:08.198Z"
   },
   {
    "duration": 922,
    "start_time": "2023-01-02T22:19:22.484Z"
   },
   {
    "duration": 356,
    "start_time": "2023-01-02T22:20:51.478Z"
   },
   {
    "duration": 921,
    "start_time": "2023-01-02T22:25:29.870Z"
   },
   {
    "duration": 626,
    "start_time": "2023-01-02T22:28:26.920Z"
   },
   {
    "duration": 580,
    "start_time": "2023-01-02T22:28:40.806Z"
   },
   {
    "duration": 582,
    "start_time": "2023-01-02T22:29:00.071Z"
   },
   {
    "duration": 857,
    "start_time": "2023-01-02T22:29:37.543Z"
   },
   {
    "duration": 10,
    "start_time": "2023-01-02T22:31:02.490Z"
   },
   {
    "duration": 15,
    "start_time": "2023-01-02T22:31:35.173Z"
   },
   {
    "duration": 523,
    "start_time": "2023-01-02T22:40:53.506Z"
   },
   {
    "duration": 41,
    "start_time": "2023-01-02T22:43:28.435Z"
   },
   {
    "duration": 726,
    "start_time": "2023-01-02T22:43:36.517Z"
   },
   {
    "duration": 541,
    "start_time": "2023-01-02T22:43:49.193Z"
   },
   {
    "duration": 501,
    "start_time": "2023-01-02T22:48:06.638Z"
   },
   {
    "duration": 575,
    "start_time": "2023-01-02T22:50:08.230Z"
   },
   {
    "duration": 449,
    "start_time": "2023-01-02T22:50:36.915Z"
   },
   {
    "duration": 586,
    "start_time": "2023-01-02T22:50:49.511Z"
   },
   {
    "duration": 616,
    "start_time": "2023-01-02T22:51:57.331Z"
   },
   {
    "duration": 613,
    "start_time": "2023-01-02T22:52:07.538Z"
   },
   {
    "duration": 8,
    "start_time": "2023-01-02T23:10:47.058Z"
   },
   {
    "duration": 378,
    "start_time": "2023-01-02T23:11:03.560Z"
   },
   {
    "duration": 9,
    "start_time": "2023-01-02T23:12:00.378Z"
   },
   {
    "duration": 454,
    "start_time": "2023-01-02T23:12:01.304Z"
   },
   {
    "duration": 7,
    "start_time": "2023-01-02T23:14:12.256Z"
   },
   {
    "duration": 16769,
    "start_time": "2023-01-02T23:14:12.767Z"
   },
   {
    "duration": 8,
    "start_time": "2023-01-02T23:14:47.449Z"
   },
   {
    "duration": 16618,
    "start_time": "2023-01-02T23:14:53.956Z"
   },
   {
    "duration": 8,
    "start_time": "2023-01-02T23:16:42.035Z"
   },
   {
    "duration": 17062,
    "start_time": "2023-01-02T23:16:43.610Z"
   },
   {
    "duration": 8,
    "start_time": "2023-01-02T23:18:18.537Z"
   },
   {
    "duration": 1231,
    "start_time": "2023-01-02T23:19:15.746Z"
   },
   {
    "duration": 41,
    "start_time": "2023-01-02T23:19:16.978Z"
   },
   {
    "duration": 3,
    "start_time": "2023-01-02T23:19:17.021Z"
   },
   {
    "duration": 16,
    "start_time": "2023-01-02T23:19:17.026Z"
   },
   {
    "duration": 6,
    "start_time": "2023-01-02T23:19:17.044Z"
   },
   {
    "duration": 32,
    "start_time": "2023-01-02T23:19:17.052Z"
   },
   {
    "duration": 40,
    "start_time": "2023-01-02T23:19:17.085Z"
   },
   {
    "duration": 7,
    "start_time": "2023-01-02T23:19:17.127Z"
   },
   {
    "duration": 8,
    "start_time": "2023-01-02T23:19:17.136Z"
   },
   {
    "duration": 11,
    "start_time": "2023-01-02T23:19:17.145Z"
   },
   {
    "duration": 42,
    "start_time": "2023-01-02T23:19:17.158Z"
   },
   {
    "duration": 15,
    "start_time": "2023-01-02T23:19:17.201Z"
   },
   {
    "duration": 1837,
    "start_time": "2023-01-02T23:19:17.218Z"
   },
   {
    "duration": 5,
    "start_time": "2023-01-02T23:19:19.058Z"
   },
   {
    "duration": 9,
    "start_time": "2023-01-02T23:19:19.065Z"
   },
   {
    "duration": 17078,
    "start_time": "2023-01-02T23:19:19.075Z"
   },
   {
    "duration": 3,
    "start_time": "2023-01-02T23:19:58.242Z"
   },
   {
    "duration": 10,
    "start_time": "2023-01-02T23:20:10.328Z"
   },
   {
    "duration": 17088,
    "start_time": "2023-01-02T23:20:11.253Z"
   },
   {
    "duration": 3,
    "start_time": "2023-01-02T23:31:10.232Z"
   },
   {
    "duration": 9,
    "start_time": "2023-01-02T23:31:11.966Z"
   },
   {
    "duration": 22640,
    "start_time": "2023-01-02T23:32:02.669Z"
   },
   {
    "duration": 10,
    "start_time": "2023-01-02T23:38:47.523Z"
   },
   {
    "duration": 11,
    "start_time": "2023-01-02T23:39:09.035Z"
   },
   {
    "duration": 10,
    "start_time": "2023-01-02T23:39:48.593Z"
   },
   {
    "duration": 11165,
    "start_time": "2023-01-02T23:40:04.356Z"
   },
   {
    "duration": 8,
    "start_time": "2023-01-02T23:42:59.232Z"
   },
   {
    "duration": 9,
    "start_time": "2023-01-02T23:43:50.503Z"
   },
   {
    "duration": 18369,
    "start_time": "2023-01-02T23:43:52.178Z"
   },
   {
    "duration": 2,
    "start_time": "2023-01-03T09:23:45.436Z"
   },
   {
    "duration": 10,
    "start_time": "2023-01-03T09:25:53.555Z"
   },
   {
    "duration": 255,
    "start_time": "2023-01-03T09:28:23.552Z"
   },
   {
    "duration": 3,
    "start_time": "2023-01-03T09:28:39.815Z"
   },
   {
    "duration": 24,
    "start_time": "2023-01-03T09:44:57.022Z"
   },
   {
    "duration": 234,
    "start_time": "2023-01-03T09:46:14.871Z"
   },
   {
    "duration": 137,
    "start_time": "2023-01-03T09:47:06.077Z"
   },
   {
    "duration": 7,
    "start_time": "2023-01-03T10:17:06.756Z"
   },
   {
    "duration": 4,
    "start_time": "2023-01-03T10:22:19.967Z"
   },
   {
    "duration": 73,
    "start_time": "2023-01-03T10:22:19.973Z"
   },
   {
    "duration": 4,
    "start_time": "2023-01-03T10:22:20.048Z"
   },
   {
    "duration": 51,
    "start_time": "2023-01-03T10:22:20.054Z"
   },
   {
    "duration": 9,
    "start_time": "2023-01-03T10:22:20.108Z"
   },
   {
    "duration": 56,
    "start_time": "2023-01-03T10:22:20.118Z"
   },
   {
    "duration": 58,
    "start_time": "2023-01-03T10:22:20.176Z"
   },
   {
    "duration": 6,
    "start_time": "2023-01-03T10:22:20.236Z"
   },
   {
    "duration": 46,
    "start_time": "2023-01-03T10:22:20.244Z"
   },
   {
    "duration": 28,
    "start_time": "2023-01-03T10:22:20.291Z"
   },
   {
    "duration": 36,
    "start_time": "2023-01-03T10:22:20.321Z"
   },
   {
    "duration": 18,
    "start_time": "2023-01-03T10:22:20.359Z"
   },
   {
    "duration": 1927,
    "start_time": "2023-01-03T10:22:20.379Z"
   },
   {
    "duration": 6,
    "start_time": "2023-01-03T10:22:22.310Z"
   },
   {
    "duration": 18,
    "start_time": "2023-01-03T10:22:22.318Z"
   },
   {
    "duration": 19662,
    "start_time": "2023-01-03T10:22:22.338Z"
   },
   {
    "duration": 8,
    "start_time": "2023-01-03T10:22:42.004Z"
   },
   {
    "duration": 13,
    "start_time": "2023-01-03T10:22:42.014Z"
   },
   {
    "duration": 24360,
    "start_time": "2023-01-03T10:22:42.029Z"
   },
   {
    "duration": 22,
    "start_time": "2023-01-03T10:23:06.390Z"
   },
   {
    "duration": 12020,
    "start_time": "2023-01-03T10:23:06.414Z"
   },
   {
    "duration": 8,
    "start_time": "2023-01-03T10:23:18.436Z"
   },
   {
    "duration": 19395,
    "start_time": "2023-01-03T10:23:18.446Z"
   },
   {
    "duration": 258,
    "start_time": "2023-01-03T10:23:37.843Z"
   },
   {
    "duration": 46,
    "start_time": "2023-01-03T10:24:23.616Z"
   },
   {
    "duration": 129,
    "start_time": "2023-01-03T10:25:50.298Z"
   },
   {
    "duration": 25,
    "start_time": "2023-01-03T10:25:57.732Z"
   },
   {
    "duration": 1314,
    "start_time": "2023-01-03T10:26:32.910Z"
   },
   {
    "duration": 40,
    "start_time": "2023-01-03T10:26:34.226Z"
   },
   {
    "duration": 4,
    "start_time": "2023-01-03T10:26:34.268Z"
   },
   {
    "duration": 22,
    "start_time": "2023-01-03T10:26:34.273Z"
   },
   {
    "duration": 7,
    "start_time": "2023-01-03T10:26:34.297Z"
   },
   {
    "duration": 37,
    "start_time": "2023-01-03T10:26:34.305Z"
   },
   {
    "duration": 34,
    "start_time": "2023-01-03T10:26:34.343Z"
   },
   {
    "duration": 24,
    "start_time": "2023-01-03T10:26:34.378Z"
   },
   {
    "duration": 10,
    "start_time": "2023-01-03T10:26:34.404Z"
   },
   {
    "duration": 12,
    "start_time": "2023-01-03T10:26:34.416Z"
   },
   {
    "duration": 23,
    "start_time": "2023-01-03T10:26:34.430Z"
   },
   {
    "duration": 16,
    "start_time": "2023-01-03T10:26:34.455Z"
   },
   {
    "duration": 2086,
    "start_time": "2023-01-03T10:26:34.472Z"
   },
   {
    "duration": 7,
    "start_time": "2023-01-03T10:26:36.561Z"
   },
   {
    "duration": 10,
    "start_time": "2023-01-03T10:26:36.569Z"
   },
   {
    "duration": 17653,
    "start_time": "2023-01-03T10:26:36.580Z"
   },
   {
    "duration": 4,
    "start_time": "2023-01-03T10:26:54.234Z"
   },
   {
    "duration": 11,
    "start_time": "2023-01-03T10:26:54.240Z"
   },
   {
    "duration": 23591,
    "start_time": "2023-01-03T10:26:54.253Z"
   },
   {
    "duration": 10,
    "start_time": "2023-01-03T10:27:17.845Z"
   },
   {
    "duration": 11655,
    "start_time": "2023-01-03T10:27:17.857Z"
   },
   {
    "duration": 9,
    "start_time": "2023-01-03T10:27:29.513Z"
   },
   {
    "duration": 17648,
    "start_time": "2023-01-03T10:27:29.524Z"
   },
   {
    "duration": 224,
    "start_time": "2023-01-03T10:27:47.173Z"
   },
   {
    "duration": 112,
    "start_time": "2023-01-03T10:27:47.398Z"
   },
   {
    "duration": 0,
    "start_time": "2023-01-03T10:27:47.512Z"
   },
   {
    "duration": 131,
    "start_time": "2023-01-03T10:28:22.601Z"
   },
   {
    "duration": 7,
    "start_time": "2023-01-03T10:28:30.144Z"
   },
   {
    "duration": 69,
    "start_time": "2023-01-03T10:31:57.746Z"
   },
   {
    "duration": 131,
    "start_time": "2023-01-03T10:32:06.126Z"
   },
   {
    "duration": 7,
    "start_time": "2023-01-03T10:32:11.250Z"
   },
   {
    "duration": 118,
    "start_time": "2023-01-03T11:01:15.511Z"
   },
   {
    "duration": 17949,
    "start_time": "2023-01-03T11:01:17.030Z"
   },
   {
    "duration": 8,
    "start_time": "2023-01-03T11:02:12.573Z"
   },
   {
    "duration": 17537,
    "start_time": "2023-01-03T11:02:14.183Z"
   },
   {
    "duration": 1268,
    "start_time": "2023-01-03T11:07:44.648Z"
   },
   {
    "duration": 42,
    "start_time": "2023-01-03T11:07:45.917Z"
   },
   {
    "duration": 5,
    "start_time": "2023-01-03T11:07:45.960Z"
   },
   {
    "duration": 17,
    "start_time": "2023-01-03T11:07:45.966Z"
   },
   {
    "duration": 7,
    "start_time": "2023-01-03T11:07:45.985Z"
   },
   {
    "duration": 37,
    "start_time": "2023-01-03T11:07:45.994Z"
   },
   {
    "duration": 41,
    "start_time": "2023-01-03T11:07:46.034Z"
   },
   {
    "duration": 27,
    "start_time": "2023-01-03T11:07:46.076Z"
   },
   {
    "duration": 29,
    "start_time": "2023-01-03T11:07:46.106Z"
   },
   {
    "duration": 20,
    "start_time": "2023-01-03T11:07:46.137Z"
   },
   {
    "duration": 25,
    "start_time": "2023-01-03T11:07:46.159Z"
   },
   {
    "duration": 22,
    "start_time": "2023-01-03T11:07:46.186Z"
   },
   {
    "duration": 1865,
    "start_time": "2023-01-03T11:07:46.210Z"
   },
   {
    "duration": 6,
    "start_time": "2023-01-03T11:07:48.077Z"
   },
   {
    "duration": 11,
    "start_time": "2023-01-03T11:07:48.085Z"
   },
   {
    "duration": 17779,
    "start_time": "2023-01-03T11:07:48.098Z"
   },
   {
    "duration": 4,
    "start_time": "2023-01-03T11:08:05.879Z"
   },
   {
    "duration": 48,
    "start_time": "2023-01-03T11:08:05.885Z"
   },
   {
    "duration": 23153,
    "start_time": "2023-01-03T11:08:05.935Z"
   },
   {
    "duration": 13,
    "start_time": "2023-01-03T11:08:29.090Z"
   },
   {
    "duration": 11540,
    "start_time": "2023-01-03T11:08:29.105Z"
   },
   {
    "duration": 8,
    "start_time": "2023-01-03T11:08:40.647Z"
   },
   {
    "duration": 17856,
    "start_time": "2023-01-03T11:08:40.657Z"
   },
   {
    "duration": 180,
    "start_time": "2023-01-03T11:08:58.515Z"
   },
   {
    "duration": 141,
    "start_time": "2023-01-03T11:08:58.698Z"
   },
   {
    "duration": 6,
    "start_time": "2023-01-03T11:08:58.841Z"
   },
   {
    "duration": 4,
    "start_time": "2023-01-03T11:22:06.526Z"
   },
   {
    "duration": 10,
    "start_time": "2023-01-03T11:22:15.515Z"
   },
   {
    "duration": 5,
    "start_time": "2023-01-03T11:23:39.884Z"
   },
   {
    "duration": 14,
    "start_time": "2023-01-03T11:24:03.820Z"
   },
   {
    "duration": 12,
    "start_time": "2023-01-03T11:24:45.858Z"
   },
   {
    "duration": 11,
    "start_time": "2023-01-03T11:25:11.101Z"
   },
   {
    "duration": 1533,
    "start_time": "2023-01-03T11:30:10.223Z"
   },
   {
    "duration": 50,
    "start_time": "2023-01-03T11:30:11.758Z"
   },
   {
    "duration": 6,
    "start_time": "2023-01-03T11:30:11.813Z"
   },
   {
    "duration": 16,
    "start_time": "2023-01-03T11:30:11.821Z"
   },
   {
    "duration": 9,
    "start_time": "2023-01-03T11:30:11.839Z"
   },
   {
    "duration": 37,
    "start_time": "2023-01-03T11:30:11.850Z"
   },
   {
    "duration": 54,
    "start_time": "2023-01-03T11:30:11.896Z"
   },
   {
    "duration": 11,
    "start_time": "2023-01-03T11:30:11.952Z"
   },
   {
    "duration": 32,
    "start_time": "2023-01-03T11:30:11.965Z"
   },
   {
    "duration": 23,
    "start_time": "2023-01-03T11:30:11.999Z"
   },
   {
    "duration": 21,
    "start_time": "2023-01-03T11:30:12.024Z"
   },
   {
    "duration": 18,
    "start_time": "2023-01-03T11:30:12.047Z"
   },
   {
    "duration": 2190,
    "start_time": "2023-01-03T11:30:12.067Z"
   },
   {
    "duration": 11,
    "start_time": "2023-01-03T11:30:14.264Z"
   },
   {
    "duration": 31,
    "start_time": "2023-01-03T11:30:14.278Z"
   },
   {
    "duration": 20054,
    "start_time": "2023-01-03T11:30:14.310Z"
   },
   {
    "duration": 5,
    "start_time": "2023-01-03T11:30:34.366Z"
   },
   {
    "duration": 25,
    "start_time": "2023-01-03T11:30:34.373Z"
   },
   {
    "duration": 26431,
    "start_time": "2023-01-03T11:30:34.399Z"
   },
   {
    "duration": 14,
    "start_time": "2023-01-03T11:31:00.832Z"
   },
   {
    "duration": 13065,
    "start_time": "2023-01-03T11:31:00.847Z"
   },
   {
    "duration": 14,
    "start_time": "2023-01-03T11:31:13.914Z"
   },
   {
    "duration": 20653,
    "start_time": "2023-01-03T11:31:13.930Z"
   },
   {
    "duration": 226,
    "start_time": "2023-01-03T11:31:34.585Z"
   },
   {
    "duration": 232,
    "start_time": "2023-01-03T11:31:34.817Z"
   },
   {
    "duration": 8,
    "start_time": "2023-01-03T11:31:35.052Z"
   },
   {
    "duration": 9,
    "start_time": "2023-01-03T11:31:35.062Z"
   },
   {
    "duration": 28,
    "start_time": "2023-01-03T11:31:35.074Z"
   },
   {
    "duration": 35,
    "start_time": "2023-01-03T11:31:35.104Z"
   },
   {
    "duration": 9,
    "start_time": "2023-01-03T11:43:49.513Z"
   },
   {
    "duration": 5,
    "start_time": "2023-01-03T11:43:52.276Z"
   },
   {
    "duration": 5,
    "start_time": "2023-01-03T11:44:06.361Z"
   },
   {
    "duration": 1266,
    "start_time": "2023-01-03T11:44:56.931Z"
   },
   {
    "duration": 40,
    "start_time": "2023-01-03T11:44:58.199Z"
   },
   {
    "duration": 4,
    "start_time": "2023-01-03T11:44:58.240Z"
   },
   {
    "duration": 12,
    "start_time": "2023-01-03T11:44:58.245Z"
   },
   {
    "duration": 12,
    "start_time": "2023-01-03T11:44:58.258Z"
   },
   {
    "duration": 32,
    "start_time": "2023-01-03T11:44:58.271Z"
   },
   {
    "duration": 31,
    "start_time": "2023-01-03T11:44:58.304Z"
   },
   {
    "duration": 6,
    "start_time": "2023-01-03T11:44:58.337Z"
   },
   {
    "duration": 10,
    "start_time": "2023-01-03T11:44:58.345Z"
   },
   {
    "duration": 19,
    "start_time": "2023-01-03T11:44:58.356Z"
   },
   {
    "duration": 34,
    "start_time": "2023-01-03T11:44:58.377Z"
   },
   {
    "duration": 15,
    "start_time": "2023-01-03T11:44:58.412Z"
   },
   {
    "duration": 1861,
    "start_time": "2023-01-03T11:44:58.428Z"
   },
   {
    "duration": 7,
    "start_time": "2023-01-03T11:45:00.292Z"
   },
   {
    "duration": 19,
    "start_time": "2023-01-03T11:45:00.300Z"
   },
   {
    "duration": 17360,
    "start_time": "2023-01-03T11:45:00.320Z"
   },
   {
    "duration": 3,
    "start_time": "2023-01-03T11:45:17.682Z"
   },
   {
    "duration": 23,
    "start_time": "2023-01-03T11:45:17.687Z"
   },
   {
    "duration": 62,
    "start_time": "2023-01-03T14:00:54.086Z"
   },
   {
    "duration": 1353,
    "start_time": "2023-01-03T14:01:54.174Z"
   },
   {
    "duration": 42,
    "start_time": "2023-01-03T14:01:55.529Z"
   },
   {
    "duration": 3,
    "start_time": "2023-01-03T14:01:55.573Z"
   },
   {
    "duration": 16,
    "start_time": "2023-01-03T14:01:55.578Z"
   },
   {
    "duration": 7,
    "start_time": "2023-01-03T14:01:55.596Z"
   },
   {
    "duration": 34,
    "start_time": "2023-01-03T14:01:55.604Z"
   },
   {
    "duration": 56,
    "start_time": "2023-01-03T14:01:55.640Z"
   },
   {
    "duration": 8,
    "start_time": "2023-01-03T14:01:55.698Z"
   },
   {
    "duration": 1940,
    "start_time": "2023-01-03T14:01:55.708Z"
   },
   {
    "duration": 19,
    "start_time": "2023-01-03T14:02:08.372Z"
   },
   {
    "duration": 5,
    "start_time": "2023-01-03T14:02:28.298Z"
   },
   {
    "duration": 4,
    "start_time": "2023-01-03T14:02:39.077Z"
   },
   {
    "duration": 4,
    "start_time": "2023-01-03T14:02:50.704Z"
   },
   {
    "duration": 5,
    "start_time": "2023-01-03T14:02:53.849Z"
   },
   {
    "duration": 4,
    "start_time": "2023-01-03T14:03:07.096Z"
   },
   {
    "duration": 12,
    "start_time": "2023-01-03T14:03:14.434Z"
   },
   {
    "duration": 11,
    "start_time": "2023-01-03T14:03:25.441Z"
   },
   {
    "duration": 17,
    "start_time": "2023-01-03T14:03:32.718Z"
   },
   {
    "duration": 14,
    "start_time": "2023-01-03T14:05:11.363Z"
   },
   {
    "duration": 11,
    "start_time": "2023-01-03T14:05:46.484Z"
   },
   {
    "duration": 11,
    "start_time": "2023-01-03T14:06:36.412Z"
   },
   {
    "duration": 11,
    "start_time": "2023-01-03T14:10:18.069Z"
   },
   {
    "duration": 7,
    "start_time": "2023-01-03T14:10:18.082Z"
   },
   {
    "duration": 10,
    "start_time": "2023-01-03T14:10:18.090Z"
   },
   {
    "duration": 17898,
    "start_time": "2023-01-03T14:10:18.101Z"
   },
   {
    "duration": 5,
    "start_time": "2023-01-03T14:10:36.001Z"
   },
   {
    "duration": 32,
    "start_time": "2023-01-03T14:10:36.008Z"
   },
   {
    "duration": 24044,
    "start_time": "2023-01-03T14:10:36.041Z"
   },
   {
    "duration": 16,
    "start_time": "2023-01-03T14:11:00.087Z"
   },
   {
    "duration": 11400,
    "start_time": "2023-01-03T14:11:00.105Z"
   },
   {
    "duration": 10,
    "start_time": "2023-01-03T14:11:11.507Z"
   },
   {
    "duration": 18556,
    "start_time": "2023-01-03T14:11:11.518Z"
   },
   {
    "duration": 144,
    "start_time": "2023-01-03T14:11:30.075Z"
   },
   {
    "duration": 245,
    "start_time": "2023-01-03T14:11:30.221Z"
   },
   {
    "duration": 5,
    "start_time": "2023-01-03T14:11:30.469Z"
   },
   {
    "duration": 28,
    "start_time": "2023-01-03T14:11:30.476Z"
   },
   {
    "duration": 38,
    "start_time": "2023-01-03T14:11:30.506Z"
   },
   {
    "duration": 29,
    "start_time": "2023-01-03T14:11:30.547Z"
   },
   {
    "duration": 33,
    "start_time": "2023-01-03T14:11:30.578Z"
   },
   {
    "duration": 194,
    "start_time": "2023-01-03T14:20:20.411Z"
   },
   {
    "duration": 138,
    "start_time": "2023-01-03T14:20:51.056Z"
   },
   {
    "duration": 7,
    "start_time": "2023-01-03T14:20:54.730Z"
   },
   {
    "duration": 4,
    "start_time": "2023-01-03T14:20:58.314Z"
   },
   {
    "duration": 5,
    "start_time": "2023-01-03T14:20:58.811Z"
   },
   {
    "duration": 10,
    "start_time": "2023-01-03T14:20:59.287Z"
   },
   {
    "duration": 5,
    "start_time": "2023-01-03T14:21:04.570Z"
   },
   {
    "duration": 4,
    "start_time": "2023-01-03T14:22:02.929Z"
   },
   {
    "duration": 4,
    "start_time": "2023-01-03T14:22:12.245Z"
   },
   {
    "duration": 48,
    "start_time": "2023-01-03T14:39:26.106Z"
   }
  ],
  "colab": {
   "provenance": [],
   "toc_visible": true
  },
  "kernelspec": {
   "display_name": "Python 3 (ipykernel)",
   "language": "python",
   "name": "python3"
  },
  "language_info": {
   "codemirror_mode": {
    "name": "ipython",
    "version": 3
   },
   "file_extension": ".py",
   "mimetype": "text/x-python",
   "name": "python",
   "nbconvert_exporter": "python",
   "pygments_lexer": "ipython3",
   "version": "3.9.12"
  },
  "toc": {
   "base_numbering": 1,
   "nav_menu": {},
   "number_sections": true,
   "sideBar": true,
   "skip_h1_title": true,
   "title_cell": "Содержание",
   "title_sidebar": "Contents",
   "toc_cell": true,
   "toc_position": {
    "height": "calc(100% - 180px)",
    "left": "10px",
    "top": "150px",
    "width": "165px"
   },
   "toc_section_display": true,
   "toc_window_display": true
  },
  "varInspector": {
   "cols": {
    "lenName": 16,
    "lenType": 16,
    "lenVar": 40
   },
   "kernels_config": {
    "python": {
     "delete_cmd_postfix": "",
     "delete_cmd_prefix": "del ",
     "library": "var_list.py",
     "varRefreshCmd": "print(var_dic_list())"
    },
    "r": {
     "delete_cmd_postfix": ") ",
     "delete_cmd_prefix": "rm(",
     "library": "var_list.r",
     "varRefreshCmd": "cat(var_dic_list()) "
    }
   },
   "types_to_exclude": [
    "module",
    "function",
    "builtin_function_or_method",
    "instance",
    "_Feature"
   ],
   "window_display": false
  }
 },
 "nbformat": 4,
 "nbformat_minor": 4
}
