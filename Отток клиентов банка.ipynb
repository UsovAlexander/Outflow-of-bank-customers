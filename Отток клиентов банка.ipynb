{
 "cells": [
  {
   "cell_type": "markdown",
   "metadata": {
    "toc": true
   },
   "source": [
    "<h1>Содержание<span class=\"tocSkip\"></span></h1>\n",
    "<div class=\"toc\"><ul class=\"toc-item\"><li><span><a href=\"#Подготовка-данных\" data-toc-modified-id=\"Подготовка-данных-1\"><span class=\"toc-item-num\">1&nbsp;&nbsp;</span>Подготовка данных</a></span><ul class=\"toc-item\"><li><span><a href=\"#Проверка-дубликатов\" data-toc-modified-id=\"Проверка-дубликатов-1.1\"><span class=\"toc-item-num\">1.1&nbsp;&nbsp;</span>Проверка дубликатов</a></span></li><li><span><a href=\"#Проверка-пропусков\" data-toc-modified-id=\"Проверка-пропусков-1.2\"><span class=\"toc-item-num\">1.2&nbsp;&nbsp;</span>Проверка пропусков</a></span></li><li><span><a href=\"#Подготовка-признаков\" data-toc-modified-id=\"Подготовка-признаков-1.3\"><span class=\"toc-item-num\">1.3&nbsp;&nbsp;</span>Подготовка признаков</a></span></li></ul></li><li><span><a href=\"#Исследование-задачи\" data-toc-modified-id=\"Исследование-задачи-2\"><span class=\"toc-item-num\">2&nbsp;&nbsp;</span>Исследование задачи</a></span></li><li><span><a href=\"#Борьба-с-дисбалансом\" data-toc-modified-id=\"Борьба-с-дисбалансом-3\"><span class=\"toc-item-num\">3&nbsp;&nbsp;</span>Борьба с дисбалансом</a></span><ul class=\"toc-item\"><li><span><a href=\"#Проверим-модели-при-увеличении-выборки\" data-toc-modified-id=\"Проверим-модели-при-увеличении-выборки-3.1\"><span class=\"toc-item-num\">3.1&nbsp;&nbsp;</span>Проверим модели при увеличении выборки</a></span></li><li><span><a href=\"#Проверим-модели-при-уменьшении-выборки\" data-toc-modified-id=\"Проверим-модели-при-уменьшении-выборки-3.2\"><span class=\"toc-item-num\">3.2&nbsp;&nbsp;</span>Проверим модели при уменьшении выборки</a></span></li><li><span><a href=\"#Проверим-модели,-взвесив-классы-при-помощи-аргумента-class_weight\" data-toc-modified-id=\"Проверим-модели,-взвесив-классы-при-помощи-аргумента-class_weight-3.3\"><span class=\"toc-item-num\">3.3&nbsp;&nbsp;</span>Проверим модели, взвесив классы при помощи аргумента class_weight</a></span></li></ul></li><li><span><a href=\"#Тестирование-модели\" data-toc-modified-id=\"Тестирование-модели-4\"><span class=\"toc-item-num\">4&nbsp;&nbsp;</span>Тестирование модели</a></span><ul class=\"toc-item\"><li><span><a href=\"#Протестируем-модель,-показавшую-лучшую-метрику-F1.\" data-toc-modified-id=\"Протестируем-модель,-показавшую-лучшую-метрику-F1.-4.1\"><span class=\"toc-item-num\">4.1&nbsp;&nbsp;</span>Протестируем модель, показавшую лучшую метрику F1.</a></span></li><li><span><a href=\"#Проверим-значение-метрики-AUC-ROC-лучшей-модели\" data-toc-modified-id=\"Проверим-значение-метрики-AUC-ROC-лучшей-модели-4.2\"><span class=\"toc-item-num\">4.2&nbsp;&nbsp;</span>Проверим значение метрики AUC-ROC лучшей модели</a></span></li></ul></li><li><span><a href=\"#Общий-вывод\" data-toc-modified-id=\"Общий-вывод-5\"><span class=\"toc-item-num\">5&nbsp;&nbsp;</span>Общий вывод</a></span></li></ul></div>"
   ]
  },
  {
   "cell_type": "markdown",
   "metadata": {},
   "source": [
    "# Отток клиентов"
   ]
  },
  {
   "cell_type": "markdown",
   "metadata": {},
   "source": [
    "Из банка стали уходить клиенты. Каждый месяц. Немного, но заметно. Банковские маркетологи посчитали: сохранять текущих клиентов дешевле, чем привлекать новых.\n",
    "\n",
    "Нужно спрогнозировать, уйдёт клиент из банка в ближайшее время или нет. Вам предоставлены исторические данные о поведении клиентов и расторжении договоров с банком. \n",
    "\n",
    "Постройте модель с предельно большим значением *F1*-меры. Чтобы сдать проект успешно, нужно довести метрику до 0.59. Проверьте *F1*-меру на тестовой выборке самостоятельно.\n",
    "\n",
    "Дополнительно измеряйте *AUC-ROC*, сравнивайте её значение с *F1*-мерой.\n",
    "\n",
    "Источник данных: [https://www.kaggle.com/barelydedicated/bank-customer-churn-modeling](https://www.kaggle.com/barelydedicated/bank-customer-churn-modeling)"
   ]
  },
  {
   "cell_type": "markdown",
   "metadata": {},
   "source": [
    "## Подготовка данных"
   ]
  },
  {
   "cell_type": "code",
   "execution_count": 1,
   "metadata": {},
   "outputs": [],
   "source": [
    "import pandas as pd\n",
    "from sklearn.preprocessing import StandardScaler\n",
    "from sklearn.model_selection import train_test_split\n",
    "from sklearn.linear_model import LogisticRegression\n",
    "from sklearn.ensemble import RandomForestClassifier\n",
    "from sklearn.tree import DecisionTreeClassifier\n",
    "from sklearn.metrics import plot_confusion_matrix\n",
    "from sklearn.metrics import f1_score\n",
    "from sklearn.metrics import roc_curve\n",
    "from sklearn.metrics import roc_auc_score\n",
    "from sklearn.utils import shuffle\n",
    "import matplotlib.pyplot as plt"
   ]
  },
  {
   "cell_type": "code",
   "execution_count": 2,
   "metadata": {},
   "outputs": [],
   "source": [
    "df = pd.read_csv('/datasets/Churn.csv')"
   ]
  },
  {
   "cell_type": "code",
   "execution_count": 3,
   "metadata": {},
   "outputs": [],
   "source": [
    "df = df.drop(['Surname', 'RowNumber', 'CustomerId'], axis=1)"
   ]
  },
  {
   "cell_type": "markdown",
   "metadata": {},
   "source": [
    "### Проверка дубликатов"
   ]
  },
  {
   "cell_type": "code",
   "execution_count": 4,
   "metadata": {},
   "outputs": [
    {
     "data": {
      "text/plain": [
       "0"
      ]
     },
     "execution_count": 4,
     "metadata": {},
     "output_type": "execute_result"
    }
   ],
   "source": [
    "df.duplicated().sum()"
   ]
  },
  {
   "cell_type": "markdown",
   "metadata": {},
   "source": [
    "### Проверка пропусков"
   ]
  },
  {
   "cell_type": "code",
   "execution_count": 5,
   "metadata": {
    "scrolled": false
   },
   "outputs": [
    {
     "data": {
      "text/plain": [
       "CreditScore          0\n",
       "Geography            0\n",
       "Gender               0\n",
       "Age                  0\n",
       "Tenure             909\n",
       "Balance              0\n",
       "NumOfProducts        0\n",
       "HasCrCard            0\n",
       "IsActiveMember       0\n",
       "EstimatedSalary      0\n",
       "Exited               0\n",
       "dtype: int64"
      ]
     },
     "execution_count": 5,
     "metadata": {},
     "output_type": "execute_result"
    }
   ],
   "source": [
    "df.isna().sum()"
   ]
  },
  {
   "cell_type": "code",
   "execution_count": 6,
   "metadata": {},
   "outputs": [
    {
     "data": {
      "text/html": [
       "<div>\n",
       "<style scoped>\n",
       "    .dataframe tbody tr th:only-of-type {\n",
       "        vertical-align: middle;\n",
       "    }\n",
       "\n",
       "    .dataframe tbody tr th {\n",
       "        vertical-align: top;\n",
       "    }\n",
       "\n",
       "    .dataframe thead th {\n",
       "        text-align: right;\n",
       "    }\n",
       "</style>\n",
       "<table border=\"1\" class=\"dataframe\">\n",
       "  <thead>\n",
       "    <tr style=\"text-align: right;\">\n",
       "      <th></th>\n",
       "      <th>CreditScore</th>\n",
       "      <th>Age</th>\n",
       "      <th>Tenure</th>\n",
       "      <th>Balance</th>\n",
       "      <th>NumOfProducts</th>\n",
       "      <th>HasCrCard</th>\n",
       "      <th>IsActiveMember</th>\n",
       "      <th>EstimatedSalary</th>\n",
       "      <th>Exited</th>\n",
       "    </tr>\n",
       "  </thead>\n",
       "  <tbody>\n",
       "    <tr>\n",
       "      <th>count</th>\n",
       "      <td>10000.000000</td>\n",
       "      <td>10000.000000</td>\n",
       "      <td>9091.000000</td>\n",
       "      <td>10000.000000</td>\n",
       "      <td>10000.000000</td>\n",
       "      <td>10000.00000</td>\n",
       "      <td>10000.000000</td>\n",
       "      <td>10000.000000</td>\n",
       "      <td>10000.000000</td>\n",
       "    </tr>\n",
       "    <tr>\n",
       "      <th>mean</th>\n",
       "      <td>650.528800</td>\n",
       "      <td>38.921800</td>\n",
       "      <td>4.997690</td>\n",
       "      <td>76485.889288</td>\n",
       "      <td>1.530200</td>\n",
       "      <td>0.70550</td>\n",
       "      <td>0.515100</td>\n",
       "      <td>100090.239881</td>\n",
       "      <td>0.203700</td>\n",
       "    </tr>\n",
       "    <tr>\n",
       "      <th>std</th>\n",
       "      <td>96.653299</td>\n",
       "      <td>10.487806</td>\n",
       "      <td>2.894723</td>\n",
       "      <td>62397.405202</td>\n",
       "      <td>0.581654</td>\n",
       "      <td>0.45584</td>\n",
       "      <td>0.499797</td>\n",
       "      <td>57510.492818</td>\n",
       "      <td>0.402769</td>\n",
       "    </tr>\n",
       "    <tr>\n",
       "      <th>min</th>\n",
       "      <td>350.000000</td>\n",
       "      <td>18.000000</td>\n",
       "      <td>0.000000</td>\n",
       "      <td>0.000000</td>\n",
       "      <td>1.000000</td>\n",
       "      <td>0.00000</td>\n",
       "      <td>0.000000</td>\n",
       "      <td>11.580000</td>\n",
       "      <td>0.000000</td>\n",
       "    </tr>\n",
       "    <tr>\n",
       "      <th>25%</th>\n",
       "      <td>584.000000</td>\n",
       "      <td>32.000000</td>\n",
       "      <td>2.000000</td>\n",
       "      <td>0.000000</td>\n",
       "      <td>1.000000</td>\n",
       "      <td>0.00000</td>\n",
       "      <td>0.000000</td>\n",
       "      <td>51002.110000</td>\n",
       "      <td>0.000000</td>\n",
       "    </tr>\n",
       "    <tr>\n",
       "      <th>50%</th>\n",
       "      <td>652.000000</td>\n",
       "      <td>37.000000</td>\n",
       "      <td>5.000000</td>\n",
       "      <td>97198.540000</td>\n",
       "      <td>1.000000</td>\n",
       "      <td>1.00000</td>\n",
       "      <td>1.000000</td>\n",
       "      <td>100193.915000</td>\n",
       "      <td>0.000000</td>\n",
       "    </tr>\n",
       "    <tr>\n",
       "      <th>75%</th>\n",
       "      <td>718.000000</td>\n",
       "      <td>44.000000</td>\n",
       "      <td>7.000000</td>\n",
       "      <td>127644.240000</td>\n",
       "      <td>2.000000</td>\n",
       "      <td>1.00000</td>\n",
       "      <td>1.000000</td>\n",
       "      <td>149388.247500</td>\n",
       "      <td>0.000000</td>\n",
       "    </tr>\n",
       "    <tr>\n",
       "      <th>max</th>\n",
       "      <td>850.000000</td>\n",
       "      <td>92.000000</td>\n",
       "      <td>10.000000</td>\n",
       "      <td>250898.090000</td>\n",
       "      <td>4.000000</td>\n",
       "      <td>1.00000</td>\n",
       "      <td>1.000000</td>\n",
       "      <td>199992.480000</td>\n",
       "      <td>1.000000</td>\n",
       "    </tr>\n",
       "  </tbody>\n",
       "</table>\n",
       "</div>"
      ],
      "text/plain": [
       "        CreditScore           Age       Tenure        Balance  NumOfProducts  \\\n",
       "count  10000.000000  10000.000000  9091.000000   10000.000000   10000.000000   \n",
       "mean     650.528800     38.921800     4.997690   76485.889288       1.530200   \n",
       "std       96.653299     10.487806     2.894723   62397.405202       0.581654   \n",
       "min      350.000000     18.000000     0.000000       0.000000       1.000000   \n",
       "25%      584.000000     32.000000     2.000000       0.000000       1.000000   \n",
       "50%      652.000000     37.000000     5.000000   97198.540000       1.000000   \n",
       "75%      718.000000     44.000000     7.000000  127644.240000       2.000000   \n",
       "max      850.000000     92.000000    10.000000  250898.090000       4.000000   \n",
       "\n",
       "         HasCrCard  IsActiveMember  EstimatedSalary        Exited  \n",
       "count  10000.00000    10000.000000     10000.000000  10000.000000  \n",
       "mean       0.70550        0.515100    100090.239881      0.203700  \n",
       "std        0.45584        0.499797     57510.492818      0.402769  \n",
       "min        0.00000        0.000000        11.580000      0.000000  \n",
       "25%        0.00000        0.000000     51002.110000      0.000000  \n",
       "50%        1.00000        1.000000    100193.915000      0.000000  \n",
       "75%        1.00000        1.000000    149388.247500      0.000000  \n",
       "max        1.00000        1.000000    199992.480000      1.000000  "
      ]
     },
     "execution_count": 6,
     "metadata": {},
     "output_type": "execute_result"
    }
   ],
   "source": [
    "df.describe()"
   ]
  },
  {
   "cell_type": "code",
   "execution_count": 7,
   "metadata": {
    "scrolled": false
   },
   "outputs": [
    {
     "data": {
      "text/html": [
       "<div>\n",
       "<style scoped>\n",
       "    .dataframe tbody tr th:only-of-type {\n",
       "        vertical-align: middle;\n",
       "    }\n",
       "\n",
       "    .dataframe tbody tr th {\n",
       "        vertical-align: top;\n",
       "    }\n",
       "\n",
       "    .dataframe thead th {\n",
       "        text-align: right;\n",
       "    }\n",
       "</style>\n",
       "<table border=\"1\" class=\"dataframe\">\n",
       "  <thead>\n",
       "    <tr style=\"text-align: right;\">\n",
       "      <th></th>\n",
       "      <th>CreditScore</th>\n",
       "      <th>Age</th>\n",
       "      <th>Tenure</th>\n",
       "      <th>Balance</th>\n",
       "      <th>NumOfProducts</th>\n",
       "      <th>HasCrCard</th>\n",
       "      <th>IsActiveMember</th>\n",
       "      <th>EstimatedSalary</th>\n",
       "      <th>Exited</th>\n",
       "    </tr>\n",
       "  </thead>\n",
       "  <tbody>\n",
       "    <tr>\n",
       "      <th>count</th>\n",
       "      <td>9091.000000</td>\n",
       "      <td>9091.000000</td>\n",
       "      <td>9091.000000</td>\n",
       "      <td>9091.000000</td>\n",
       "      <td>9091.000000</td>\n",
       "      <td>9091.000000</td>\n",
       "      <td>9091.000000</td>\n",
       "      <td>9091.000000</td>\n",
       "      <td>9091.000000</td>\n",
       "    </tr>\n",
       "    <tr>\n",
       "      <th>mean</th>\n",
       "      <td>650.736553</td>\n",
       "      <td>38.949181</td>\n",
       "      <td>4.997690</td>\n",
       "      <td>76522.740015</td>\n",
       "      <td>1.530195</td>\n",
       "      <td>0.704983</td>\n",
       "      <td>0.515565</td>\n",
       "      <td>100181.214924</td>\n",
       "      <td>0.203938</td>\n",
       "    </tr>\n",
       "    <tr>\n",
       "      <th>std</th>\n",
       "      <td>96.410471</td>\n",
       "      <td>10.555581</td>\n",
       "      <td>2.894723</td>\n",
       "      <td>62329.528576</td>\n",
       "      <td>0.581003</td>\n",
       "      <td>0.456076</td>\n",
       "      <td>0.499785</td>\n",
       "      <td>57624.755647</td>\n",
       "      <td>0.402946</td>\n",
       "    </tr>\n",
       "    <tr>\n",
       "      <th>min</th>\n",
       "      <td>350.000000</td>\n",
       "      <td>18.000000</td>\n",
       "      <td>0.000000</td>\n",
       "      <td>0.000000</td>\n",
       "      <td>1.000000</td>\n",
       "      <td>0.000000</td>\n",
       "      <td>0.000000</td>\n",
       "      <td>11.580000</td>\n",
       "      <td>0.000000</td>\n",
       "    </tr>\n",
       "    <tr>\n",
       "      <th>25%</th>\n",
       "      <td>584.000000</td>\n",
       "      <td>32.000000</td>\n",
       "      <td>2.000000</td>\n",
       "      <td>0.000000</td>\n",
       "      <td>1.000000</td>\n",
       "      <td>0.000000</td>\n",
       "      <td>0.000000</td>\n",
       "      <td>51227.745000</td>\n",
       "      <td>0.000000</td>\n",
       "    </tr>\n",
       "    <tr>\n",
       "      <th>50%</th>\n",
       "      <td>652.000000</td>\n",
       "      <td>37.000000</td>\n",
       "      <td>5.000000</td>\n",
       "      <td>97318.250000</td>\n",
       "      <td>1.000000</td>\n",
       "      <td>1.000000</td>\n",
       "      <td>1.000000</td>\n",
       "      <td>100240.200000</td>\n",
       "      <td>0.000000</td>\n",
       "    </tr>\n",
       "    <tr>\n",
       "      <th>75%</th>\n",
       "      <td>717.000000</td>\n",
       "      <td>44.000000</td>\n",
       "      <td>7.000000</td>\n",
       "      <td>127561.890000</td>\n",
       "      <td>2.000000</td>\n",
       "      <td>1.000000</td>\n",
       "      <td>1.000000</td>\n",
       "      <td>149567.210000</td>\n",
       "      <td>0.000000</td>\n",
       "    </tr>\n",
       "    <tr>\n",
       "      <th>max</th>\n",
       "      <td>850.000000</td>\n",
       "      <td>92.000000</td>\n",
       "      <td>10.000000</td>\n",
       "      <td>250898.090000</td>\n",
       "      <td>4.000000</td>\n",
       "      <td>1.000000</td>\n",
       "      <td>1.000000</td>\n",
       "      <td>199992.480000</td>\n",
       "      <td>1.000000</td>\n",
       "    </tr>\n",
       "  </tbody>\n",
       "</table>\n",
       "</div>"
      ],
      "text/plain": [
       "       CreditScore          Age       Tenure        Balance  NumOfProducts  \\\n",
       "count  9091.000000  9091.000000  9091.000000    9091.000000    9091.000000   \n",
       "mean    650.736553    38.949181     4.997690   76522.740015       1.530195   \n",
       "std      96.410471    10.555581     2.894723   62329.528576       0.581003   \n",
       "min     350.000000    18.000000     0.000000       0.000000       1.000000   \n",
       "25%     584.000000    32.000000     2.000000       0.000000       1.000000   \n",
       "50%     652.000000    37.000000     5.000000   97318.250000       1.000000   \n",
       "75%     717.000000    44.000000     7.000000  127561.890000       2.000000   \n",
       "max     850.000000    92.000000    10.000000  250898.090000       4.000000   \n",
       "\n",
       "         HasCrCard  IsActiveMember  EstimatedSalary       Exited  \n",
       "count  9091.000000     9091.000000      9091.000000  9091.000000  \n",
       "mean      0.704983        0.515565    100181.214924     0.203938  \n",
       "std       0.456076        0.499785     57624.755647     0.402946  \n",
       "min       0.000000        0.000000        11.580000     0.000000  \n",
       "25%       0.000000        0.000000     51227.745000     0.000000  \n",
       "50%       1.000000        1.000000    100240.200000     0.000000  \n",
       "75%       1.000000        1.000000    149567.210000     0.000000  \n",
       "max       1.000000        1.000000    199992.480000     1.000000  "
      ]
     },
     "execution_count": 7,
     "metadata": {},
     "output_type": "execute_result"
    }
   ],
   "source": [
    "df[~df['Tenure'].isna()].describe()"
   ]
  },
  {
   "cell_type": "markdown",
   "metadata": {},
   "source": [
    "Основные характеристики датафрема не изменились при скрывании пропусков в столбце Tenure поэтому можем от них избавиться."
   ]
  },
  {
   "cell_type": "code",
   "execution_count": 8,
   "metadata": {},
   "outputs": [],
   "source": [
    "df = df.dropna().reset_index(drop=True)"
   ]
  },
  {
   "cell_type": "markdown",
   "metadata": {},
   "source": [
    "### Подготовка признаков"
   ]
  },
  {
   "cell_type": "markdown",
   "metadata": {},
   "source": [
    "Разобьем датафрем на три выборки"
   ]
  },
  {
   "cell_type": "code",
   "execution_count": 9,
   "metadata": {
    "scrolled": true
   },
   "outputs": [
    {
     "name": "stdout",
     "output_type": "stream",
     "text": [
      "Requirement already satisfied: fast_ml in /opt/conda/lib/python3.9/site-packages (3.68)\r\n"
     ]
    }
   ],
   "source": [
    "!pip install fast_ml\n",
    "from fast_ml.model_development import train_valid_test_split\n",
    "\n",
    "X_train, y_train, X_valid, y_valid, X_test, y_test = train_valid_test_split(df, target = 'Exited', \n",
    "                                                                            train_size=0.6, valid_size=0.2, test_size=0.2)"
   ]
  },
  {
   "cell_type": "markdown",
   "metadata": {},
   "source": [
    "Преобразуем категориальные признаки при помощи техники OHE"
   ]
  },
  {
   "cell_type": "code",
   "execution_count": 10,
   "metadata": {},
   "outputs": [],
   "source": [
    "X_train = pd.get_dummies(X_train, drop_first=True)\n",
    "X_valid = pd.get_dummies(X_valid, drop_first=True)\n",
    "X_test = pd.get_dummies(X_test, drop_first=True)"
   ]
  },
  {
   "cell_type": "code",
   "execution_count": 16,
   "metadata": {},
   "outputs": [
    {
     "data": {
      "text/html": [
       "<div>\n",
       "<style scoped>\n",
       "    .dataframe tbody tr th:only-of-type {\n",
       "        vertical-align: middle;\n",
       "    }\n",
       "\n",
       "    .dataframe tbody tr th {\n",
       "        vertical-align: top;\n",
       "    }\n",
       "\n",
       "    .dataframe thead th {\n",
       "        text-align: right;\n",
       "    }\n",
       "</style>\n",
       "<table border=\"1\" class=\"dataframe\">\n",
       "  <thead>\n",
       "    <tr style=\"text-align: right;\">\n",
       "      <th></th>\n",
       "      <th>CreditScore</th>\n",
       "      <th>Age</th>\n",
       "      <th>Tenure</th>\n",
       "      <th>Balance</th>\n",
       "      <th>NumOfProducts</th>\n",
       "      <th>HasCrCard</th>\n",
       "      <th>IsActiveMember</th>\n",
       "      <th>EstimatedSalary</th>\n",
       "      <th>Geography_Germany</th>\n",
       "      <th>Geography_Spain</th>\n",
       "      <th>Gender_Male</th>\n",
       "    </tr>\n",
       "  </thead>\n",
       "  <tbody>\n",
       "    <tr>\n",
       "      <th>1367</th>\n",
       "      <td>711</td>\n",
       "      <td>34</td>\n",
       "      <td>8.0</td>\n",
       "      <td>0.00</td>\n",
       "      <td>2</td>\n",
       "      <td>0</td>\n",
       "      <td>0</td>\n",
       "      <td>48260.19</td>\n",
       "      <td>0</td>\n",
       "      <td>0</td>\n",
       "      <td>1</td>\n",
       "    </tr>\n",
       "    <tr>\n",
       "      <th>8544</th>\n",
       "      <td>419</td>\n",
       "      <td>27</td>\n",
       "      <td>2.0</td>\n",
       "      <td>121580.42</td>\n",
       "      <td>1</td>\n",
       "      <td>0</td>\n",
       "      <td>1</td>\n",
       "      <td>134720.51</td>\n",
       "      <td>0</td>\n",
       "      <td>1</td>\n",
       "      <td>0</td>\n",
       "    </tr>\n",
       "    <tr>\n",
       "      <th>112</th>\n",
       "      <td>656</td>\n",
       "      <td>39</td>\n",
       "      <td>6.0</td>\n",
       "      <td>0.00</td>\n",
       "      <td>2</td>\n",
       "      <td>1</td>\n",
       "      <td>0</td>\n",
       "      <td>141069.88</td>\n",
       "      <td>0</td>\n",
       "      <td>0</td>\n",
       "      <td>0</td>\n",
       "    </tr>\n",
       "    <tr>\n",
       "      <th>5013</th>\n",
       "      <td>553</td>\n",
       "      <td>44</td>\n",
       "      <td>4.0</td>\n",
       "      <td>0.00</td>\n",
       "      <td>1</td>\n",
       "      <td>1</td>\n",
       "      <td>0</td>\n",
       "      <td>10789.30</td>\n",
       "      <td>0</td>\n",
       "      <td>1</td>\n",
       "      <td>1</td>\n",
       "    </tr>\n",
       "    <tr>\n",
       "      <th>6933</th>\n",
       "      <td>541</td>\n",
       "      <td>46</td>\n",
       "      <td>6.0</td>\n",
       "      <td>0.00</td>\n",
       "      <td>2</td>\n",
       "      <td>1</td>\n",
       "      <td>1</td>\n",
       "      <td>83456.67</td>\n",
       "      <td>0</td>\n",
       "      <td>0</td>\n",
       "      <td>1</td>\n",
       "    </tr>\n",
       "  </tbody>\n",
       "</table>\n",
       "</div>"
      ],
      "text/plain": [
       "      CreditScore  Age  Tenure    Balance  NumOfProducts  HasCrCard  \\\n",
       "1367          711   34     8.0       0.00              2          0   \n",
       "8544          419   27     2.0  121580.42              1          0   \n",
       "112           656   39     6.0       0.00              2          1   \n",
       "5013          553   44     4.0       0.00              1          1   \n",
       "6933          541   46     6.0       0.00              2          1   \n",
       "\n",
       "      IsActiveMember  EstimatedSalary  Geography_Germany  Geography_Spain  \\\n",
       "1367               0         48260.19                  0                0   \n",
       "8544               1        134720.51                  0                1   \n",
       "112                0        141069.88                  0                0   \n",
       "5013               0         10789.30                  0                1   \n",
       "6933               1         83456.67                  0                0   \n",
       "\n",
       "      Gender_Male  \n",
       "1367            1  \n",
       "8544            0  \n",
       "112             0  \n",
       "5013            1  \n",
       "6933            1  "
      ]
     },
     "execution_count": 16,
     "metadata": {},
     "output_type": "execute_result"
    }
   ],
   "source": [
    "X_train.head()"
   ]
  },
  {
   "cell_type": "code",
   "execution_count": 17,
   "metadata": {},
   "outputs": [
    {
     "data": {
      "text/html": [
       "<div>\n",
       "<style scoped>\n",
       "    .dataframe tbody tr th:only-of-type {\n",
       "        vertical-align: middle;\n",
       "    }\n",
       "\n",
       "    .dataframe tbody tr th {\n",
       "        vertical-align: top;\n",
       "    }\n",
       "\n",
       "    .dataframe thead th {\n",
       "        text-align: right;\n",
       "    }\n",
       "</style>\n",
       "<table border=\"1\" class=\"dataframe\">\n",
       "  <thead>\n",
       "    <tr style=\"text-align: right;\">\n",
       "      <th></th>\n",
       "      <th>CreditScore</th>\n",
       "      <th>Age</th>\n",
       "      <th>Tenure</th>\n",
       "      <th>Balance</th>\n",
       "      <th>NumOfProducts</th>\n",
       "      <th>HasCrCard</th>\n",
       "      <th>IsActiveMember</th>\n",
       "      <th>EstimatedSalary</th>\n",
       "      <th>Geography_Germany</th>\n",
       "      <th>Geography_Spain</th>\n",
       "      <th>Gender_Male</th>\n",
       "    </tr>\n",
       "  </thead>\n",
       "  <tbody>\n",
       "    <tr>\n",
       "      <th>4442</th>\n",
       "      <td>699</td>\n",
       "      <td>40</td>\n",
       "      <td>2.0</td>\n",
       "      <td>0.00</td>\n",
       "      <td>1</td>\n",
       "      <td>1</td>\n",
       "      <td>0</td>\n",
       "      <td>78387.32</td>\n",
       "      <td>0</td>\n",
       "      <td>1</td>\n",
       "      <td>1</td>\n",
       "    </tr>\n",
       "    <tr>\n",
       "      <th>1278</th>\n",
       "      <td>550</td>\n",
       "      <td>57</td>\n",
       "      <td>5.0</td>\n",
       "      <td>0.00</td>\n",
       "      <td>1</td>\n",
       "      <td>1</td>\n",
       "      <td>1</td>\n",
       "      <td>133501.94</td>\n",
       "      <td>0</td>\n",
       "      <td>0</td>\n",
       "      <td>1</td>\n",
       "    </tr>\n",
       "    <tr>\n",
       "      <th>1327</th>\n",
       "      <td>574</td>\n",
       "      <td>26</td>\n",
       "      <td>8.0</td>\n",
       "      <td>97460.10</td>\n",
       "      <td>1</td>\n",
       "      <td>1</td>\n",
       "      <td>1</td>\n",
       "      <td>43093.67</td>\n",
       "      <td>0</td>\n",
       "      <td>0</td>\n",
       "      <td>1</td>\n",
       "    </tr>\n",
       "    <tr>\n",
       "      <th>1613</th>\n",
       "      <td>697</td>\n",
       "      <td>74</td>\n",
       "      <td>3.0</td>\n",
       "      <td>108071.36</td>\n",
       "      <td>2</td>\n",
       "      <td>1</td>\n",
       "      <td>1</td>\n",
       "      <td>16445.79</td>\n",
       "      <td>1</td>\n",
       "      <td>0</td>\n",
       "      <td>0</td>\n",
       "    </tr>\n",
       "    <tr>\n",
       "      <th>4694</th>\n",
       "      <td>661</td>\n",
       "      <td>35</td>\n",
       "      <td>5.0</td>\n",
       "      <td>128415.45</td>\n",
       "      <td>1</td>\n",
       "      <td>1</td>\n",
       "      <td>0</td>\n",
       "      <td>142626.49</td>\n",
       "      <td>0</td>\n",
       "      <td>1</td>\n",
       "      <td>0</td>\n",
       "    </tr>\n",
       "  </tbody>\n",
       "</table>\n",
       "</div>"
      ],
      "text/plain": [
       "      CreditScore  Age  Tenure    Balance  NumOfProducts  HasCrCard  \\\n",
       "4442          699   40     2.0       0.00              1          1   \n",
       "1278          550   57     5.0       0.00              1          1   \n",
       "1327          574   26     8.0   97460.10              1          1   \n",
       "1613          697   74     3.0  108071.36              2          1   \n",
       "4694          661   35     5.0  128415.45              1          1   \n",
       "\n",
       "      IsActiveMember  EstimatedSalary  Geography_Germany  Geography_Spain  \\\n",
       "4442               0         78387.32                  0                1   \n",
       "1278               1        133501.94                  0                0   \n",
       "1327               1         43093.67                  0                0   \n",
       "1613               1         16445.79                  1                0   \n",
       "4694               0        142626.49                  0                1   \n",
       "\n",
       "      Gender_Male  \n",
       "4442            1  \n",
       "1278            1  \n",
       "1327            1  \n",
       "1613            0  \n",
       "4694            0  "
      ]
     },
     "execution_count": 17,
     "metadata": {},
     "output_type": "execute_result"
    }
   ],
   "source": [
    "X_valid.head()"
   ]
  },
  {
   "cell_type": "code",
   "execution_count": 18,
   "metadata": {},
   "outputs": [
    {
     "data": {
      "text/html": [
       "<div>\n",
       "<style scoped>\n",
       "    .dataframe tbody tr th:only-of-type {\n",
       "        vertical-align: middle;\n",
       "    }\n",
       "\n",
       "    .dataframe tbody tr th {\n",
       "        vertical-align: top;\n",
       "    }\n",
       "\n",
       "    .dataframe thead th {\n",
       "        text-align: right;\n",
       "    }\n",
       "</style>\n",
       "<table border=\"1\" class=\"dataframe\">\n",
       "  <thead>\n",
       "    <tr style=\"text-align: right;\">\n",
       "      <th></th>\n",
       "      <th>CreditScore</th>\n",
       "      <th>Age</th>\n",
       "      <th>Tenure</th>\n",
       "      <th>Balance</th>\n",
       "      <th>NumOfProducts</th>\n",
       "      <th>HasCrCard</th>\n",
       "      <th>IsActiveMember</th>\n",
       "      <th>EstimatedSalary</th>\n",
       "      <th>Geography_Germany</th>\n",
       "      <th>Geography_Spain</th>\n",
       "      <th>Gender_Male</th>\n",
       "    </tr>\n",
       "  </thead>\n",
       "  <tbody>\n",
       "    <tr>\n",
       "      <th>139</th>\n",
       "      <td>716</td>\n",
       "      <td>42</td>\n",
       "      <td>8.0</td>\n",
       "      <td>0.00</td>\n",
       "      <td>2</td>\n",
       "      <td>1</td>\n",
       "      <td>0</td>\n",
       "      <td>180800.42</td>\n",
       "      <td>0</td>\n",
       "      <td>1</td>\n",
       "      <td>1</td>\n",
       "    </tr>\n",
       "    <tr>\n",
       "      <th>4865</th>\n",
       "      <td>750</td>\n",
       "      <td>37</td>\n",
       "      <td>1.0</td>\n",
       "      <td>133199.71</td>\n",
       "      <td>2</td>\n",
       "      <td>1</td>\n",
       "      <td>1</td>\n",
       "      <td>27366.77</td>\n",
       "      <td>1</td>\n",
       "      <td>0</td>\n",
       "      <td>0</td>\n",
       "    </tr>\n",
       "    <tr>\n",
       "      <th>6289</th>\n",
       "      <td>660</td>\n",
       "      <td>34</td>\n",
       "      <td>1.0</td>\n",
       "      <td>0.00</td>\n",
       "      <td>2</td>\n",
       "      <td>1</td>\n",
       "      <td>0</td>\n",
       "      <td>9692.58</td>\n",
       "      <td>0</td>\n",
       "      <td>0</td>\n",
       "      <td>1</td>\n",
       "    </tr>\n",
       "    <tr>\n",
       "      <th>3680</th>\n",
       "      <td>850</td>\n",
       "      <td>54</td>\n",
       "      <td>4.0</td>\n",
       "      <td>120952.74</td>\n",
       "      <td>1</td>\n",
       "      <td>1</td>\n",
       "      <td>0</td>\n",
       "      <td>66963.15</td>\n",
       "      <td>0</td>\n",
       "      <td>1</td>\n",
       "      <td>0</td>\n",
       "    </tr>\n",
       "    <tr>\n",
       "      <th>3109</th>\n",
       "      <td>625</td>\n",
       "      <td>37</td>\n",
       "      <td>1.0</td>\n",
       "      <td>177069.24</td>\n",
       "      <td>2</td>\n",
       "      <td>1</td>\n",
       "      <td>1</td>\n",
       "      <td>96088.54</td>\n",
       "      <td>0</td>\n",
       "      <td>0</td>\n",
       "      <td>1</td>\n",
       "    </tr>\n",
       "  </tbody>\n",
       "</table>\n",
       "</div>"
      ],
      "text/plain": [
       "      CreditScore  Age  Tenure    Balance  NumOfProducts  HasCrCard  \\\n",
       "139           716   42     8.0       0.00              2          1   \n",
       "4865          750   37     1.0  133199.71              2          1   \n",
       "6289          660   34     1.0       0.00              2          1   \n",
       "3680          850   54     4.0  120952.74              1          1   \n",
       "3109          625   37     1.0  177069.24              2          1   \n",
       "\n",
       "      IsActiveMember  EstimatedSalary  Geography_Germany  Geography_Spain  \\\n",
       "139                0        180800.42                  0                1   \n",
       "4865               1         27366.77                  1                0   \n",
       "6289               0          9692.58                  0                0   \n",
       "3680               0         66963.15                  0                1   \n",
       "3109               1         96088.54                  0                0   \n",
       "\n",
       "      Gender_Male  \n",
       "139             1  \n",
       "4865            0  \n",
       "6289            1  \n",
       "3680            0  \n",
       "3109            1  "
      ]
     },
     "execution_count": 18,
     "metadata": {},
     "output_type": "execute_result"
    }
   ],
   "source": [
    "X_test.head()"
   ]
  },
  {
   "cell_type": "markdown",
   "metadata": {},
   "source": [
    "Потерь столбцов после кодирования не наблюдается. Масштабируем количественные признаки с разным разбросом значений"
   ]
  },
  {
   "cell_type": "code",
   "execution_count": 19,
   "metadata": {},
   "outputs": [],
   "source": [
    "numeric = ['CreditScore', 'Age', 'Tenure', 'Balance', 'EstimatedSalary']\n",
    "\n",
    "scaler = StandardScaler()\n",
    "scaler.fit(X_train[numeric])\n",
    "X_train[numeric] = scaler.transform(X_train[numeric])"
   ]
  },
  {
   "cell_type": "code",
   "execution_count": 20,
   "metadata": {},
   "outputs": [],
   "source": [
    "scaler.fit(X_valid[numeric])\n",
    "X_valid[numeric] = scaler.transform(X_valid[numeric])"
   ]
  },
  {
   "cell_type": "code",
   "execution_count": 22,
   "metadata": {},
   "outputs": [],
   "source": [
    "scaler.fit(X_test[numeric])\n",
    "X_test[numeric] = scaler.transform(X_test[numeric])"
   ]
  },
  {
   "cell_type": "markdown",
   "metadata": {},
   "source": [
    "## Исследование задачи"
   ]
  },
  {
   "cell_type": "code",
   "execution_count": 23,
   "metadata": {
    "scrolled": true
   },
   "outputs": [
    {
     "data": {
      "text/plain": [
       "0    0.799047\n",
       "1    0.200953\n",
       "Name: Exited, dtype: float64"
      ]
     },
     "execution_count": 23,
     "metadata": {},
     "output_type": "execute_result"
    }
   ],
   "source": [
    "y_train.value_counts(normalize=True)"
   ]
  },
  {
   "cell_type": "markdown",
   "metadata": {},
   "source": [
    "В тренировочной выборке присутствует дисбаланс классов. Исследуем несколько моделей и проверим влияние дисбаланса на качество предсказания."
   ]
  },
  {
   "cell_type": "markdown",
   "metadata": {},
   "source": [
    "**Напишем функцию поиска лучшей модели**"
   ]
  },
  {
   "cell_type": "code",
   "execution_count": 24,
   "metadata": {},
   "outputs": [],
   "source": [
    "def clf_models(X_train, y_train, X_valid, y_valid):\n",
    "    f1 = []\n",
    "    depth_value = ['-']\n",
    "    n_estimators_value = ['-', '-']\n",
    "    models = []\n",
    "    \n",
    "    #Проверим логистическую регрессию\n",
    "    model_lr = LogisticRegression(random_state=12345, solver='lbfgs', max_iter=1000)\n",
    "    model_lr.fit(X_train, y_train) \n",
    "    y_pred = model_lr.predict(X_valid) \n",
    "    result = f1_score(y_valid, y_pred)\n",
    "    f1.append(result)\n",
    "    models.append(model_lr)\n",
    "    \n",
    "    #Проверим дерево решений\n",
    "    best_model_dtc = None\n",
    "    best_result = 0\n",
    "    best_depth = 0\n",
    "    for depth in range(1, 11):\n",
    "        model = DecisionTreeClassifier(random_state=12345, max_depth=depth) \n",
    "        model.fit(X_train, y_train) \n",
    "        y_pred = model.predict(X_valid) \n",
    "        result = f1_score(y_valid, y_pred) \n",
    "        if result > best_result:\n",
    "            best_model_dtc = model\n",
    "            best_depth = depth\n",
    "            best_result = result\n",
    "    f1.append(result)\n",
    "    depth_value.append(best_depth)\n",
    "    models.append(best_model_dtc)\n",
    "    \n",
    "    #Проверим случайный лес\n",
    "    best_model_rfc = None\n",
    "    best_result = 0\n",
    "    best_est = 0\n",
    "    best_depth = 0\n",
    "    for est in range(1, 101, 10):\n",
    "        for depth in range (1, 11):\n",
    "            model = RandomForestClassifier(random_state=12345, n_estimators=est, max_depth=depth) \n",
    "            model.fit(X_train, y_train) \n",
    "            y_pred = model.predict(X_valid) \n",
    "            result = f1_score(y_valid, y_pred) \n",
    "            if result > best_result:\n",
    "                best_model_rfc = model\n",
    "                best_result = result\n",
    "                best_est = est\n",
    "                best_depth = depth\n",
    "    f1.append(result)\n",
    "    depth_value.append(best_depth)\n",
    "    n_estimators_value.append(best_est)\n",
    "    models.append(best_model_rfc)\n",
    "    \n",
    "\n",
    "    df = pd.DataFrame({'clf':['Logic', 'Tree', 'Forest'], 'f1':f1, 'depth':depth_value, \n",
    "                       'n_estimators': n_estimators_value})\n",
    "    print(df)\n",
    "\n",
    "    fig, axes = plt.subplots(1, 3, figsize=(15,5))\n",
    "\n",
    "    for model, ax in zip(models, axes.flatten()):\n",
    "        plot_confusion_matrix(model, X_valid, y_valid, normalize='true', ax=ax, cmap='Blues')\n",
    "        ax.title.set_text(type(model).__name__)\n",
    "    plt.tight_layout()  \n",
    "    plt.show()\n",
    "    \n",
    "    return models"
   ]
  },
  {
   "cell_type": "code",
   "execution_count": 25,
   "metadata": {},
   "outputs": [
    {
     "name": "stdout",
     "output_type": "stream",
     "text": [
      "      clf        f1 depth n_estimators\n",
      "0   Logic  0.283525     -            -\n",
      "1    Tree  0.553623     8            -\n",
      "2  Forest  0.518135     4            1\n"
     ]
    },
    {
     "data": {
      "image/png": "[encoded data removed]",
      "text/plain": [
       "<Figure size 1080x360 with 6 Axes>"
      ]
     },
     "metadata": {
      "needs_background": "light"
     },
     "output_type": "display_data"
    },
    {
     "data": {
      "text/plain": [
       "[LogisticRegression(max_iter=1000, random_state=12345),\n",
       " DecisionTreeClassifier(max_depth=8, random_state=12345),\n",
       " RandomForestClassifier(max_depth=4, n_estimators=1, random_state=12345)]"
      ]
     },
     "execution_count": 25,
     "metadata": {},
     "output_type": "execute_result"
    }
   ],
   "source": [
    "clf_models(X_train, y_train, X_valid, y_valid)"
   ]
  },
  {
   "cell_type": "markdown",
   "metadata": {},
   "source": [
    "**Вывод:** Опираясь на результаты предсказаний, выведенные с помощью матрицы ошибок, можно сделать вывод, что из-за дисбаланса TPR в лучшем случае составляет 0.49, а F1 не привышает 0,55, что нельзя назвать удовлетворительным результатом. Проверим данные модели, исправив дисбаланс классов."
   ]
  },
  {
   "cell_type": "markdown",
   "metadata": {},
   "source": [
    "## Борьба с дисбалансом"
   ]
  },
  {
   "cell_type": "markdown",
   "metadata": {},
   "source": [
    "### Проверим модели при увеличении выборки"
   ]
  },
  {
   "cell_type": "code",
   "execution_count": 26,
   "metadata": {},
   "outputs": [],
   "source": [
    "#Функция увеличения выборки\n",
    "def upsample(X, y, repeat):\n",
    "    X_zeros = X[y == 0]\n",
    "    X_ones = X[y == 1]\n",
    "    y_zeros = y[y == 0]\n",
    "    y_ones = y[y == 1]\n",
    "\n",
    "    X_upsampled = pd.concat([X_zeros] + [X_ones] * repeat)\n",
    "    y_upsampled = pd.concat([y_zeros] + [y_ones] * repeat)\n",
    "    \n",
    "    X_upsampled, y_upsampled = shuffle(X_upsampled, y_upsampled, random_state=12345)\n",
    "    \n",
    "    return X_upsampled, y_upsampled"
   ]
  },
  {
   "cell_type": "code",
   "execution_count": 27,
   "metadata": {},
   "outputs": [],
   "source": [
    "X_train_up, y_train_up = upsample(X_train, y_train, 4)"
   ]
  },
  {
   "cell_type": "code",
   "execution_count": 28,
   "metadata": {
    "scrolled": false
   },
   "outputs": [
    {
     "name": "stdout",
     "output_type": "stream",
     "text": [
      "      clf        f1 depth n_estimators\n",
      "0   Logic  0.508318     -            -\n",
      "1    Tree  0.531755     6            -\n",
      "2  Forest  0.621787     8           51\n"
     ]
    },
    {
     "data": {
      "image/png": "[encoded data removed]",
      "text/plain": [
       "<Figure size 1080x360 with 6 Axes>"
      ]
     },
     "metadata": {
      "needs_background": "light"
     },
     "output_type": "display_data"
    }
   ],
   "source": [
    "models_up = clf_models(X_train_up, y_train_up, X_valid, y_valid)"
   ]
  },
  {
   "cell_type": "markdown",
   "metadata": {},
   "source": [
    "**Вывод:** Все модели показали значительный рост в определении 1 класса, метрика F1 превысила значение 0,6."
   ]
  },
  {
   "cell_type": "markdown",
   "metadata": {},
   "source": [
    "### Проверим модели при уменьшении выборки"
   ]
  },
  {
   "cell_type": "code",
   "execution_count": 29,
   "metadata": {},
   "outputs": [],
   "source": [
    "# Функция уменьшения выборки\n",
    "def downsample(X, y, fraction):\n",
    "    X_zeros = X[y == 0]\n",
    "    X_ones = X[y == 1]\n",
    "    y_zeros = y[y == 0]\n",
    "    y_ones = y[y == 1]\n",
    "\n",
    "    X_downsampled = pd.concat([X_zeros.sample(frac=fraction, random_state=12345)] + [X_ones])\n",
    "    y_downsampled = pd.concat([y_zeros.sample(frac=fraction, random_state=12345)] + [y_ones])\n",
    "    \n",
    "    X_downsampled, y_downsampled = shuffle(X_downsampled, y_downsampled, random_state=12345)\n",
    "    \n",
    "    return X_downsampled, y_downsampled\n",
    "\n",
    "X_train_down, y_train_down = downsample(X_train, y_train, 0.2)"
   ]
  },
  {
   "cell_type": "code",
   "execution_count": 30,
   "metadata": {},
   "outputs": [
    {
     "name": "stdout",
     "output_type": "stream",
     "text": [
      "      clf        f1 depth n_estimators\n",
      "0   Logic  0.495161     -            -\n",
      "1    Tree  0.504440     6            -\n",
      "2  Forest  0.572534     9           81\n"
     ]
    },
    {
     "data": {
      "image/png": "[encoded data removed]",
      "text/plain": [
       "<Figure size 1080x360 with 6 Axes>"
      ]
     },
     "metadata": {
      "needs_background": "light"
     },
     "output_type": "display_data"
    }
   ],
   "source": [
    "models_down = clf_models(X_train_down, y_train_down, X_valid, y_valid)"
   ]
  },
  {
   "cell_type": "markdown",
   "metadata": {},
   "source": [
    "**Вывод:** TPR стал еще выше, однако, тоже самое нельзя сказать про F1, т.к. FP срабатываний стало больше."
   ]
  },
  {
   "cell_type": "markdown",
   "metadata": {},
   "source": [
    "### Проверим модели, взвесив классы при помощи аргумента class_weight"
   ]
  },
  {
   "cell_type": "code",
   "execution_count": 31,
   "metadata": {},
   "outputs": [],
   "source": [
    "def clf_models_class_weight(X_train, y_train, X_valid, y_valid):\n",
    "    f1 = []\n",
    "    depth_value = ['-']\n",
    "    n_estimators_value = ['-', '-']\n",
    "    models = []\n",
    "    \n",
    "    #Проверим логистическую регрессию\n",
    "    model_lr = LogisticRegression(random_state=12345, solver='lbfgs', max_iter=1000, class_weight='balanced')\n",
    "    model_lr.fit(X_train, y_train) \n",
    "    y_pred = model_lr.predict(X_valid) \n",
    "    result = f1_score(y_valid, y_pred)\n",
    "    f1.append(result)\n",
    "    models.append(model_lr)\n",
    "    \n",
    "    #Проверим дерево решений\n",
    "    best_model_dtc = None\n",
    "    best_result = 0\n",
    "    best_depth = 0\n",
    "    for depth in range(1, 11):\n",
    "        model = DecisionTreeClassifier(random_state=12345, max_depth=depth, class_weight='balanced') \n",
    "        model.fit(X_train, y_train) \n",
    "        y_pred = model.predict(X_valid) \n",
    "        result = f1_score(y_valid, y_pred) \n",
    "        if result > best_result:\n",
    "            best_model_dtc = model\n",
    "            best_depth = depth\n",
    "            best_result = result\n",
    "    f1.append(result)\n",
    "    depth_value.append(best_depth)\n",
    "    models.append(best_model_dtc)\n",
    "    \n",
    "    #Проверим случайный лес\n",
    "    best_model_rfc = None\n",
    "    best_result = 0\n",
    "    best_est = 0\n",
    "    best_depth = 0\n",
    "    for est in range(1, 101, 10):\n",
    "        for depth in range (1, 11):\n",
    "            model = RandomForestClassifier(random_state=12345, n_estimators=est, max_depth=depth, class_weight='balanced') \n",
    "            model.fit(X_train, y_train) \n",
    "            y_pred = model.predict(X_valid) \n",
    "            result = f1_score(y_valid, y_pred) \n",
    "            if result > best_result:\n",
    "                best_model_rfc = model\n",
    "                best_result = result\n",
    "                best_est = est\n",
    "                best_depth = depth\n",
    "    f1.append(result)\n",
    "    depth_value.append(best_depth)\n",
    "    n_estimators_value.append(best_est)\n",
    "    models.append(best_model_rfc)\n",
    "    \n",
    "    df = pd.DataFrame({'clf':['Logic', 'Tree', 'Forest'], 'f1':f1, 'depth':depth_value, \n",
    "                       'n_estimators': n_estimators_value})\n",
    "    print(df)\n",
    "\n",
    "    fig, axes = plt.subplots(1, 3, figsize=(15,5))\n",
    "\n",
    "    for model, ax in zip(models, axes.flatten()):\n",
    "        plot_confusion_matrix(model, X_valid, y_valid, normalize='true', ax=ax, cmap='Blues')\n",
    "        ax.title.set_text(type(model).__name__)\n",
    "    plt.tight_layout()  \n",
    "    plt.show()\n",
    "    \n",
    "    return models"
   ]
  },
  {
   "cell_type": "code",
   "execution_count": 32,
   "metadata": {
    "scrolled": false
   },
   "outputs": [
    {
     "name": "stdout",
     "output_type": "stream",
     "text": [
      "      clf        f1 depth n_estimators\n",
      "0   Logic  0.506964     -            -\n",
      "1    Tree  0.528587     6            -\n",
      "2  Forest  0.607387     8           51\n"
     ]
    },
    {
     "data": {
      "image/png": "[encoded data removed]",
      "text/plain": [
       "<Figure size 1080x360 with 6 Axes>"
      ]
     },
     "metadata": {
      "needs_background": "light"
     },
     "output_type": "display_data"
    }
   ],
   "source": [
    " models_class_weight = clf_models_class_weight(X_train, y_train, X_valid, y_valid)"
   ]
  },
  {
   "cell_type": "markdown",
   "metadata": {},
   "source": [
    "**Вывод:** TPR хуже предыдущего метода борьбы с дисбалансом, хотя F1 лучше. "
   ]
  },
  {
   "cell_type": "markdown",
   "metadata": {},
   "source": [
    "**Общий вывод: наилучший результат F1 метрики показал модель RandomForestClassifier, это говорит о наименьшем количестве ложных срабатываний при наибольшем для этой модели показателе FPR.**"
   ]
  },
  {
   "cell_type": "markdown",
   "metadata": {},
   "source": [
    "## Тестирование модели"
   ]
  },
  {
   "cell_type": "markdown",
   "metadata": {},
   "source": [
    "### Протестируем модель, показавшую лучшую метрику F1."
   ]
  },
  {
   "cell_type": "code",
   "execution_count": 40,
   "metadata": {},
   "outputs": [
    {
     "name": "stdout",
     "output_type": "stream",
     "text": [
      "LogisticRegression 0.5054080629301868\n",
      "DecisionTreeClassifier 0.5821989528795811\n",
      "RandomForestClassifier 0.6277205040091639\n"
     ]
    }
   ],
   "source": [
    "for model in models_up: \n",
    "    print(type(model).__name__, f1_score(y_test, model.predict(X_test)))"
   ]
  },
  {
   "cell_type": "markdown",
   "metadata": {},
   "source": [
    "**Вывод:** значение F1 на тестовой выборке у модели RandomForestClassifier выше 0.59, не идеально конечно, но с этим уже можно работать."
   ]
  },
  {
   "cell_type": "markdown",
   "metadata": {},
   "source": [
    "### Проверим значение метрики AUC-ROC лучшей модели"
   ]
  },
  {
   "cell_type": "code",
   "execution_count": 41,
   "metadata": {
    "scrolled": true
   },
   "outputs": [
    {
     "data": {
      "image/png": "[encoded data removed]",
      "text/plain": [
       "<Figure size 432x288 with 1 Axes>"
      ]
     },
     "metadata": {
      "needs_background": "light"
     },
     "output_type": "display_data"
    }
   ],
   "source": [
    "probabilities_test = model.predict_proba(X_test)\n",
    "probabilities_one_test = probabilities_test[:, 1]\n",
    "\n",
    "fpr, tpr, thresholds = roc_curve(y_test, probabilities_one_test)\n",
    "\n",
    "plt.figure()\n",
    "\n",
    "plt.plot(fpr, tpr)\n",
    "\n",
    "plt.plot([0, 1], [0, 1], linestyle='--')\n",
    "\n",
    "plt.xlim([0,1])\n",
    "plt.ylim([0,1])\n",
    "\n",
    "plt.xlabel(\"False Positive Rate\")\n",
    "plt.ylabel(\"True Positive Rate\")\n",
    "plt.grid()\n",
    "plt.title(\"ROC-кривая\")\n",
    "\n",
    "plt.show()"
   ]
  },
  {
   "cell_type": "code",
   "execution_count": 42,
   "metadata": {
    "scrolled": true
   },
   "outputs": [
    {
     "data": {
      "text/plain": [
       "0.8736178947053005"
      ]
     },
     "execution_count": 42,
     "metadata": {},
     "output_type": "execute_result"
    }
   ],
   "source": [
    "roc_auc_score(y_test, probabilities_one_test)"
   ]
  },
  {
   "cell_type": "markdown",
   "metadata": {},
   "source": [
    "Найдем разницу между TPR и FPR при разных порогах."
   ]
  },
  {
   "cell_type": "code",
   "execution_count": 43,
   "metadata": {},
   "outputs": [],
   "source": [
    "df_roc = pd.DataFrame({'fpr': fpr, 'tpr':tpr, 'thresholds':thresholds})"
   ]
  },
  {
   "cell_type": "code",
   "execution_count": 44,
   "metadata": {},
   "outputs": [],
   "source": [
    "df_roc['tpr - fpr'] = df_roc['tpr'] - df_roc['fpr']"
   ]
  },
  {
   "cell_type": "code",
   "execution_count": 45,
   "metadata": {
    "scrolled": true
   },
   "outputs": [
    {
     "data": {
      "text/html": [
       "<div>\n",
       "<style scoped>\n",
       "    .dataframe tbody tr th:only-of-type {\n",
       "        vertical-align: middle;\n",
       "    }\n",
       "\n",
       "    .dataframe tbody tr th {\n",
       "        vertical-align: top;\n",
       "    }\n",
       "\n",
       "    .dataframe thead th {\n",
       "        text-align: right;\n",
       "    }\n",
       "</style>\n",
       "<table border=\"1\" class=\"dataframe\">\n",
       "  <thead>\n",
       "    <tr style=\"text-align: right;\">\n",
       "      <th></th>\n",
       "      <th>fpr</th>\n",
       "      <th>tpr</th>\n",
       "      <th>thresholds</th>\n",
       "      <th>tpr - fpr</th>\n",
       "    </tr>\n",
       "  </thead>\n",
       "  <tbody>\n",
       "    <tr>\n",
       "      <th>238</th>\n",
       "      <td>0.192281</td>\n",
       "      <td>0.785326</td>\n",
       "      <td>0.465898</td>\n",
       "      <td>0.593045</td>\n",
       "    </tr>\n",
       "    <tr>\n",
       "      <th>200</th>\n",
       "      <td>0.139214</td>\n",
       "      <td>0.730978</td>\n",
       "      <td>0.520374</td>\n",
       "      <td>0.591764</td>\n",
       "    </tr>\n",
       "    <tr>\n",
       "      <th>236</th>\n",
       "      <td>0.190903</td>\n",
       "      <td>0.782609</td>\n",
       "      <td>0.466807</td>\n",
       "      <td>0.591706</td>\n",
       "    </tr>\n",
       "    <tr>\n",
       "      <th>234</th>\n",
       "      <td>0.188835</td>\n",
       "      <td>0.779891</td>\n",
       "      <td>0.467851</td>\n",
       "      <td>0.591056</td>\n",
       "    </tr>\n",
       "    <tr>\n",
       "      <th>237</th>\n",
       "      <td>0.192281</td>\n",
       "      <td>0.782609</td>\n",
       "      <td>0.465984</td>\n",
       "      <td>0.590328</td>\n",
       "    </tr>\n",
       "  </tbody>\n",
       "</table>\n",
       "</div>"
      ],
      "text/plain": [
       "          fpr       tpr  thresholds  tpr - fpr\n",
       "238  0.192281  0.785326    0.465898   0.593045\n",
       "200  0.139214  0.730978    0.520374   0.591764\n",
       "236  0.190903  0.782609    0.466807   0.591706\n",
       "234  0.188835  0.779891    0.467851   0.591056\n",
       "237  0.192281  0.782609    0.465984   0.590328"
      ]
     },
     "execution_count": 45,
     "metadata": {},
     "output_type": "execute_result"
    }
   ],
   "source": [
    "df_roc.sort_values('tpr - fpr', ascending=False).head()\n"
   ]
  },
  {
   "cell_type": "markdown",
   "metadata": {},
   "source": [
    "**Вывод:** в зависимости от веса дохода (TPR) от удержания клиента и веса издержек (TPR) при ошибочном срабатывании можно определить оптимальный порог, при котором прибыль будет максимальной."
   ]
  },
  {
   "cell_type": "code",
   "execution_count": 46,
   "metadata": {},
   "outputs": [
    {
     "name": "stdout",
     "output_type": "stream",
     "text": [
      "Если веса TPR и FPR одинаковые, то в нашем случае оптимальный порог составит \n",
      "238    0.465898\n",
      "Name: thresholds, dtype: float64\n"
     ]
    }
   ],
   "source": [
    "print(f\"\"\"Если веса TPR и FPR одинаковые, то в нашем случае оптимальный порог составит \n",
    "{df_roc.sort_values('tpr - fpr', ascending=False)['thresholds'].head(1)}\"\"\")"
   ]
  },
  {
   "cell_type": "markdown",
   "metadata": {},
   "source": [
    "## Общий вывод"
   ]
  },
  {
   "cell_type": "markdown",
   "metadata": {},
   "source": [
    "1.Провели обучение трех моделей: LogisticRegression, DecisionTreeClassifier, RandomForestClassifier - на оригинальнйо выборке и сбалансированной. Балансировку провели тремя разными способами: с помощью аргумента class_weight, а также через увеличение и уменьшение выборки.\n",
    "\n",
    "2.Наилучший показатель метрики F1 показала модель RandomForestClassifier(max_depth=8, n_estimators=51, random_state=12345) при увеличенной тренировочной выборки. Результат на валидационной выборке по метрике F1 0.621787, на тестовой 0.627720. Модель в 71% случаев правильно определяет клиентов, которые уйдут, и 86% случаях, которые останутся.\n",
    "\n",
    "3.На данный момент 20% клиентов покидают банк, этот показатель можно сократить. Необходимо определить доход от удержаного клиента и издержки направленные на удержания клиента для определения оптимального порога, с помощью которого можно будет настроить модель для получения максимальной прибыли от удержания клиентов."
   ]
  }
 ],
 "metadata": {
  "ExecuteTimeLog": [
   {
    "duration": 380,
    "start_time": "2022-12-29T16:55:10.462Z"
   },
   {
    "duration": 87,
    "start_time": "2022-12-29T16:55:37.282Z"
   },
   {
    "duration": 26,
    "start_time": "2022-12-29T16:55:43.185Z"
   },
   {
    "duration": 192,
    "start_time": "2022-12-29T16:58:20.641Z"
   },
   {
    "duration": 25,
    "start_time": "2022-12-29T16:58:24.540Z"
   },
   {
    "duration": 36,
    "start_time": "2022-12-29T16:58:49.699Z"
   },
   {
    "duration": 19,
    "start_time": "2022-12-29T16:58:51.738Z"
   },
   {
    "duration": 951,
    "start_time": "2022-12-29T17:00:19.100Z"
   },
   {
    "duration": 736,
    "start_time": "2022-12-29T17:34:41.590Z"
   },
   {
    "duration": 185,
    "start_time": "2022-12-29T17:34:56.364Z"
   },
   {
    "duration": 25,
    "start_time": "2022-12-29T17:35:03.687Z"
   },
   {
    "duration": 5,
    "start_time": "2022-12-29T17:35:28.791Z"
   },
   {
    "duration": 23,
    "start_time": "2022-12-29T17:35:49.573Z"
   },
   {
    "duration": 5,
    "start_time": "2022-12-29T17:36:09.359Z"
   },
   {
    "duration": 22,
    "start_time": "2022-12-29T17:36:19.872Z"
   },
   {
    "duration": 34,
    "start_time": "2022-12-29T17:38:10.410Z"
   },
   {
    "duration": 20,
    "start_time": "2022-12-29T17:38:21.748Z"
   },
   {
    "duration": 4,
    "start_time": "2022-12-29T17:57:42.723Z"
   },
   {
    "duration": 18,
    "start_time": "2022-12-29T17:57:45.877Z"
   },
   {
    "duration": 11,
    "start_time": "2022-12-29T17:57:54.758Z"
   },
   {
    "duration": 18,
    "start_time": "2022-12-29T17:57:59.666Z"
   },
   {
    "duration": 7,
    "start_time": "2022-12-29T17:59:00.328Z"
   },
   {
    "duration": 6,
    "start_time": "2022-12-29T17:59:09.526Z"
   },
   {
    "duration": 5,
    "start_time": "2022-12-29T17:59:27.197Z"
   },
   {
    "duration": 7,
    "start_time": "2022-12-29T17:59:32.658Z"
   },
   {
    "duration": 10,
    "start_time": "2022-12-29T18:03:44.181Z"
   },
   {
    "duration": 8,
    "start_time": "2022-12-29T18:03:52.971Z"
   },
   {
    "duration": 14,
    "start_time": "2022-12-29T18:04:01.698Z"
   },
   {
    "duration": 48,
    "start_time": "2022-12-29T18:07:19.313Z"
   },
   {
    "duration": 35,
    "start_time": "2022-12-29T18:07:25.729Z"
   },
   {
    "duration": 4,
    "start_time": "2022-12-29T18:07:26.830Z"
   },
   {
    "duration": 12,
    "start_time": "2022-12-29T18:07:28.572Z"
   },
   {
    "duration": 737,
    "start_time": "2022-12-29T18:10:04.750Z"
   },
   {
    "duration": 719,
    "start_time": "2022-12-29T18:10:26.246Z"
   },
   {
    "duration": 8,
    "start_time": "2022-12-29T18:10:39.146Z"
   },
   {
    "duration": 7,
    "start_time": "2022-12-29T18:11:11.667Z"
   },
   {
    "duration": 4,
    "start_time": "2022-12-29T18:11:58.408Z"
   },
   {
    "duration": 3,
    "start_time": "2022-12-29T18:12:15.095Z"
   },
   {
    "duration": 2,
    "start_time": "2022-12-29T18:12:20.969Z"
   },
   {
    "duration": 5,
    "start_time": "2022-12-29T18:12:24.043Z"
   },
   {
    "duration": 476,
    "start_time": "2022-12-29T18:12:39.256Z"
   },
   {
    "duration": 210,
    "start_time": "2022-12-29T18:13:16.829Z"
   },
   {
    "duration": 6,
    "start_time": "2022-12-29T18:20:37.506Z"
   },
   {
    "duration": 6,
    "start_time": "2022-12-29T18:20:51.423Z"
   },
   {
    "duration": 5,
    "start_time": "2022-12-29T18:27:57.971Z"
   },
   {
    "duration": 10,
    "start_time": "2022-12-29T18:28:05.264Z"
   },
   {
    "duration": 681,
    "start_time": "2022-12-29T18:28:17.753Z"
   },
   {
    "duration": 9,
    "start_time": "2022-12-29T18:28:29.932Z"
   },
   {
    "duration": 9,
    "start_time": "2022-12-29T18:28:40.781Z"
   },
   {
    "duration": 8,
    "start_time": "2022-12-29T18:39:15.773Z"
   },
   {
    "duration": 7,
    "start_time": "2022-12-29T18:39:28.676Z"
   },
   {
    "duration": 5,
    "start_time": "2022-12-29T18:40:35.870Z"
   },
   {
    "duration": 7,
    "start_time": "2022-12-29T18:40:45.534Z"
   },
   {
    "duration": 36,
    "start_time": "2022-12-29T18:43:08.834Z"
   },
   {
    "duration": 36,
    "start_time": "2022-12-29T18:43:52.658Z"
   },
   {
    "duration": 109,
    "start_time": "2022-12-29T19:02:29.567Z"
   },
   {
    "duration": 18,
    "start_time": "2022-12-29T19:09:27.095Z"
   },
   {
    "duration": 36,
    "start_time": "2022-12-29T19:09:29.766Z"
   },
   {
    "duration": 5,
    "start_time": "2022-12-29T19:09:30.458Z"
   },
   {
    "duration": 9,
    "start_time": "2022-12-29T19:09:47.858Z"
   },
   {
    "duration": 31,
    "start_time": "2022-12-29T19:10:27.695Z"
   },
   {
    "duration": 31,
    "start_time": "2022-12-29T19:10:29.826Z"
   },
   {
    "duration": 37,
    "start_time": "2022-12-29T19:10:44.947Z"
   },
   {
    "duration": 10,
    "start_time": "2022-12-29T19:17:08.141Z"
   },
   {
    "duration": 24,
    "start_time": "2022-12-29T19:17:13.490Z"
   },
   {
    "duration": 7,
    "start_time": "2022-12-29T19:17:40.977Z"
   },
   {
    "duration": 17,
    "start_time": "2022-12-29T19:17:42.205Z"
   },
   {
    "duration": 3,
    "start_time": "2022-12-29T19:19:17.817Z"
   },
   {
    "duration": 37,
    "start_time": "2022-12-29T19:19:17.822Z"
   },
   {
    "duration": 4,
    "start_time": "2022-12-29T19:19:17.861Z"
   },
   {
    "duration": 18,
    "start_time": "2022-12-29T19:19:17.867Z"
   },
   {
    "duration": 6,
    "start_time": "2022-12-29T19:19:17.888Z"
   },
   {
    "duration": 36,
    "start_time": "2022-12-29T19:19:17.896Z"
   },
   {
    "duration": 31,
    "start_time": "2022-12-29T19:19:17.934Z"
   },
   {
    "duration": 7,
    "start_time": "2022-12-29T19:19:17.967Z"
   },
   {
    "duration": 18,
    "start_time": "2022-12-29T19:19:24.238Z"
   },
   {
    "duration": 10,
    "start_time": "2022-12-29T19:19:49.724Z"
   },
   {
    "duration": 16,
    "start_time": "2022-12-29T19:19:51.943Z"
   },
   {
    "duration": 10,
    "start_time": "2022-12-29T19:26:59.605Z"
   },
   {
    "duration": 10,
    "start_time": "2022-12-29T19:27:54.807Z"
   },
   {
    "duration": 5,
    "start_time": "2022-12-29T19:28:02.908Z"
   },
   {
    "duration": 3,
    "start_time": "2022-12-29T19:43:21.483Z"
   },
   {
    "duration": 40,
    "start_time": "2022-12-29T19:43:21.488Z"
   },
   {
    "duration": 4,
    "start_time": "2022-12-29T19:43:21.529Z"
   },
   {
    "duration": 16,
    "start_time": "2022-12-29T19:43:21.534Z"
   },
   {
    "duration": 7,
    "start_time": "2022-12-29T19:43:21.552Z"
   },
   {
    "duration": 33,
    "start_time": "2022-12-29T19:43:21.561Z"
   },
   {
    "duration": 32,
    "start_time": "2022-12-29T19:43:21.630Z"
   },
   {
    "duration": 6,
    "start_time": "2022-12-29T19:43:21.664Z"
   },
   {
    "duration": 12,
    "start_time": "2022-12-29T19:43:21.672Z"
   },
   {
    "duration": 21,
    "start_time": "2022-12-29T19:43:21.685Z"
   },
   {
    "duration": 18,
    "start_time": "2022-12-29T19:43:21.708Z"
   },
   {
    "duration": 18,
    "start_time": "2022-12-29T19:43:28.179Z"
   },
   {
    "duration": 5,
    "start_time": "2022-12-29T19:44:37.914Z"
   },
   {
    "duration": 10,
    "start_time": "2022-12-29T19:47:15.402Z"
   },
   {
    "duration": 3,
    "start_time": "2022-12-29T19:47:47.035Z"
   },
   {
    "duration": 2729,
    "start_time": "2022-12-29T19:50:45.830Z"
   },
   {
    "duration": 19,
    "start_time": "2022-12-29T19:51:01.905Z"
   },
   {
    "duration": 11,
    "start_time": "2022-12-29T19:51:19.640Z"
   },
   {
    "duration": 5,
    "start_time": "2022-12-29T19:51:27.433Z"
   },
   {
    "duration": 6,
    "start_time": "2022-12-29T19:54:44.719Z"
   },
   {
    "duration": 27,
    "start_time": "2023-01-02T21:10:22.885Z"
   },
   {
    "duration": 1036,
    "start_time": "2023-01-02T21:10:53.057Z"
   },
   {
    "duration": 38,
    "start_time": "2023-01-02T21:10:54.095Z"
   },
   {
    "duration": 5,
    "start_time": "2023-01-02T21:10:54.135Z"
   },
   {
    "duration": 20,
    "start_time": "2023-01-02T21:10:54.142Z"
   },
   {
    "duration": 8,
    "start_time": "2023-01-02T21:10:54.163Z"
   },
   {
    "duration": 46,
    "start_time": "2023-01-02T21:10:54.172Z"
   },
   {
    "duration": 31,
    "start_time": "2023-01-02T21:10:54.220Z"
   },
   {
    "duration": 7,
    "start_time": "2023-01-02T21:10:54.253Z"
   },
   {
    "duration": 13,
    "start_time": "2023-01-02T21:10:54.261Z"
   },
   {
    "duration": 24,
    "start_time": "2023-01-02T21:10:54.277Z"
   },
   {
    "duration": 26,
    "start_time": "2023-01-02T21:10:54.302Z"
   },
   {
    "duration": 16,
    "start_time": "2023-01-02T21:10:54.330Z"
   },
   {
    "duration": 2175,
    "start_time": "2023-01-02T21:10:54.348Z"
   },
   {
    "duration": 6,
    "start_time": "2023-01-02T21:10:56.525Z"
   },
   {
    "duration": 131,
    "start_time": "2023-01-02T21:10:56.532Z"
   },
   {
    "duration": 18,
    "start_time": "2023-01-02T21:11:28.243Z"
   },
   {
    "duration": 1947,
    "start_time": "2023-01-02T21:12:05.937Z"
   },
   {
    "duration": 7,
    "start_time": "2023-01-02T21:12:10.771Z"
   },
   {
    "duration": 16,
    "start_time": "2023-01-02T21:12:15.557Z"
   },
   {
    "duration": 144,
    "start_time": "2023-01-02T21:12:24.153Z"
   },
   {
    "duration": 146,
    "start_time": "2023-01-02T21:15:56.494Z"
   },
   {
    "duration": 17085,
    "start_time": "2023-01-02T21:17:29.500Z"
   },
   {
    "duration": 15,
    "start_time": "2023-01-02T21:19:37.329Z"
   },
   {
    "duration": 4,
    "start_time": "2023-01-02T21:20:16.929Z"
   },
   {
    "duration": 305,
    "start_time": "2023-01-02T21:20:22.203Z"
   },
   {
    "duration": 159,
    "start_time": "2023-01-02T21:21:01.482Z"
   },
   {
    "duration": 204,
    "start_time": "2023-01-02T21:21:44.726Z"
   },
   {
    "duration": 613,
    "start_time": "2023-01-02T21:38:24.450Z"
   },
   {
    "duration": 283,
    "start_time": "2023-01-02T21:39:47.101Z"
   },
   {
    "duration": 328,
    "start_time": "2023-01-02T21:40:26.972Z"
   },
   {
    "duration": 17370,
    "start_time": "2023-01-02T21:41:07.142Z"
   },
   {
    "duration": 17218,
    "start_time": "2023-01-02T21:41:40.863Z"
   },
   {
    "duration": 5,
    "start_time": "2023-01-02T21:53:15.303Z"
   },
   {
    "duration": 20,
    "start_time": "2023-01-02T21:55:22.868Z"
   },
   {
    "duration": 4,
    "start_time": "2023-01-02T21:55:54.941Z"
   },
   {
    "duration": 19,
    "start_time": "2023-01-02T21:56:00.831Z"
   },
   {
    "duration": 6,
    "start_time": "2023-01-02T21:56:22.030Z"
   },
   {
    "duration": 18,
    "start_time": "2023-01-02T21:56:22.705Z"
   },
   {
    "duration": 807,
    "start_time": "2023-01-02T21:56:57.521Z"
   },
   {
    "duration": 384,
    "start_time": "2023-01-02T21:58:06.913Z"
   },
   {
    "duration": 17182,
    "start_time": "2023-01-02T22:00:40.155Z"
   },
   {
    "duration": 94,
    "start_time": "2023-01-02T22:17:16.618Z"
   },
   {
    "duration": 4,
    "start_time": "2023-01-02T22:17:39.883Z"
   },
   {
    "duration": 46,
    "start_time": "2023-01-02T22:17:39.889Z"
   },
   {
    "duration": 5,
    "start_time": "2023-01-02T22:17:39.937Z"
   },
   {
    "duration": 13,
    "start_time": "2023-01-02T22:17:39.944Z"
   },
   {
    "duration": 7,
    "start_time": "2023-01-02T22:17:39.959Z"
   },
   {
    "duration": 34,
    "start_time": "2023-01-02T22:17:39.968Z"
   },
   {
    "duration": 36,
    "start_time": "2023-01-02T22:17:40.004Z"
   },
   {
    "duration": 7,
    "start_time": "2023-01-02T22:17:40.042Z"
   },
   {
    "duration": 13,
    "start_time": "2023-01-02T22:17:40.051Z"
   },
   {
    "duration": 33,
    "start_time": "2023-01-02T22:17:40.065Z"
   },
   {
    "duration": 16,
    "start_time": "2023-01-02T22:17:40.099Z"
   },
   {
    "duration": 17,
    "start_time": "2023-01-02T22:17:40.117Z"
   },
   {
    "duration": 1829,
    "start_time": "2023-01-02T22:17:40.135Z"
   },
   {
    "duration": 6,
    "start_time": "2023-01-02T22:17:41.967Z"
   },
   {
    "duration": 29,
    "start_time": "2023-01-02T22:17:41.975Z"
   },
   {
    "duration": 53,
    "start_time": "2023-01-02T22:18:08.198Z"
   },
   {
    "duration": 922,
    "start_time": "2023-01-02T22:19:22.484Z"
   },
   {
    "duration": 356,
    "start_time": "2023-01-02T22:20:51.478Z"
   },
   {
    "duration": 921,
    "start_time": "2023-01-02T22:25:29.870Z"
   },
   {
    "duration": 626,
    "start_time": "2023-01-02T22:28:26.920Z"
   },
   {
    "duration": 580,
    "start_time": "2023-01-02T22:28:40.806Z"
   },
   {
    "duration": 582,
    "start_time": "2023-01-02T22:29:00.071Z"
   },
   {
    "duration": 857,
    "start_time": "2023-01-02T22:29:37.543Z"
   },
   {
    "duration": 10,
    "start_time": "2023-01-02T22:31:02.490Z"
   },
   {
    "duration": 15,
    "start_time": "2023-01-02T22:31:35.173Z"
   },
   {
    "duration": 523,
    "start_time": "2023-01-02T22:40:53.506Z"
   },
   {
    "duration": 41,
    "start_time": "2023-01-02T22:43:28.435Z"
   },
   {
    "duration": 726,
    "start_time": "2023-01-02T22:43:36.517Z"
   },
   {
    "duration": 541,
    "start_time": "2023-01-02T22:43:49.193Z"
   },
   {
    "duration": 501,
    "start_time": "2023-01-02T22:48:06.638Z"
   },
   {
    "duration": 575,
    "start_time": "2023-01-02T22:50:08.230Z"
   },
   {
    "duration": 449,
    "start_time": "2023-01-02T22:50:36.915Z"
   },
   {
    "duration": 586,
    "start_time": "2023-01-02T22:50:49.511Z"
   },
   {
    "duration": 616,
    "start_time": "2023-01-02T22:51:57.331Z"
   },
   {
    "duration": 613,
    "start_time": "2023-01-02T22:52:07.538Z"
   },
   {
    "duration": 8,
    "start_time": "2023-01-02T23:10:47.058Z"
   },
   {
    "duration": 378,
    "start_time": "2023-01-02T23:11:03.560Z"
   },
   {
    "duration": 9,
    "start_time": "2023-01-02T23:12:00.378Z"
   },
   {
    "duration": 454,
    "start_time": "2023-01-02T23:12:01.304Z"
   },
   {
    "duration": 7,
    "start_time": "2023-01-02T23:14:12.256Z"
   },
   {
    "duration": 16769,
    "start_time": "2023-01-02T23:14:12.767Z"
   },
   {
    "duration": 8,
    "start_time": "2023-01-02T23:14:47.449Z"
   },
   {
    "duration": 16618,
    "start_time": "2023-01-02T23:14:53.956Z"
   },
   {
    "duration": 8,
    "start_time": "2023-01-02T23:16:42.035Z"
   },
   {
    "duration": 17062,
    "start_time": "2023-01-02T23:16:43.610Z"
   },
   {
    "duration": 8,
    "start_time": "2023-01-02T23:18:18.537Z"
   },
   {
    "duration": 1231,
    "start_time": "2023-01-02T23:19:15.746Z"
   },
   {
    "duration": 41,
    "start_time": "2023-01-02T23:19:16.978Z"
   },
   {
    "duration": 3,
    "start_time": "2023-01-02T23:19:17.021Z"
   },
   {
    "duration": 16,
    "start_time": "2023-01-02T23:19:17.026Z"
   },
   {
    "duration": 6,
    "start_time": "2023-01-02T23:19:17.044Z"
   },
   {
    "duration": 32,
    "start_time": "2023-01-02T23:19:17.052Z"
   },
   {
    "duration": 40,
    "start_time": "2023-01-02T23:19:17.085Z"
   },
   {
    "duration": 7,
    "start_time": "2023-01-02T23:19:17.127Z"
   },
   {
    "duration": 8,
    "start_time": "2023-01-02T23:19:17.136Z"
   },
   {
    "duration": 11,
    "start_time": "2023-01-02T23:19:17.145Z"
   },
   {
    "duration": 42,
    "start_time": "2023-01-02T23:19:17.158Z"
   },
   {
    "duration": 15,
    "start_time": "2023-01-02T23:19:17.201Z"
   },
   {
    "duration": 1837,
    "start_time": "2023-01-02T23:19:17.218Z"
   },
   {
    "duration": 5,
    "start_time": "2023-01-02T23:19:19.058Z"
   },
   {
    "duration": 9,
    "start_time": "2023-01-02T23:19:19.065Z"
   },
   {
    "duration": 17078,
    "start_time": "2023-01-02T23:19:19.075Z"
   },
   {
    "duration": 3,
    "start_time": "2023-01-02T23:19:58.242Z"
   },
   {
    "duration": 10,
    "start_time": "2023-01-02T23:20:10.328Z"
   },
   {
    "duration": 17088,
    "start_time": "2023-01-02T23:20:11.253Z"
   },
   {
    "duration": 3,
    "start_time": "2023-01-02T23:31:10.232Z"
   },
   {
    "duration": 9,
    "start_time": "2023-01-02T23:31:11.966Z"
   },
   {
    "duration": 22640,
    "start_time": "2023-01-02T23:32:02.669Z"
   },
   {
    "duration": 10,
    "start_time": "2023-01-02T23:38:47.523Z"
   },
   {
    "duration": 11,
    "start_time": "2023-01-02T23:39:09.035Z"
   },
   {
    "duration": 10,
    "start_time": "2023-01-02T23:39:48.593Z"
   },
   {
    "duration": 11165,
    "start_time": "2023-01-02T23:40:04.356Z"
   },
   {
    "duration": 8,
    "start_time": "2023-01-02T23:42:59.232Z"
   },
   {
    "duration": 9,
    "start_time": "2023-01-02T23:43:50.503Z"
   },
   {
    "duration": 18369,
    "start_time": "2023-01-02T23:43:52.178Z"
   },
   {
    "duration": 2,
    "start_time": "2023-01-03T09:23:45.436Z"
   },
   {
    "duration": 10,
    "start_time": "2023-01-03T09:25:53.555Z"
   },
   {
    "duration": 255,
    "start_time": "2023-01-03T09:28:23.552Z"
   },
   {
    "duration": 3,
    "start_time": "2023-01-03T09:28:39.815Z"
   },
   {
    "duration": 24,
    "start_time": "2023-01-03T09:44:57.022Z"
   },
   {
    "duration": 234,
    "start_time": "2023-01-03T09:46:14.871Z"
   },
   {
    "duration": 137,
    "start_time": "2023-01-03T09:47:06.077Z"
   },
   {
    "duration": 7,
    "start_time": "2023-01-03T10:17:06.756Z"
   },
   {
    "duration": 4,
    "start_time": "2023-01-03T10:22:19.967Z"
   },
   {
    "duration": 73,
    "start_time": "2023-01-03T10:22:19.973Z"
   },
   {
    "duration": 4,
    "start_time": "2023-01-03T10:22:20.048Z"
   },
   {
    "duration": 51,
    "start_time": "2023-01-03T10:22:20.054Z"
   },
   {
    "duration": 9,
    "start_time": "2023-01-03T10:22:20.108Z"
   },
   {
    "duration": 56,
    "start_time": "2023-01-03T10:22:20.118Z"
   },
   {
    "duration": 58,
    "start_time": "2023-01-03T10:22:20.176Z"
   },
   {
    "duration": 6,
    "start_time": "2023-01-03T10:22:20.236Z"
   },
   {
    "duration": 46,
    "start_time": "2023-01-03T10:22:20.244Z"
   },
   {
    "duration": 28,
    "start_time": "2023-01-03T10:22:20.291Z"
   },
   {
    "duration": 36,
    "start_time": "2023-01-03T10:22:20.321Z"
   },
   {
    "duration": 18,
    "start_time": "2023-01-03T10:22:20.359Z"
   },
   {
    "duration": 1927,
    "start_time": "2023-01-03T10:22:20.379Z"
   },
   {
    "duration": 6,
    "start_time": "2023-01-03T10:22:22.310Z"
   },
   {
    "duration": 18,
    "start_time": "2023-01-03T10:22:22.318Z"
   },
   {
    "duration": 19662,
    "start_time": "2023-01-03T10:22:22.338Z"
   },
   {
    "duration": 8,
    "start_time": "2023-01-03T10:22:42.004Z"
   },
   {
    "duration": 13,
    "start_time": "2023-01-03T10:22:42.014Z"
   },
   {
    "duration": 24360,
    "start_time": "2023-01-03T10:22:42.029Z"
   },
   {
    "duration": 22,
    "start_time": "2023-01-03T10:23:06.390Z"
   },
   {
    "duration": 12020,
    "start_time": "2023-01-03T10:23:06.414Z"
   },
   {
    "duration": 8,
    "start_time": "2023-01-03T10:23:18.436Z"
   },
   {
    "duration": 19395,
    "start_time": "2023-01-03T10:23:18.446Z"
   },
   {
    "duration": 258,
    "start_time": "2023-01-03T10:23:37.843Z"
   },
   {
    "duration": 46,
    "start_time": "2023-01-03T10:24:23.616Z"
   },
   {
    "duration": 129,
    "start_time": "2023-01-03T10:25:50.298Z"
   },
   {
    "duration": 25,
    "start_time": "2023-01-03T10:25:57.732Z"
   },
   {
    "duration": 1314,
    "start_time": "2023-01-03T10:26:32.910Z"
   },
   {
    "duration": 40,
    "start_time": "2023-01-03T10:26:34.226Z"
   },
   {
    "duration": 4,
    "start_time": "2023-01-03T10:26:34.268Z"
   },
   {
    "duration": 22,
    "start_time": "2023-01-03T10:26:34.273Z"
   },
   {
    "duration": 7,
    "start_time": "2023-01-03T10:26:34.297Z"
   },
   {
    "duration": 37,
    "start_time": "2023-01-03T10:26:34.305Z"
   },
   {
    "duration": 34,
    "start_time": "2023-01-03T10:26:34.343Z"
   },
   {
    "duration": 24,
    "start_time": "2023-01-03T10:26:34.378Z"
   },
   {
    "duration": 10,
    "start_time": "2023-01-03T10:26:34.404Z"
   },
   {
    "duration": 12,
    "start_time": "2023-01-03T10:26:34.416Z"
   },
   {
    "duration": 23,
    "start_time": "2023-01-03T10:26:34.430Z"
   },
   {
    "duration": 16,
    "start_time": "2023-01-03T10:26:34.455Z"
   },
   {
    "duration": 2086,
    "start_time": "2023-01-03T10:26:34.472Z"
   },
   {
    "duration": 7,
    "start_time": "2023-01-03T10:26:36.561Z"
   },
   {
    "duration": 10,
    "start_time": "2023-01-03T10:26:36.569Z"
   },
   {
    "duration": 17653,
    "start_time": "2023-01-03T10:26:36.580Z"
   },
   {
    "duration": 4,
    "start_time": "2023-01-03T10:26:54.234Z"
   },
   {
    "duration": 11,
    "start_time": "2023-01-03T10:26:54.240Z"
   },
   {
    "duration": 23591,
    "start_time": "2023-01-03T10:26:54.253Z"
   },
   {
    "duration": 10,
    "start_time": "2023-01-03T10:27:17.845Z"
   },
   {
    "duration": 11655,
    "start_time": "2023-01-03T10:27:17.857Z"
   },
   {
    "duration": 9,
    "start_time": "2023-01-03T10:27:29.513Z"
   },
   {
    "duration": 17648,
    "start_time": "2023-01-03T10:27:29.524Z"
   },
   {
    "duration": 224,
    "start_time": "2023-01-03T10:27:47.173Z"
   },
   {
    "duration": 112,
    "start_time": "2023-01-03T10:27:47.398Z"
   },
   {
    "duration": 0,
    "start_time": "2023-01-03T10:27:47.512Z"
   },
   {
    "duration": 131,
    "start_time": "2023-01-03T10:28:22.601Z"
   },
   {
    "duration": 7,
    "start_time": "2023-01-03T10:28:30.144Z"
   },
   {
    "duration": 69,
    "start_time": "2023-01-03T10:31:57.746Z"
   },
   {
    "duration": 131,
    "start_time": "2023-01-03T10:32:06.126Z"
   },
   {
    "duration": 7,
    "start_time": "2023-01-03T10:32:11.250Z"
   },
   {
    "duration": 118,
    "start_time": "2023-01-03T11:01:15.511Z"
   },
   {
    "duration": 17949,
    "start_time": "2023-01-03T11:01:17.030Z"
   },
   {
    "duration": 8,
    "start_time": "2023-01-03T11:02:12.573Z"
   },
   {
    "duration": 17537,
    "start_time": "2023-01-03T11:02:14.183Z"
   },
   {
    "duration": 1268,
    "start_time": "2023-01-03T11:07:44.648Z"
   },
   {
    "duration": 42,
    "start_time": "2023-01-03T11:07:45.917Z"
   },
   {
    "duration": 5,
    "start_time": "2023-01-03T11:07:45.960Z"
   },
   {
    "duration": 17,
    "start_time": "2023-01-03T11:07:45.966Z"
   },
   {
    "duration": 7,
    "start_time": "2023-01-03T11:07:45.985Z"
   },
   {
    "duration": 37,
    "start_time": "2023-01-03T11:07:45.994Z"
   },
   {
    "duration": 41,
    "start_time": "2023-01-03T11:07:46.034Z"
   },
   {
    "duration": 27,
    "start_time": "2023-01-03T11:07:46.076Z"
   },
   {
    "duration": 29,
    "start_time": "2023-01-03T11:07:46.106Z"
   },
   {
    "duration": 20,
    "start_time": "2023-01-03T11:07:46.137Z"
   },
   {
    "duration": 25,
    "start_time": "2023-01-03T11:07:46.159Z"
   },
   {
    "duration": 22,
    "start_time": "2023-01-03T11:07:46.186Z"
   },
   {
    "duration": 1865,
    "start_time": "2023-01-03T11:07:46.210Z"
   },
   {
    "duration": 6,
    "start_time": "2023-01-03T11:07:48.077Z"
   },
   {
    "duration": 11,
    "start_time": "2023-01-03T11:07:48.085Z"
   },
   {
    "duration": 17779,
    "start_time": "2023-01-03T11:07:48.098Z"
   },
   {
    "duration": 4,
    "start_time": "2023-01-03T11:08:05.879Z"
   },
   {
    "duration": 48,
    "start_time": "2023-01-03T11:08:05.885Z"
   },
   {
    "duration": 23153,
    "start_time": "2023-01-03T11:08:05.935Z"
   },
   {
    "duration": 13,
    "start_time": "2023-01-03T11:08:29.090Z"
   },
   {
    "duration": 11540,
    "start_time": "2023-01-03T11:08:29.105Z"
   },
   {
    "duration": 8,
    "start_time": "2023-01-03T11:08:40.647Z"
   },
   {
    "duration": 17856,
    "start_time": "2023-01-03T11:08:40.657Z"
   },
   {
    "duration": 180,
    "start_time": "2023-01-03T11:08:58.515Z"
   },
   {
    "duration": 141,
    "start_time": "2023-01-03T11:08:58.698Z"
   },
   {
    "duration": 6,
    "start_time": "2023-01-03T11:08:58.841Z"
   },
   {
    "duration": 4,
    "start_time": "2023-01-03T11:22:06.526Z"
   },
   {
    "duration": 10,
    "start_time": "2023-01-03T11:22:15.515Z"
   },
   {
    "duration": 5,
    "start_time": "2023-01-03T11:23:39.884Z"
   },
   {
    "duration": 14,
    "start_time": "2023-01-03T11:24:03.820Z"
   },
   {
    "duration": 12,
    "start_time": "2023-01-03T11:24:45.858Z"
   },
   {
    "duration": 11,
    "start_time": "2023-01-03T11:25:11.101Z"
   },
   {
    "duration": 1533,
    "start_time": "2023-01-03T11:30:10.223Z"
   },
   {
    "duration": 50,
    "start_time": "2023-01-03T11:30:11.758Z"
   },
   {
    "duration": 6,
    "start_time": "2023-01-03T11:30:11.813Z"
   },
   {
    "duration": 16,
    "start_time": "2023-01-03T11:30:11.821Z"
   },
   {
    "duration": 9,
    "start_time": "2023-01-03T11:30:11.839Z"
   },
   {
    "duration": 37,
    "start_time": "2023-01-03T11:30:11.850Z"
   },
   {
    "duration": 54,
    "start_time": "2023-01-03T11:30:11.896Z"
   },
   {
    "duration": 11,
    "start_time": "2023-01-03T11:30:11.952Z"
   },
   {
    "duration": 32,
    "start_time": "2023-01-03T11:30:11.965Z"
   },
   {
    "duration": 23,
    "start_time": "2023-01-03T11:30:11.999Z"
   },
   {
    "duration": 21,
    "start_time": "2023-01-03T11:30:12.024Z"
   },
   {
    "duration": 18,
    "start_time": "2023-01-03T11:30:12.047Z"
   },
   {
    "duration": 2190,
    "start_time": "2023-01-03T11:30:12.067Z"
   },
   {
    "duration": 11,
    "start_time": "2023-01-03T11:30:14.264Z"
   },
   {
    "duration": 31,
    "start_time": "2023-01-03T11:30:14.278Z"
   },
   {
    "duration": 20054,
    "start_time": "2023-01-03T11:30:14.310Z"
   },
   {
    "duration": 5,
    "start_time": "2023-01-03T11:30:34.366Z"
   },
   {
    "duration": 25,
    "start_time": "2023-01-03T11:30:34.373Z"
   },
   {
    "duration": 26431,
    "start_time": "2023-01-03T11:30:34.399Z"
   },
   {
    "duration": 14,
    "start_time": "2023-01-03T11:31:00.832Z"
   },
   {
    "duration": 13065,
    "start_time": "2023-01-03T11:31:00.847Z"
   },
   {
    "duration": 14,
    "start_time": "2023-01-03T11:31:13.914Z"
   },
   {
    "duration": 20653,
    "start_time": "2023-01-03T11:31:13.930Z"
   },
   {
    "duration": 226,
    "start_time": "2023-01-03T11:31:34.585Z"
   },
   {
    "duration": 232,
    "start_time": "2023-01-03T11:31:34.817Z"
   },
   {
    "duration": 8,
    "start_time": "2023-01-03T11:31:35.052Z"
   },
   {
    "duration": 9,
    "start_time": "2023-01-03T11:31:35.062Z"
   },
   {
    "duration": 28,
    "start_time": "2023-01-03T11:31:35.074Z"
   },
   {
    "duration": 35,
    "start_time": "2023-01-03T11:31:35.104Z"
   },
   {
    "duration": 9,
    "start_time": "2023-01-03T11:43:49.513Z"
   },
   {
    "duration": 5,
    "start_time": "2023-01-03T11:43:52.276Z"
   },
   {
    "duration": 5,
    "start_time": "2023-01-03T11:44:06.361Z"
   },
   {
    "duration": 1266,
    "start_time": "2023-01-03T11:44:56.931Z"
   },
   {
    "duration": 40,
    "start_time": "2023-01-03T11:44:58.199Z"
   },
   {
    "duration": 4,
    "start_time": "2023-01-03T11:44:58.240Z"
   },
   {
    "duration": 12,
    "start_time": "2023-01-03T11:44:58.245Z"
   },
   {
    "duration": 12,
    "start_time": "2023-01-03T11:44:58.258Z"
   },
   {
    "duration": 32,
    "start_time": "2023-01-03T11:44:58.271Z"
   },
   {
    "duration": 31,
    "start_time": "2023-01-03T11:44:58.304Z"
   },
   {
    "duration": 6,
    "start_time": "2023-01-03T11:44:58.337Z"
   },
   {
    "duration": 10,
    "start_time": "2023-01-03T11:44:58.345Z"
   },
   {
    "duration": 19,
    "start_time": "2023-01-03T11:44:58.356Z"
   },
   {
    "duration": 34,
    "start_time": "2023-01-03T11:44:58.377Z"
   },
   {
    "duration": 15,
    "start_time": "2023-01-03T11:44:58.412Z"
   },
   {
    "duration": 1861,
    "start_time": "2023-01-03T11:44:58.428Z"
   },
   {
    "duration": 7,
    "start_time": "2023-01-03T11:45:00.292Z"
   },
   {
    "duration": 19,
    "start_time": "2023-01-03T11:45:00.300Z"
   },
   {
    "duration": 17360,
    "start_time": "2023-01-03T11:45:00.320Z"
   },
   {
    "duration": 3,
    "start_time": "2023-01-03T11:45:17.682Z"
   },
   {
    "duration": 23,
    "start_time": "2023-01-03T11:45:17.687Z"
   },
   {
    "duration": 62,
    "start_time": "2023-01-03T14:00:54.086Z"
   },
   {
    "duration": 1353,
    "start_time": "2023-01-03T14:01:54.174Z"
   },
   {
    "duration": 42,
    "start_time": "2023-01-03T14:01:55.529Z"
   },
   {
    "duration": 3,
    "start_time": "2023-01-03T14:01:55.573Z"
   },
   {
    "duration": 16,
    "start_time": "2023-01-03T14:01:55.578Z"
   },
   {
    "duration": 7,
    "start_time": "2023-01-03T14:01:55.596Z"
   },
   {
    "duration": 34,
    "start_time": "2023-01-03T14:01:55.604Z"
   },
   {
    "duration": 56,
    "start_time": "2023-01-03T14:01:55.640Z"
   },
   {
    "duration": 8,
    "start_time": "2023-01-03T14:01:55.698Z"
   },
   {
    "duration": 1940,
    "start_time": "2023-01-03T14:01:55.708Z"
   },
   {
    "duration": 19,
    "start_time": "2023-01-03T14:02:08.372Z"
   },
   {
    "duration": 5,
    "start_time": "2023-01-03T14:02:28.298Z"
   },
   {
    "duration": 4,
    "start_time": "2023-01-03T14:02:39.077Z"
   },
   {
    "duration": 4,
    "start_time": "2023-01-03T14:02:50.704Z"
   },
   {
    "duration": 5,
    "start_time": "2023-01-03T14:02:53.849Z"
   },
   {
    "duration": 4,
    "start_time": "2023-01-03T14:03:07.096Z"
   },
   {
    "duration": 12,
    "start_time": "2023-01-03T14:03:14.434Z"
   },
   {
    "duration": 11,
    "start_time": "2023-01-03T14:03:25.441Z"
   },
   {
    "duration": 17,
    "start_time": "2023-01-03T14:03:32.718Z"
   },
   {
    "duration": 14,
    "start_time": "2023-01-03T14:05:11.363Z"
   },
   {
    "duration": 11,
    "start_time": "2023-01-03T14:05:46.484Z"
   },
   {
    "duration": 11,
    "start_time": "2023-01-03T14:06:36.412Z"
   },
   {
    "duration": 11,
    "start_time": "2023-01-03T14:10:18.069Z"
   },
   {
    "duration": 7,
    "start_time": "2023-01-03T14:10:18.082Z"
   },
   {
    "duration": 10,
    "start_time": "2023-01-03T14:10:18.090Z"
   },
   {
    "duration": 17898,
    "start_time": "2023-01-03T14:10:18.101Z"
   },
   {
    "duration": 5,
    "start_time": "2023-01-03T14:10:36.001Z"
   },
   {
    "duration": 32,
    "start_time": "2023-01-03T14:10:36.008Z"
   },
   {
    "duration": 24044,
    "start_time": "2023-01-03T14:10:36.041Z"
   },
   {
    "duration": 16,
    "start_time": "2023-01-03T14:11:00.087Z"
   },
   {
    "duration": 11400,
    "start_time": "2023-01-03T14:11:00.105Z"
   },
   {
    "duration": 10,
    "start_time": "2023-01-03T14:11:11.507Z"
   },
   {
    "duration": 18556,
    "start_time": "2023-01-03T14:11:11.518Z"
   },
   {
    "duration": 144,
    "start_time": "2023-01-03T14:11:30.075Z"
   },
   {
    "duration": 245,
    "start_time": "2023-01-03T14:11:30.221Z"
   },
   {
    "duration": 5,
    "start_time": "2023-01-03T14:11:30.469Z"
   },
   {
    "duration": 28,
    "start_time": "2023-01-03T14:11:30.476Z"
   },
   {
    "duration": 38,
    "start_time": "2023-01-03T14:11:30.506Z"
   },
   {
    "duration": 29,
    "start_time": "2023-01-03T14:11:30.547Z"
   },
   {
    "duration": 33,
    "start_time": "2023-01-03T14:11:30.578Z"
   },
   {
    "duration": 194,
    "start_time": "2023-01-03T14:20:20.411Z"
   },
   {
    "duration": 138,
    "start_time": "2023-01-03T14:20:51.056Z"
   },
   {
    "duration": 7,
    "start_time": "2023-01-03T14:20:54.730Z"
   },
   {
    "duration": 4,
    "start_time": "2023-01-03T14:20:58.314Z"
   },
   {
    "duration": 5,
    "start_time": "2023-01-03T14:20:58.811Z"
   },
   {
    "duration": 10,
    "start_time": "2023-01-03T14:20:59.287Z"
   },
   {
    "duration": 5,
    "start_time": "2023-01-03T14:21:04.570Z"
   },
   {
    "duration": 4,
    "start_time": "2023-01-03T14:22:02.929Z"
   },
   {
    "duration": 4,
    "start_time": "2023-01-03T14:22:12.245Z"
   },
   {
    "duration": 48,
    "start_time": "2023-01-03T14:39:26.106Z"
   }
  ],
  "kernelspec": {
   "display_name": "Python 3 (ipykernel)",
   "language": "python",
   "name": "python3"
  },
  "language_info": {
   "codemirror_mode": {
    "name": "ipython",
    "version": 3
   },
   "file_extension": ".py",
   "mimetype": "text/x-python",
   "name": "python",
   "nbconvert_exporter": "python",
   "pygments_lexer": "ipython3",
   "version": "3.9.12"
  },
  "toc": {
   "base_numbering": 1,
   "nav_menu": {},
   "number_sections": true,
   "sideBar": true,
   "skip_h1_title": true,
   "title_cell": "Содержание",
   "title_sidebar": "Contents",
   "toc_cell": true,
   "toc_position": {
    "height": "calc(100% - 180px)",
    "left": "10px",
    "top": "150px",
    "width": "165px"
   },
   "toc_section_display": true,
   "toc_window_display": true
  },
  "varInspector": {
   "cols": {
    "lenName": 16,
    "lenType": 16,
    "lenVar": 40
   },
   "kernels_config": {
    "python": {
     "delete_cmd_postfix": "",
     "delete_cmd_prefix": "del ",
     "library": "var_list.py",
     "varRefreshCmd": "print(var_dic_list())"
    },
    "r": {
     "delete_cmd_postfix": ") ",
     "delete_cmd_prefix": "rm(",
     "library": "var_list.r",
     "varRefreshCmd": "cat(var_dic_list()) "
    }
   },
   "types_to_exclude": [
    "module",
    "function",
    "builtin_function_or_method",
    "instance",
    "_Feature"
   ],
   "window_display": false
  }
 },
 "nbformat": 4,
 "nbformat_minor": 2
}
